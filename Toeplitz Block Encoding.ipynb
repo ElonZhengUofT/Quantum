{
 "cells": [
  {
   "cell_type": "markdown",
   "source": [
    "# Toeplitz Matrix\n",
    "A matrix is Toeplitz if every diagonal from top-left to bottom-right has the same element.\n",
    "For instance, the following matrix is Toeplitz:\n",
    "$$\n",
    "\\begin{bmatrix}\n",
    "1 & 2 & 3 & 4 \\\\\n",
    "5 & 1 & 2 & 3 \\\\\n",
    "9 & 5 & 1 & 2\n",
    "\\end{bmatrix}\n",
    "$$\n",
    "A square matrix is Toeplitz if and only if each of its $n-1$ diagonals is constant.\n",
    "So a general 4x4 matrix looks like this:\n",
    "$$\n",
    "\\begin{bmatrix}\n",
    "a & b & c & d \\\\\n",
    "e & a & b & c \\\\\n",
    "f & e & a & b \\\\\n",
    "g & f & e & a\n",
    "\\end{bmatrix}\n",
    "$$"
   ],
   "metadata": {
    "collapsed": false
   },
   "id": "30a144787ec49814"
  },
  {
   "cell_type": "markdown",
   "source": [
    "### Why we care about Toeplitz matrix?\n",
    "Toeplitz Ststem $Tx = b$ is more efficient to solve than general system $Ax = b$."
   ],
   "metadata": {
    "collapsed": false
   },
   "id": "8767cd9c9a9676d9"
  },
  {
   "cell_type": "markdown",
   "source": [
    "# Block encoding\n",
    "Block encoding is a technique that:\n",
    "$$\n",
    "\\begin{align}\n",
    "\\forall A \\in \\mathbb{C}^{2^n \\times 2^n}, \\exists U \\in \\mathbb{C}^{2^{n+m} \\times 2^{n+m}} \\text{ s.t. }\\\\\n",
    "(<0|^{\\otimes 2^m} \\otimes A I^{\\otimes 2^n})U(|0>^{\\otimes 2^m} \\otimes I^{\\otimes 2^n}) = \\alpha A\n",
    "\\end{align}\n",
    "$$\n",
    "and \n",
    "$$\n",
    "U=\n",
    "\\begin{bmatrix}\n",
    "\\frac{A}{\\alpha} & * \\\\\n",
    "* & *\n",
    "\\end{bmatrix}\n",
    "$$\n"
   ],
   "metadata": {
    "collapsed": false
   },
   "id": "1eeae71fdcb15870"
  },
  {
   "cell_type": "markdown",
   "source": [
    "## 1. Constructing Toeplitz matrix based on banded, circulant matrix\n",
    "The general Toeplitz matrix can be eaxpanded as\n",
    "$$\n",
    "\\begin{bmatrix}\n",
    "a & b & c & d & 0 & g & f & e \\\\\n",
    "e & a & b & c & d & 0 & g & f \\\\\n",
    "f & e & a & b & c & d & 0 & g \\\\\n",
    "g & f & e & a & b & c & d & 0 \\\\\n",
    "0 & g & f & e & a & b & c & d \\\\\n",
    "d & 0 & g & f & e & a & b & c \\\\\n",
    "c & d & 0 & g & f & e & a & b \\\\\n",
    "b & c & d & 0 & g & f & e & a\n",
    "\\end{bmatrix}\n",
    "$$\n",
    "So we can use 7-banded matrix to block encode the Toeplitz matrix.\n",
    "More generally, For a Toeplitz matrix of size $2^n \\times 2^n$, we can use put it into a $2^{n+1} \\times 2^{n+1}$ matrix with 2^{n+1}-1 banded matrix.\n",
    "so the final cost of ancilla qubit is approximately $log( 2^{n+1}) + 1 = n+2$."
   ],
   "metadata": {
    "collapsed": false
   },
   "id": "e7715186e0fec88e"
  },
  {
   "cell_type": "markdown",
   "source": [
    "Let's take a = 1, b = 2, c = 3, d = 4, e = 5, f = 6, g = 7 as an example."
   ],
   "metadata": {
    "collapsed": false
   },
   "id": "81933ae9b197f8e2"
  },
  {
   "cell_type": "markdown",
   "source": [
    "### 1.1 Constructing banded matrix\n",
    "We need a banded matrix of shift 0, 1, 3, 4, -1, -2, -3."
   ],
   "metadata": {
    "collapsed": false
   },
   "id": "365fc95600b89f"
  },
  {
   "cell_type": "code",
   "outputs": [
    {
     "name": "stdout",
     "output_type": "stream",
     "text": [
      "               ┌───┐\n",
      "q_0: ──■────■──┤ X ├\n",
      "       │  ┌─┴─┐└───┘\n",
      "q_1: ──■──┤ X ├─────\n",
      "     ┌─┴─┐└───┘     \n",
      "q_2: ┤ X ├──────────\n",
      "     └───┘          \n",
      "     ┌───┐               \n",
      "q_0: ┤ X ├──■─────────■──\n",
      "     ├───┤  │  ┌───┐┌─┴─┐\n",
      "q_1: ┤ X ├──■──┤ X ├┤ X ├\n",
      "     └───┘┌─┴─┐└───┘└───┘\n",
      "q_2: ─────┤ X ├──────────\n",
      "          └───┘          \n"
     ]
    }
   ],
   "source": [
    "from qiskit import QuantumCircuit, QuantumRegister, ClassicalRegister\n",
    "from qiskit.circuit.library import XGate\n",
    "from qiskit.quantum_info import Operator\n",
    "import qiskit.visualization as qv\n",
    "Add_1_circuit = QuantumCircuit(3)\n",
    "Add_1_circuit.ccx(0, 1, 2)\n",
    "Add_1_circuit.cx(0, 1)\n",
    "Add_1_circuit.x(0)\n",
    "qv.circuit_drawer(Add_1_circuit)\n",
    "print(Add_1_circuit)\n",
    "Add_1 = Add_1_circuit.to_gate(label='Add_1')\n",
    "\n",
    "Minus_1_circuit = QuantumCircuit(3)\n",
    "Minus_1_circuit.x(0)\n",
    "Minus_1_circuit.x(1)\n",
    "Minus_1_circuit.ccx(0, 1, 2)\n",
    "Minus_1_circuit.x(1)\n",
    "Minus_1_circuit.cx(0, 1)\n",
    "qv.circuit_drawer(Minus_1_circuit)\n",
    "print(Minus_1_circuit)\n",
    "Minus_1 = Minus_1_circuit.to_gate(label='Minus_1')\n",
    "\n",
    "B_circuit = QuantumCircuit(3)\n",
    "B_circuit.append(Minus_1, [0, 1, 2])\n",
    "B = B_circuit.to_gate(label='B')\n",
    "C_circuit = QuantumCircuit(3)\n",
    "C_circuit.append(Minus_1, [0, 1, 2])\n",
    "C_circuit.append(Minus_1, [0, 1, 2])\n",
    "C = C_circuit.to_gate(label='C')\n",
    "\n",
    "D_circuit = QuantumCircuit(3)\n",
    "D_circuit.append(Minus_1, [0, 1, 2])\n",
    "D_circuit.append(Minus_1, [0, 1, 2])\n",
    "D_circuit.append(Minus_1, [0, 1, 2])\n",
    "D = D_circuit.to_gate(label='D')\n",
    "E_circuit = QuantumCircuit(3)\n",
    "E_circuit.append(Add_1, [0, 1, 2])\n",
    "E = E_circuit.to_gate(label='E')\n",
    "F_circuit = QuantumCircuit(3)\n",
    "F_circuit.append(Add_1, [0, 1, 2])\n",
    "F_circuit.append(Add_1, [0, 1, 2])\n",
    "F = F_circuit.to_gate(label='F')\n",
    "G_circuit = QuantumCircuit(3)\n",
    "G_circuit.append(Add_1, [0, 1, 2])\n",
    "G_circuit.append(Add_1, [0, 1, 2])\n",
    "G_circuit.append(Add_1, [0, 1, 2])\n",
    "G = G_circuit.to_gate(label='G')"
   ],
   "metadata": {
    "collapsed": false,
    "ExecuteTime": {
     "end_time": "2024-08-09T17:04:56.693543Z",
     "start_time": "2024-08-09T17:04:56.610211Z"
    }
   },
   "id": "ab1c40126a743165",
   "execution_count": 101
  },
  {
   "cell_type": "markdown",
   "source": [
    "Then we need to additional 3 qubits to store the value of a, b, c, d, e, f, g to prepare the addition of the banded matrix."
   ],
   "metadata": {
    "collapsed": false
   },
   "id": "196859cf6e84ca43"
  },
  {
   "cell_type": "code",
   "outputs": [
    {
     "name": "stdout",
     "output_type": "stream",
     "text": [
      "the value is valid\n"
     ]
    }
   ],
   "source": [
    "import numpy as np\n",
    "c0 = np.sqrt(15 / 28)\n",
    "c1 = np.sqrt(2 / 5)\n",
    "c2 = np.sqrt(1 / 6)\n",
    "c3 = (np.sqrt(14 / 13) + np.sqrt(12 / 13)) / 2\n",
    "c4 = (np.sqrt(10 / 9) + np.sqrt(8 / 9)) / 2\n",
    "c5 = (np.sqrt(6 / 5) + np.sqrt(4 / 5)) / 2\n",
    "\n",
    "if c3 < 1 and c4 < 1 and c5 < 1:\n",
    "    print(\"the value is valid\")\n",
    "else:\n",
    "    print(\"the value is invalid\")\n",
    "\n",
    "theta_0 = 2 * np.arccos(c0)\n",
    "theta_1 = 2 * np.arccos(c1)\n",
    "theta_2 = 2 * np.arccos(c2)\n",
    "theta_3 = 2 * np.arccos(c3)\n",
    "theta_4 = 2 * np.arccos(c4)\n",
    "theta_5 = 2 * np.arccos(c5)"
   ],
   "metadata": {
    "collapsed": false,
    "ExecuteTime": {
     "end_time": "2024-08-09T17:04:56.747106Z",
     "start_time": "2024-08-09T17:04:56.701880Z"
    }
   },
   "id": "850acb867de6f48e",
   "execution_count": 102
  },
  {
   "cell_type": "code",
   "outputs": [],
   "source": [
    "R2 = QuantumCircuit(1)\n",
    "R2.ry(theta_2, 0)\n",
    "R2 = R2.to_gate(label='R2')\n",
    "cR2 = R2.control(2)\n",
    "R3 = QuantumCircuit(1)\n",
    "R3.ry(theta_3, 0)\n",
    "R3 = R3.to_gate(label='R3')\n",
    "cR3 = R3.control(2)\n",
    "R4 = QuantumCircuit(1)\n",
    "R4.ry(theta_4, 0)\n",
    "R4 = R4.to_gate(label='R4')\n",
    "cR4 = R4.control(2)\n",
    "R5 = QuantumCircuit(1)\n",
    "R5.ry(theta_5, 0)\n",
    "R5 = R5.to_gate(label='R5')\n",
    "cR5 = R5.control(2)\n",
    "hadamar = QuantumCircuit(1)\n",
    "hadamar.h(0)\n",
    "hadamar = hadamar.to_gate(label='H')\n",
    "hadamard_controlled = hadamar.control(2)"
   ],
   "metadata": {
    "collapsed": false,
    "ExecuteTime": {
     "end_time": "2024-08-09T17:04:56.796274Z",
     "start_time": "2024-08-09T17:04:56.773135Z"
    }
   },
   "id": "371bf358adfcbf07",
   "execution_count": 103
  },
  {
   "cell_type": "code",
   "outputs": [
    {
     "name": "stdout",
     "output_type": "stream",
     "text": [
      "         ┌────────────┐                     ┌───┐                              »\n",
      "prep__0: ┤ Ry(1.4993) ├──■────■──────────■──┤ X ├──────■─────────■─────────■───»\n",
      "         └────────────┘┌─┴─┐┌─┴──┐       │  └───┘┌─────┴──────┐  │  ┌───┐  │   »\n",
      "prep__1: ──────────────┤ H ├┤ R3 ├───────■───────┤ Ry(1.7722) ├──■──┤ X ├──■───»\n",
      "             ┌───┐     └───┘└─┬──┘┌───┐┌─┴─┐     └────────────┘┌─┴─┐└───┘┌─┴──┐»\n",
      "prep__2: ────┤ X ├────────────■───┤ X ├┤ X ├───────────────────┤ H ├─────┤ R2 ├»\n",
      "             └───┘                └───┘└───┘                   └───┘     └────┘»\n",
      "«         ┌───┐┌───┐┌───┐      ┌───┐┌────┐     \n",
      "«prep__0: ┤ X ├┤ H ├┤ X ├──■───┤ X ├┤ R5 ├─────\n",
      "«         └───┘└─┬─┘├───┤  │   ├───┤└─┬──┘┌───┐\n",
      "«prep__1: ───────■──┤ X ├──■───┤ X ├──■───┤ X ├\n",
      "«                │  └───┘┌─┴──┐└───┘  │   └───┘\n",
      "«prep__2: ───────■───────┤ R4 ├───────■────────\n",
      "«                        └────┘                \n"
     ]
    }
   ],
   "source": [
    "import numpy as np\n",
    "prep_ = QuantumRegister(3, 'prep_')\n",
    "PREP_circuit = QuantumCircuit(prep_)\n",
    "\n",
    "PREP_circuit.ry(theta_0, prep_[0])\n",
    "\n",
    "PREP_circuit.ch(prep_[0], prep_[1])\n",
    "\n",
    "\n",
    "PREP_circuit.x(prep_[2])\n",
    "PREP_circuit.append(cR3, [prep_[0], prep_[2], prep_[1]])\n",
    "PREP_circuit.x(prep_[2])\n",
    "\n",
    "PREP_circuit.ccx(prep_[0], prep_[1], prep_[2])\n",
    "\n",
    "PREP_circuit.x(prep_[0])\n",
    "PREP_circuit.cry(theta_1, prep_[0], prep_[1])\n",
    "\n",
    "PREP_circuit.append(hadamard_controlled, [prep_[0], prep_[1], prep_[2]])\n",
    "\n",
    "PREP_circuit.x(prep_[1])\n",
    "PREP_circuit.append(cR2, [prep_[0], prep_[1], prep_[2]])\n",
    "\n",
    "PREP_circuit.x(prep_[0])\n",
    "\n",
    "PREP_circuit.append(hadamard_controlled, [prep_[1], prep_[2], prep_[0]])\n",
    "PREP_circuit.x(prep_[1])\n",
    "\n",
    "PREP_circuit.x(prep_[0])\n",
    "PREP_circuit.append(cR4, [prep_[0], prep_[1], prep_[2]])\n",
    "PREP_circuit.x(prep_[0])\n",
    "\n",
    "PREP_circuit.x(prep_[1])\n",
    "PREP_circuit.append(cR5, [prep_[1], prep_[2], prep_[0]])\n",
    "PREP_circuit.x(prep_[1])\n",
    "\n",
    "qv.circuit_drawer(PREP_circuit)\n",
    "print(PREP_circuit)"
   ],
   "metadata": {
    "collapsed": false,
    "ExecuteTime": {
     "end_time": "2024-08-09T17:04:56.842358Z",
     "start_time": "2024-08-09T17:04:56.805457Z"
    }
   },
   "id": "16e582abf456e230",
   "execution_count": 104
  },
  {
   "cell_type": "code",
   "outputs": [
    {
     "name": "stdout",
     "output_type": "stream",
     "text": [
      "[[ 1.88982237e-01+4.71844785e-16j -1.75932888e-01-4.44089210e-16j\n",
      "  -2.31455025e-01-5.55111512e-16j  2.15472902e-01+4.44089210e-16j\n",
      "  -4.22577127e-01-8.88178420e-16j  3.93397896e-01+9.15933995e-16j\n",
      "   5.17549170e-01+1.22124533e-15j -4.81812056e-01-1.19348975e-15j]\n",
      " [ 4.62910050e-01+5.55111512e-16j  4.97245158e-01+6.38378239e-16j\n",
      "   5.00000000e-01+6.38378239e-16j  5.37086156e-01+6.66133815e-16j\n",
      "   1.73472348e-18+5.23852945e-32j -2.60208521e-17+6.47112461e-32j\n",
      "   2.42861287e-17-6.16297582e-33j  0.00000000e+00-7.39557099e-32j]\n",
      " [ 3.77964473e-01-2.62542724e-17j -3.51865775e-01+2.47099034e-17j\n",
      "   3.08606700e-01-2.16211655e-17j -2.87297202e-01+2.16211655e-17j\n",
      "   4.22577127e-01+9.78622987e-16j -3.93397896e-01-8.92518139e-16j\n",
      "   3.45032780e-01+7.88361909e-16j -3.21208037e-01-7.24941549e-16j]\n",
      " [ 0.00000000e+00+3.08148791e-33j  2.60208521e-17+6.49038391e-32j\n",
      "   2.77555756e-17+3.70741514e-32j  1.47451495e-17-9.62964972e-35j\n",
      "   4.81812056e-01+1.77635684e-15j  5.17549170e-01+1.88737914e-15j\n",
      "  -4.81812056e-01-1.85962357e-15j -5.17549170e-01-1.88737914e-15j]\n",
      " [ 2.67261242e-01+2.80866677e-16j -2.48806676e-01-2.98420845e-16j\n",
      "  -3.27326835e-01-3.86191682e-16j  3.04724700e-01+3.51083347e-16j\n",
      "   4.92732875e-01+1.94243575e-15j  2.89622135e-01+1.75151179e-15j\n",
      "   2.26825003e-01+1.45841093e-15j  5.37168892e-01+1.94638096e-15j]\n",
      " [ 3.27326835e-01+3.43990023e-16j -3.04724700e-01-3.65489399e-16j\n",
      "  -4.00891863e-01-4.72986281e-16j  3.73210014e-01+4.29987528e-16j\n",
      "  -1.58339689e-01-1.26350150e-15j -4.63603864e-01-1.71676174e-15j\n",
      "  -4.84008992e-01-1.54911048e-15j -1.60422243e-01-1.30255505e-15j]\n",
      " [ 4.22577127e-01+4.71113802e-16j -3.93397896e-01-4.43401226e-16j\n",
      "   3.45032780e-01+3.87976073e-16j -3.21208037e-01-3.87976073e-16j\n",
      "  -3.77964473e-01-1.33539528e-15j  3.51865775e-01+1.20120053e-15j\n",
      "  -3.08606700e-01-1.09581039e-15j  2.87297202e-01+1.01594876e-15j]\n",
      " [ 5.00000000e-01+1.22124533e-15j  5.37086156e-01+1.33226763e-15j\n",
      "  -4.62910050e-01-1.08246745e-15j -4.97245158e-01-1.24900090e-15j\n",
      "  -2.94902991e-17-6.16297582e-33j  0.00000000e+00+4.93038066e-32j\n",
      "   2.60208521e-18-6.16297582e-33j -1.47451495e-17-5.23852945e-32j]]\n"
     ]
    }
   ],
   "source": [
    "from qiskit.quantum_info import Operator\n",
    "Prep_result = Operator(PREP_circuit).data\n",
    "print(Prep_result)"
   ],
   "metadata": {
    "collapsed": false,
    "ExecuteTime": {
     "end_time": "2024-08-09T17:04:56.887524Z",
     "start_time": "2024-08-09T17:04:56.831469Z"
    }
   },
   "id": "ccf3d633c5e53de4",
   "execution_count": 105
  },
  {
   "cell_type": "code",
   "outputs": [
    {
     "name": "stdout",
     "output_type": "stream",
     "text": [
      "[1. 6. 4. 0. 2. 3. 5. 7.]\n"
     ]
    }
   ],
   "source": [
    "prep_result = Prep_result @ np.array([1, 0, 0, 0, 0, 0, 0, 0]).T\n",
    "print(prep_result.real ** 2 * 28)"
   ],
   "metadata": {
    "collapsed": false,
    "ExecuteTime": {
     "end_time": "2024-08-09T17:04:56.929224Z",
     "start_time": "2024-08-09T17:04:56.880090Z"
    }
   },
   "id": "97d55e11e80dfd84",
   "execution_count": 106
  },
  {
   "cell_type": "code",
   "outputs": [],
   "source": [
    "cB = B.control(3)\n",
    "cC = C.control(3)\n",
    "cD = D.control(3)\n",
    "cE = E.control(3)\n",
    "cF = F.control(3)\n",
    "cG = G.control(3)"
   ],
   "metadata": {
    "collapsed": false,
    "ExecuteTime": {
     "end_time": "2024-08-09T17:04:59.304907Z",
     "start_time": "2024-08-09T17:04:56.891239Z"
    }
   },
   "id": "5f829bb5ef2120cc",
   "execution_count": 107
  },
  {
   "cell_type": "markdown",
   "source": [
    "a = 1, b = 2, c = 3, d = 4, e = 5, f = 6, g = 7\n",
    "f, d, b, c, e, g"
   ],
   "metadata": {
    "collapsed": false
   },
   "id": "76e2db7da095e15f"
  },
  {
   "cell_type": "code",
   "outputs": [
    {
     "name": "stdout",
     "output_type": "stream",
     "text": [
      "              ┌────┐     ┌────┐     ┌────┐     ┌────┐     ┌────┐     ┌────┐\n",
      "   j__0: ─────┤0   ├─────┤0   ├─────┤0   ├─────┤0   ├─────┤0   ├─────┤0   ├\n",
      "              │    │     │    │     │    │     │    │     │    │     │    │\n",
      "   j__1: ─────┤1 F ├─────┤1 D ├─────┤1 B ├─────┤1 C ├─────┤1 E ├─────┤1 G ├\n",
      "              │    │     │    │     │    │     │    │     │    │     │    │\n",
      "   j__2: ─────┤2   ├─────┤2   ├─────┤2   ├─────┤2   ├─────┤2   ├─────┤2   ├\n",
      "              └─┬──┘┌───┐└─┬──┘     └─┬──┘┌───┐└─┬──┘┌───┐└─┬──┘┌───┐└─┬──┘\n",
      "prep__0: ───────■───┤ X ├──■──────────■───┤ X ├──■───┤ X ├──■───┤ X ├──■───\n",
      "         ┌───┐  │   ├───┤  │   ┌───┐  │   └───┘  │   ├───┤  │   └───┘  │   \n",
      "prep__1: ┤ X ├──■───┤ X ├──■───┤ X ├──■──────────■───┤ X ├──■──────────■───\n",
      "         ├───┤  │   └───┘  │   ├───┤  │          │   └───┘  │          │   \n",
      "prep__2: ┤ X ├──■──────────■───┤ X ├──■──────────■──────────■──────────■───\n",
      "         └───┘                 └───┘                                       \n"
     ]
    }
   ],
   "source": [
    "j_ = QuantumRegister(3, 'j_')\n",
    "Select_circuit = QuantumCircuit(j_, prep_)\n",
    "\n",
    "Select_circuit.x(prep_[2])\n",
    "Select_circuit.x(prep_[1])\n",
    "Select_circuit.append(cF,prep_[:] + j_[:])\n",
    "Select_circuit.x(prep_[1])\n",
    "\n",
    "Select_circuit.x(prep_[0])\n",
    "Select_circuit.append(cD,prep_[:] + j_[:])\n",
    "Select_circuit.x(prep_[2])\n",
    "Select_circuit.x(prep_[1])\n",
    "\n",
    "Select_circuit.append(cB,prep_[:] + j_[:])\n",
    "Select_circuit.x(prep_[0])\n",
    "\n",
    "Select_circuit.append(cC,prep_[:] + j_[:])\n",
    "Select_circuit.x(prep_[1])\n",
    "Select_circuit.x(prep_[0])\n",
    "\n",
    "Select_circuit.append(cE,prep_[:] + j_[:])\n",
    "Select_circuit.x(prep_[0])\n",
    "\n",
    "Select_circuit.append(cG,prep_[:] + j_[:])\n",
    "\n",
    "qv.circuit_drawer(Select_circuit)\n",
    "print(Select_circuit)"
   ],
   "metadata": {
    "collapsed": false,
    "ExecuteTime": {
     "end_time": "2024-08-09T17:04:59.376357Z",
     "start_time": "2024-08-09T17:04:59.338968Z"
    }
   },
   "id": "8a23cf52af7b4874",
   "execution_count": 108
  },
  {
   "cell_type": "code",
   "outputs": [],
   "source": [
    "Select = Select_circuit.to_gate(label='Select')\n",
    "PREP = PREP_circuit.to_gate(label='PREP')\n",
    "PREP_dag_circuit = PREP_circuit.inverse()\n",
    "PREP_dag = PREP_dag_circuit.to_gate(label='PREP_dag')"
   ],
   "metadata": {
    "collapsed": false,
    "ExecuteTime": {
     "end_time": "2024-08-09T17:04:59.422456Z",
     "start_time": "2024-08-09T17:04:59.401722Z"
    }
   },
   "id": "6a4849d78030bbb1",
   "execution_count": 109
  },
  {
   "cell_type": "code",
   "outputs": [
    {
     "name": "stdout",
     "output_type": "stream",
     "text": [
      "                  ┌─────────┐             \n",
      "   j__0: ─────────┤0        ├─────────────\n",
      "                  │         │             \n",
      "   j__1: ─────────┤1        ├─────────────\n",
      "                  │         │             \n",
      "   j__2: ─────────┤2        ├─────────────\n",
      "         ┌───────┐│  Select │┌───────────┐\n",
      "prep__0: ┤0      ├┤3        ├┤0          ├\n",
      "         │       ││         ││           │\n",
      "prep__1: ┤1 PREP ├┤4        ├┤1 PREP_dag ├\n",
      "         │       ││         ││           │\n",
      "prep__2: ┤2      ├┤5        ├┤2          ├\n",
      "         └───────┘└─────────┘└───────────┘\n"
     ]
    }
   ],
   "source": [
    "Final_circuit = QuantumCircuit(j_, prep_)\n",
    "Final_circuit.append(PREP, prep_[:])\n",
    "Final_circuit.append(Select, j_[:] + prep_[:])\n",
    "Final_circuit.append(PREP_dag, prep_[:])\n",
    "\n",
    "qv.circuit_drawer(Final_circuit)\n",
    "print(Final_circuit)"
   ],
   "metadata": {
    "collapsed": false,
    "ExecuteTime": {
     "end_time": "2024-08-09T17:04:59.478017Z",
     "start_time": "2024-08-09T17:04:59.435062Z"
    }
   },
   "id": "37ed2026a2a4bab7",
   "execution_count": 110
  },
  {
   "cell_type": "code",
   "outputs": [
    {
     "name": "stdout",
     "output_type": "stream",
     "text": [
      "[[ 3.57142857e-02+2.62532034e-15j  7.14285714e-02+8.27046320e-15j\n",
      "   1.07142857e-01+7.65729096e-15j ...  5.94763095e-16+4.43886571e-15j\n",
      "  -7.14056735e-16-1.37807450e-15j  1.21405227e-01-5.79719640e-15j]\n",
      " [ 1.78571429e-01+3.32066823e-15j  3.57142857e-02+2.99312074e-15j\n",
      "   7.14285714e-02+1.03546375e-14j ... -8.87268264e-16-3.93817484e-15j\n",
      "   9.85942529e-16+3.51278246e-15j -5.60926901e-16-1.58009586e-15j]\n",
      " [ 2.14285714e-01+9.22002432e-16j  1.78571429e-01+2.68826859e-15j\n",
      "   3.57142857e-02+6.29210567e-16j ... -1.21405227e-01+6.57253820e-15j\n",
      "  -1.30127519e-15-4.38445291e-15j  1.41748980e-15+4.94560566e-15j]\n",
      " ...\n",
      " [-1.21405227e-01+8.92756242e-15j  8.37665667e-16-4.47343192e-15j\n",
      "  -1.52986254e-15+3.78869973e-15j ...  5.00000000e-01-6.25658337e-15j\n",
      "   2.88550418e-01+2.22211430e-15j  2.57352961e-02+5.67909581e-15j]\n",
      " [-5.25105052e-02+1.25895256e-15j -1.21405227e-01+6.64620205e-15j\n",
      "   9.50551537e-16-4.91435562e-15j ...  8.25396825e-02+4.16985901e-15j\n",
      "   5.00000000e-01-3.68457934e-15j  2.88550418e-01+5.67778426e-16j]\n",
      " [ 1.43564425e-01-2.64026953e-15j -5.25105052e-02+6.82259368e-16j\n",
      "  -1.21405227e-01+8.10529038e-15j ... -6.75840059e-16+5.94761496e-15j\n",
      "   8.25396825e-02+4.89827725e-15j  5.00000000e-01-8.19389673e-15j]]\n"
     ]
    }
   ],
   "source": [
    "Fonal_result = Operator(Final_circuit).data\n",
    "print(Fonal_result)"
   ],
   "metadata": {
    "collapsed": false,
    "ExecuteTime": {
     "end_time": "2024-08-09T17:05:01.884088Z",
     "start_time": "2024-08-09T17:04:59.472616Z"
    }
   },
   "id": "a3414c1800ff96e8",
   "execution_count": 111
  },
  {
   "cell_type": "code",
   "outputs": [
    {
     "name": "stdout",
     "output_type": "stream",
     "text": [
      "[[1. 2. 3. 4.]\n",
      " [5. 1. 2. 3.]\n",
      " [6. 5. 1. 2.]\n",
      " [7. 6. 5. 1.]]\n"
     ]
    }
   ],
   "source": [
    "result = Fonal_result[0:4, 0:4]\n",
    "print(np.round(result.real * 28, 1))"
   ],
   "metadata": {
    "collapsed": false,
    "ExecuteTime": {
     "end_time": "2024-08-09T17:05:01.892016Z",
     "start_time": "2024-08-09T17:05:01.886269Z"
    }
   },
   "id": "208beb143963ba52",
   "execution_count": 112
  },
  {
   "cell_type": "markdown",
   "source": [
    "### 1.2 Conclusion\n",
    "If we need to add up n matrices, we need to $\\lceil log_2(n)\\rceil$ qubits to store the coefficients of the matrices.\n",
    "However, if the n coefficients are different, then we need n - 1 rotations to prepare them, this is corollary of fundamental theorem of arithmetic.\n",
    "To make it easier to calculate the angle of the rotation, it is better to try to make the coefficients symmetric."
   ],
   "metadata": {
    "collapsed": false
   },
   "id": "22ec2756d9b3ff13"
  },
  {
   "cell_type": "markdown",
   "source": [
    "We can use R0, R1, R2 to map |0>|0>|0> to |0>|0>|0>, |0>|0>|1>, |0>|1>|0>, |1>|0>|0>, respectively. Then, we can use a controlled Hadamard gate to achieve pairs of states with certain characteristics that have the same coefficients.\n",
    "\n",
    "This statement means that specific quantum gates (R0, R1, R2) are used to achieve specific basis state mappings, and subsequently, a controlled Hadamard gate is utilized to generate combinations of quantum states that have specific relationships (such as two qubits of them being the same) and identical coefficients. This process creates a symmetric set of coefficients that can be used to construct a Toeplitz matrix.\n",
    "\n",
    "Then use R3, R4, R5 to map a pair of states that have specific relationships (two qubits of them being the same) to a pair of states that have specific relationships (one is original coefficient times cosine add sine, the other is original coefficient times cosine minus sine). \n",
    "\n",
    "By these way we can create odd number of different coefficients."
   ],
   "metadata": {
    "collapsed": false
   },
   "id": "24bc31476f529ff8"
  },
  {
   "cell_type": "markdown",
   "source": [
    "In this way, for instance, we can get coefficients for different states as follows:\n",
    "for 000, we can get $cos(\\theta_0)cos(\\theta_1)cos(\\theta_2)$\n",
    "for 001, we can get $\\frac{1}{\\sqrt{2}}sin(\\theta_0)(cos(\\theta_3) - sin(\\theta_3))$\n",
    "for 010, we can get $\\frac{1}{\\sqrt{2}}cos(\\theta_0)sin(\\theta_1)(cos(\\theta_4) - sin(\\theta_4))$\n",
    "for 100, we can get $\\frac{1}{\\sqrt{2}}sin(\\theta_0)cos(\\theta_1)sin(\\theta_2)(cos(\\theta_5) - sin(\\theta_5))$\n",
    "for 101, we can get $\\frac{1}{\\sqrt{2}}cos(\\theta_0)sin(\\theta_1)sin(\\theta_2)(cos(\\theta_5) + sin(\\theta_5))$\n",
    "for 110, we can get $\\frac{1}{\\sqrt{2}}sin(\\theta_0)sin(\\theta_1)(cos(\\theta_4) + sin(\\theta_4))$\n",
    "for 111, we can get $\\frac{1}{\\sqrt{2}}sin(\\theta_0)(cos(\\theta_3) + sin(\\theta_3))$"
   ],
   "metadata": {
    "collapsed": false
   },
   "id": "bb91d1c90735d824"
  },
  {
   "cell_type": "markdown",
   "source": [
    "#### 1.2.1 The feasibility of the process\n",
    "To prove the feasibility of the process, we need that all the rotation angles are solvable.\n",
    "That is to prove the $cos(\\theta_i)$ and $sin(\\theta_i)$ are solvable and the value of them is less than 1.\n",
    "\n",
    "Let's use the example of 7-banded Toeplitz matrix to prove the feasibility of the process:\n",
    "Let the absolute value of coefficients of the Toeplitz matrix be $a_0, a_1, a_2, a_3, a_4, a_5, a_6$ in increasing order.\n",
    "Let $a_5, a_6$ be assigned to 001 and 111, $a_3, a_4$ be assigned to 010 and 110, $a_1, a_2$ be assigned to 100 and 101, $a_0$ be assigned to 000.\n",
    "Then we can solve the equation system to get the value of $\\theta_0, \\theta_1, \\theta_2, \\theta_3, \\theta_4, \\theta_5$."
   ],
   "metadata": {
    "collapsed": false
   },
   "id": "e066c2480faba559"
  },
  {
   "cell_type": "markdown",
   "source": [
    "Let $a = a_0 + a_1 + a_2 + a_3 + a_4 + a_5 + a_6 = 28$.\n",
    "So $sin(\\theta_0) = \\sqrt{\\frac{a_5 + a_6}{a}}$, $cos(\\theta_0) = \\sqrt{\\frac{a - a_5 - a_6}{a}}$.\n",
    "Then we can get the value of $\\theta_0$.\n",
    "We can get the value of $\\theta_0$.\n",
    "$sin(\\theta_1) = \\sqrt{\\frac{a_3 + a_4}{a}\\frac{a}{a - a_5 - a_6}} = \\sqrt{\\frac{a_3 + a_4}{a - a_5 - a_6}}$, $cos(\\theta_1) = \\sqrt{\\frac{a - a_3 - a_4 - a_5 - a_6}{a - a_5 - a_6}}$.\n",
    "Then we can get the value of $\\theta_1$.\n",
    "$sin(\\theta_2) = \\sqrt{\\frac{a_1 + a_2}{a}\\frac{a - a_5 - a_6}{a - a_3 - a_4 - a_5 - a_6}\\frac{a}{a - a_5 - a_6}} = \\sqrt{\\frac{a_1 + a_2}{a - a_3 - a_4 - a_5 - a_6}}$, $cos(\\theta_2) = \\sqrt{\\frac{a - a_1 - a_2 - a_3 - a_4 - a_5 - a_6}{a - a_3 - a_4 - a_5 - a_6}} = \\sqrt{\\frac{a_0}{a - a_3 - a_4 - a_5 - a_6}}$.\n",
    "Then we can get the value of $\\theta_2$.\n",
    "Substitute the value of $\\theta_0, \\theta_1, \\theta_2$ into the equation system, we can get the value of $\\theta_3, \\theta_4, \\theta_5$ by solving the equation system in the form of:\n",
    "$$\n",
    "\\left\\{\n",
    "\\begin{align}\n",
    "cos(\\theta) - sin(\\theta) &= \\sqrt{2}\\frac{\\sqrt{a_i}}{\\sqrt{a_{i} + a_{i+1}}\\\\\n",
    "cos(\\theta) + sin(\\theta) &= \\sqrt{2}\\frac{\\sqrt{a_{i+1}}}{\\sqrt{a_{i} + a_{i+1}}\\\\\n",
    "\\end{align}\n",
    "\\right.\n",
    "$$\n",
    "These equations are solvable. Because according to the arithmetic-quadratic mean inequality, we have:$\\sqrt{2a_i} + \\sqrt{2a_{i+1}} \\leq \\sqrt{4(a_i + a_{i+1})}$.\n",
    "Thus, the whole process is feasible.\n"
   ],
   "metadata": {
    "collapsed": false
   },
   "id": "d19db29e622fb266"
  },
  {
   "cell_type": "markdown",
   "source": [
    "Using this method, no matter how many coefficients need to be prepared, one can construct the circuit and calculate the angles following these steps."
   ],
   "metadata": {
    "collapsed": false
   },
   "id": "86ec1cf0edba88ca"
  },
  {
   "cell_type": "markdown",
   "source": [],
   "metadata": {
    "collapsed": false
   },
   "id": "2a4e9fe158411317"
  },
  {
   "cell_type": "markdown",
   "source": [
    "## 3. Lower bound of the number of ancilla qubits\n",
    "a Toeplitz matrix of n by n has 2n-1 diagonals, the "
   ],
   "metadata": {
    "collapsed": false
   },
   "id": "46b840dc508bc63d"
  },
  {
   "cell_type": "markdown",
   "source": [
    "# Block Topelitz matrix"
   ],
   "metadata": {
    "collapsed": false
   },
   "id": "7c8d2d3547c057c8"
  },
  {
   "cell_type": "markdown",
   "source": [
    "A block Toeplitz matrix is a kind of block matrix, which contains blocks that are repeated down the diagonals of the matrix, as a Toeplitz matrix has elements repeated down the diagonal."
   ],
   "metadata": {
    "collapsed": false
   },
   "id": "9a26b515347730f4"
  }
 ],
 "metadata": {
  "kernelspec": {
   "display_name": "Python 3",
   "language": "python",
   "name": "python3"
  },
  "language_info": {
   "codemirror_mode": {
    "name": "ipython",
    "version": 2
   },
   "file_extension": ".py",
   "mimetype": "text/x-python",
   "name": "python",
   "nbconvert_exporter": "python",
   "pygments_lexer": "ipython2",
   "version": "2.7.6"
  }
 },
 "nbformat": 4,
 "nbformat_minor": 5
}
