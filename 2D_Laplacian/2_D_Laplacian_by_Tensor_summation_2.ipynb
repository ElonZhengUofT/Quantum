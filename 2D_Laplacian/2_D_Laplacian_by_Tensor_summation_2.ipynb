{
 "cells": [
  {
   "cell_type": "markdown",
   "source": [
    "#  Block encoding of 2-D Laplacian matrix"
   ],
   "metadata": {
    "collapsed": false
   },
   "id": "cd353ff99cf37224"
  },
  {
   "cell_type": "markdown",
   "source": [
    "## 0. Fourier transform of 2-D Laplacian matrix\n",
    "$L_2 = L \\otimes I + I \\otimes L$, and $L =F^{\\dagger}DF$ where D is the diagonal matrix.\n",
    "Then, $L_2 = F^{\\dagger}\\otimes F^{\\dagger}(D \\otimes I + I \\otimes D)F \\otimes F$ = $F^{\\dagger}\\otimes F^{\\dagger}(\\Lambda)F \\otimes F$ where $\\Lambda = D \\otimes I + I \\otimes D$ is a diagonal matrix.t\n",
    "However, fourier cost too much, so we need to find a way to represent the matrix in a more efficient way."
   ],
   "metadata": {
    "collapsed": false
   },
   "id": "47f7814feab4710"
  },
  {
   "cell_type": "markdown",
   "source": [
    "## 1. The representation of laplacian by linear combination of unitary\n",
    "$L = 2 * P_0 + (-1) * P_1 + (-1) * P_3$"
   ],
   "metadata": {
    "collapsed": false
   },
   "id": "613a15a15e3ab362"
  },
  {
   "cell_type": "code",
   "outputs": [
    {
     "name": "stdout",
     "output_type": "stream",
     "text": [
      "[[ 2.+0.j -1.+0.j  0.+0.j -1.+0.j]\n",
      " [-1.+0.j  2.+0.j -1.+0.j  0.+0.j]\n",
      " [ 0.+0.j -1.+0.j  2.+0.j -1.+0.j]\n",
      " [-1.+0.j  0.+0.j -1.+0.j  2.+0.j]]\n",
      "[[ 2 -1  0 -1]\n",
      " [-1  2 -1  0]\n",
      " [ 0 -1  2 -1]\n",
      " [-1  0 -1  2]]\n",
      "Laplacian is represented by linear combination of unitary correctly\n"
     ]
    }
   ],
   "source": [
    "import numpy as np\n",
    "from MyQuantum import *\n",
    "import matplotlib.pyplot as plt\n",
    "\n",
    "D = npk.Matrix(np.array([[2, -1, 0, -1],\n",
    "                                [-1, 2, -1, 0],\n",
    "                                [0, -1, 2, -1],\n",
    "                                [-1, 0, -1, 2]]))\n",
    "P0 = I_4\n",
    "P1 = np.array([[0, 1, 0, 0],\n",
    "                [0, 0, 1, 0],\n",
    "                [0, 0, 0, 1],\n",
    "                [1, 0, 0, 0]])\n",
    "P2 = P1 @ P1\n",
    "P3 = P2 @ P1\n",
    "\n",
    "print((2 * I_4 + (-1) * P1 + (-1) * P3))\n",
    "print(D)\n",
    "if np.allclose((2 * I_4 + (-1) * P1 + (-1) * P3), D):\n",
    "    print(\"Laplacian is represented by linear combination of unitary correctly\")"
   ],
   "metadata": {
    "collapsed": false,
    "ExecuteTime": {
     "end_time": "2024-07-31T18:43:58.258036Z",
     "start_time": "2024-07-31T18:43:52.635158Z"
    }
   },
   "id": "97b342b7f49d9b92",
   "execution_count": 2
  },
  {
   "cell_type": "code",
   "outputs": [
    {
     "name": "stdout",
     "output_type": "stream",
     "text": [
      "[[ 4. -1.  0. -1. -1. -0.  0. -0.  0.  0.  0.  0. -1. -0.  0. -0.]\n",
      " [-1.  4. -1.  0. -0. -1. -0.  0.  0.  0.  0.  0. -0. -1. -0.  0.]\n",
      " [ 0. -1.  4. -1.  0. -0. -1. -0.  0.  0.  0.  0.  0. -0. -1. -0.]\n",
      " [-1.  0. -1.  4. -0.  0. -0. -1.  0.  0.  0.  0. -0.  0. -0. -1.]\n",
      " [-1. -0.  0. -0.  4. -1.  0. -1. -1. -0.  0. -0.  0.  0.  0.  0.]\n",
      " [-0. -1. -0.  0. -1.  4. -1.  0. -0. -1. -0.  0.  0.  0.  0.  0.]\n",
      " [ 0. -0. -1. -0.  0. -1.  4. -1.  0. -0. -1. -0.  0.  0.  0.  0.]\n",
      " [-0.  0. -0. -1. -1.  0. -1.  4. -0.  0. -0. -1.  0.  0.  0.  0.]\n",
      " [ 0.  0.  0.  0. -1. -0.  0. -0.  4. -1.  0. -1. -1. -0.  0. -0.]\n",
      " [ 0.  0.  0.  0. -0. -1. -0.  0. -1.  4. -1.  0. -0. -1. -0.  0.]\n",
      " [ 0.  0.  0.  0.  0. -0. -1. -0.  0. -1.  4. -1.  0. -0. -1. -0.]\n",
      " [ 0.  0.  0.  0. -0.  0. -0. -1. -1.  0. -1.  4. -0.  0. -0. -1.]\n",
      " [-1. -0.  0. -0.  0.  0.  0.  0. -1. -0.  0. -0.  4. -1.  0. -1.]\n",
      " [-0. -1. -0.  0.  0.  0.  0.  0. -0. -1. -0.  0. -1.  4. -1.  0.]\n",
      " [ 0. -0. -1. -0.  0.  0.  0.  0.  0. -0. -1. -0.  0. -1.  4. -1.]\n",
      " [-0.  0. -0. -1.  0.  0.  0.  0. -0.  0. -0. -1. -1.  0. -1.  4.]]\n"
     ]
    },
    {
     "data": {
      "text/plain": "<matplotlib.colorbar.Colorbar at 0x11e4adbb0>"
     },
     "execution_count": 3,
     "metadata": {},
     "output_type": "execute_result"
    },
    {
     "data": {
      "text/plain": "<Figure size 480x480 with 2 Axes>",
      "image/png": "[encoded data removed]"
     },
     "metadata": {},
     "output_type": "display_data"
    }
   ],
   "source": [
    "L_2 = np.kron(D, I_4) + np.kron(I_4, D)\n",
    "print(L_2.real)\n",
    "plt.matshow(L_2.real)\n",
    "plt.colorbar()"
   ],
   "metadata": {
    "collapsed": false,
    "ExecuteTime": {
     "end_time": "2024-07-31T18:43:58.815619Z",
     "start_time": "2024-07-31T18:43:58.260469Z"
    }
   },
   "id": "50ca8d4eef48a744",
   "execution_count": 3
  },
  {
   "cell_type": "markdown",
   "source": [
    "## Corollary:\n",
    "$$\n",
    "L_2 = L \\otimes I + I \\otimes L \\\\\n",
    "= 2 * P_0 \\otimes I + (-1) * P_1 \\otimes I + (-1) * P_3 \\otimes I + I \\otimes 2 * P_0 + I \\otimes (-1) * P_1 + I \\otimes (-1) * P_3 \\\\\n",
    "= 2 * (P_0 \\otimes I + I \\otimes P_0) + (-1) * (P_1 \\otimes I + I \\otimes  P_1) + (-1) * (P_3 \\otimes I + I \\otimes P_3) \\\\\n",
    "$$\n",
    "So, what is $P_0 \\otimes I + I \\otimes P_0$ and so on? Could they be represented by some unitary matrices?"
   ],
   "metadata": {
    "collapsed": false
   },
   "id": "911c41a297ddef63"
  },
  {
   "cell_type": "markdown",
   "source": [],
   "metadata": {
    "collapsed": false
   },
   "id": "1cfc32e2e979b25d"
  },
  {
   "cell_type": "code",
   "outputs": [
    {
     "name": "stdout",
     "output_type": "stream",
     "text": [
      "[[2. 0. 0. 0. 0. 0. 0. 0. 0. 0. 0. 0. 0. 0. 0. 0.]\n",
      " [0. 2. 0. 0. 0. 0. 0. 0. 0. 0. 0. 0. 0. 0. 0. 0.]\n",
      " [0. 0. 2. 0. 0. 0. 0. 0. 0. 0. 0. 0. 0. 0. 0. 0.]\n",
      " [0. 0. 0. 2. 0. 0. 0. 0. 0. 0. 0. 0. 0. 0. 0. 0.]\n",
      " [0. 0. 0. 0. 2. 0. 0. 0. 0. 0. 0. 0. 0. 0. 0. 0.]\n",
      " [0. 0. 0. 0. 0. 2. 0. 0. 0. 0. 0. 0. 0. 0. 0. 0.]\n",
      " [0. 0. 0. 0. 0. 0. 2. 0. 0. 0. 0. 0. 0. 0. 0. 0.]\n",
      " [0. 0. 0. 0. 0. 0. 0. 2. 0. 0. 0. 0. 0. 0. 0. 0.]\n",
      " [0. 0. 0. 0. 0. 0. 0. 0. 2. 0. 0. 0. 0. 0. 0. 0.]\n",
      " [0. 0. 0. 0. 0. 0. 0. 0. 0. 2. 0. 0. 0. 0. 0. 0.]\n",
      " [0. 0. 0. 0. 0. 0. 0. 0. 0. 0. 2. 0. 0. 0. 0. 0.]\n",
      " [0. 0. 0. 0. 0. 0. 0. 0. 0. 0. 0. 2. 0. 0. 0. 0.]\n",
      " [0. 0. 0. 0. 0. 0. 0. 0. 0. 0. 0. 0. 2. 0. 0. 0.]\n",
      " [0. 0. 0. 0. 0. 0. 0. 0. 0. 0. 0. 0. 0. 2. 0. 0.]\n",
      " [0. 0. 0. 0. 0. 0. 0. 0. 0. 0. 0. 0. 0. 0. 2. 0.]\n",
      " [0. 0. 0. 0. 0. 0. 0. 0. 0. 0. 0. 0. 0. 0. 0. 2.]]\n"
     ]
    }
   ],
   "source": [
    "P0_term = np.kron(P0, I_4) + np.kron(I_4, P0)\n",
    "print(P0_term.real)"
   ],
   "metadata": {
    "collapsed": false,
    "ExecuteTime": {
     "end_time": "2024-07-31T18:43:58.843244Z",
     "start_time": "2024-07-31T18:43:58.815292Z"
    }
   },
   "id": "39668ef67dffb1f8",
   "execution_count": 4
  },
  {
   "cell_type": "markdown",
   "source": [
    "The term $P_0 \\otimes I + I \\otimes P_0$ is just twice the identity matrix\n",
    "So the block encoding can be implemented in such a way:\n"
   ],
   "metadata": {
    "collapsed": false
   },
   "id": "d4257eabf205ddfb"
  },
  {
   "cell_type": "code",
   "outputs": [
    {
     "name": "stdout",
     "output_type": "stream",
     "text": [
      "[[0. 1. 0. 0. 1. 0. 0. 0. 0. 0. 0. 0. 0. 0. 0. 0.]\n",
      " [0. 0. 1. 0. 0. 1. 0. 0. 0. 0. 0. 0. 0. 0. 0. 0.]\n",
      " [0. 0. 0. 1. 0. 0. 1. 0. 0. 0. 0. 0. 0. 0. 0. 0.]\n",
      " [1. 0. 0. 0. 0. 0. 0. 1. 0. 0. 0. 0. 0. 0. 0. 0.]\n",
      " [0. 0. 0. 0. 0. 1. 0. 0. 1. 0. 0. 0. 0. 0. 0. 0.]\n",
      " [0. 0. 0. 0. 0. 0. 1. 0. 0. 1. 0. 0. 0. 0. 0. 0.]\n",
      " [0. 0. 0. 0. 0. 0. 0. 1. 0. 0. 1. 0. 0. 0. 0. 0.]\n",
      " [0. 0. 0. 0. 1. 0. 0. 0. 0. 0. 0. 1. 0. 0. 0. 0.]\n",
      " [0. 0. 0. 0. 0. 0. 0. 0. 0. 1. 0. 0. 1. 0. 0. 0.]\n",
      " [0. 0. 0. 0. 0. 0. 0. 0. 0. 0. 1. 0. 0. 1. 0. 0.]\n",
      " [0. 0. 0. 0. 0. 0. 0. 0. 0. 0. 0. 1. 0. 0. 1. 0.]\n",
      " [0. 0. 0. 0. 0. 0. 0. 0. 1. 0. 0. 0. 0. 0. 0. 1.]\n",
      " [1. 0. 0. 0. 0. 0. 0. 0. 0. 0. 0. 0. 0. 1. 0. 0.]\n",
      " [0. 1. 0. 0. 0. 0. 0. 0. 0. 0. 0. 0. 0. 0. 1. 0.]\n",
      " [0. 0. 1. 0. 0. 0. 0. 0. 0. 0. 0. 0. 0. 0. 0. 1.]\n",
      " [0. 0. 0. 1. 0. 0. 0. 0. 0. 0. 0. 0. 1. 0. 0. 0.]]\n"
     ]
    },
    {
     "data": {
      "text/plain": "<matplotlib.colorbar.Colorbar at 0x11e5a6240>"
     },
     "execution_count": 5,
     "metadata": {},
     "output_type": "execute_result"
    },
    {
     "data": {
      "text/plain": "<Figure size 480x480 with 2 Axes>",
      "image/png": "[encoded data removed]"
     },
     "metadata": {},
     "output_type": "display_data"
    }
   ],
   "source": [
    "P1_term = np.kron(P1, I_4) + np.kron(I_4, P1)\n",
    "print(P1_term.real)\n",
    "plt.matshow(P1_term.real)\n",
    "plt.colorbar()"
   ],
   "metadata": {
    "collapsed": false,
    "ExecuteTime": {
     "end_time": "2024-07-31T18:43:59.180060Z",
     "start_time": "2024-07-31T18:43:58.842868Z"
    }
   },
   "id": "bcb8d465fb8e6668",
   "execution_count": 5
  },
  {
   "cell_type": "markdown",
   "source": [
    "Checl if this term is proportional to a unitary matrix"
   ],
   "metadata": {
    "collapsed": false
   },
   "id": "72d8423cd6a178d9"
  },
  {
   "cell_type": "code",
   "outputs": [
    {
     "name": "stdout",
     "output_type": "stream",
     "text": [
      "[[0.5  0.   0.   0.   0.   0.   0.   0.25 0.   0.   0.   0.   0.   0.25\n",
      "  0.   0.  ]\n",
      " [0.   0.5  0.   0.   0.25 0.   0.   0.   0.   0.   0.   0.   0.   0.\n",
      "  0.25 0.  ]\n",
      " [0.   0.   0.5  0.   0.   0.25 0.   0.   0.   0.   0.   0.   0.   0.\n",
      "  0.   0.25]\n",
      " [0.   0.   0.   0.5  0.   0.   0.25 0.   0.   0.   0.   0.   0.25 0.\n",
      "  0.   0.  ]\n",
      " [0.   0.25 0.   0.   0.5  0.   0.   0.   0.   0.   0.   0.25 0.   0.\n",
      "  0.   0.  ]\n",
      " [0.   0.   0.25 0.   0.   0.5  0.   0.   0.25 0.   0.   0.   0.   0.\n",
      "  0.   0.  ]\n",
      " [0.   0.   0.   0.25 0.   0.   0.5  0.   0.   0.25 0.   0.   0.   0.\n",
      "  0.   0.  ]\n",
      " [0.25 0.   0.   0.   0.   0.   0.   0.5  0.   0.   0.25 0.   0.   0.\n",
      "  0.   0.  ]\n",
      " [0.   0.   0.   0.   0.   0.25 0.   0.   0.5  0.   0.   0.   0.   0.\n",
      "  0.   0.25]\n",
      " [0.   0.   0.   0.   0.   0.   0.25 0.   0.   0.5  0.   0.   0.25 0.\n",
      "  0.   0.  ]\n",
      " [0.   0.   0.   0.   0.   0.   0.   0.25 0.   0.   0.5  0.   0.   0.25\n",
      "  0.   0.  ]\n",
      " [0.   0.   0.   0.   0.25 0.   0.   0.   0.   0.   0.   0.5  0.   0.\n",
      "  0.25 0.  ]\n",
      " [0.   0.   0.   0.25 0.   0.   0.   0.   0.   0.25 0.   0.   0.5  0.\n",
      "  0.   0.  ]\n",
      " [0.25 0.   0.   0.   0.   0.   0.   0.   0.   0.   0.25 0.   0.   0.5\n",
      "  0.   0.  ]\n",
      " [0.   0.25 0.   0.   0.   0.   0.   0.   0.   0.   0.   0.25 0.   0.\n",
      "  0.5  0.  ]\n",
      " [0.   0.   0.25 0.   0.   0.   0.   0.   0.25 0.   0.   0.   0.   0.\n",
      "  0.   0.5 ]]\n",
      "P1 term is not proportional to a unitary matrix\n"
     ]
    }
   ],
   "source": [
    "normalized_P1_term = P1_term / np.linalg.norm(P1_term,ord=2)\n",
    "print((normalized_P1_term @ normalized_P1_term.T).real)\n",
    "if np.allclose(normalized_P1_term @ normalized_P1_term.T, np.eye(16)):\n",
    "    print(\"P1 term is proportional to a unitary matrix\")\n",
    "else:\n",
    "    print(\"P1 term is not proportional to a unitary matrix\")"
   ],
   "metadata": {
    "collapsed": false,
    "ExecuteTime": {
     "end_time": "2024-07-31T18:43:59.206238Z",
     "start_time": "2024-07-31T18:43:59.186224Z"
    }
   },
   "id": "d0cff59ed258060e",
   "execution_count": 6
  },
  {
   "cell_type": "code",
   "outputs": [
    {
     "name": "stdout",
     "output_type": "stream",
     "text": [
      "[[0. 0. 0. 1. 0. 0. 0. 0. 0. 0. 0. 0. 1. 0. 0. 0.]\n",
      " [1. 0. 0. 0. 0. 0. 0. 0. 0. 0. 0. 0. 0. 1. 0. 0.]\n",
      " [0. 1. 0. 0. 0. 0. 0. 0. 0. 0. 0. 0. 0. 0. 1. 0.]\n",
      " [0. 0. 1. 0. 0. 0. 0. 0. 0. 0. 0. 0. 0. 0. 0. 1.]\n",
      " [1. 0. 0. 0. 0. 0. 0. 1. 0. 0. 0. 0. 0. 0. 0. 0.]\n",
      " [0. 1. 0. 0. 1. 0. 0. 0. 0. 0. 0. 0. 0. 0. 0. 0.]\n",
      " [0. 0. 1. 0. 0. 1. 0. 0. 0. 0. 0. 0. 0. 0. 0. 0.]\n",
      " [0. 0. 0. 1. 0. 0. 1. 0. 0. 0. 0. 0. 0. 0. 0. 0.]\n",
      " [0. 0. 0. 0. 1. 0. 0. 0. 0. 0. 0. 1. 0. 0. 0. 0.]\n",
      " [0. 0. 0. 0. 0. 1. 0. 0. 1. 0. 0. 0. 0. 0. 0. 0.]\n",
      " [0. 0. 0. 0. 0. 0. 1. 0. 0. 1. 0. 0. 0. 0. 0. 0.]\n",
      " [0. 0. 0. 0. 0. 0. 0. 1. 0. 0. 1. 0. 0. 0. 0. 0.]\n",
      " [0. 0. 0. 0. 0. 0. 0. 0. 1. 0. 0. 0. 0. 0. 0. 1.]\n",
      " [0. 0. 0. 0. 0. 0. 0. 0. 0. 1. 0. 0. 1. 0. 0. 0.]\n",
      " [0. 0. 0. 0. 0. 0. 0. 0. 0. 0. 1. 0. 0. 1. 0. 0.]\n",
      " [0. 0. 0. 0. 0. 0. 0. 0. 0. 0. 0. 1. 0. 0. 1. 0.]]\n"
     ]
    },
    {
     "data": {
      "text/plain": "<matplotlib.colorbar.Colorbar at 0x11e657d10>"
     },
     "execution_count": 7,
     "metadata": {},
     "output_type": "execute_result"
    },
    {
     "data": {
      "text/plain": "<Figure size 480x480 with 2 Axes>",
      "image/png": "[encoded data removed]"
     },
     "metadata": {},
     "output_type": "display_data"
    }
   ],
   "source": [
    "P3_term = np.kron(P3, I_4) + np.kron(I_4, P3)\n",
    "print(P3_term.real)\n",
    "plt.matshow(P3_term.real)\n",
    "plt.colorbar()"
   ],
   "metadata": {
    "collapsed": false,
    "ExecuteTime": {
     "end_time": "2024-07-31T18:43:59.541237Z",
     "start_time": "2024-07-31T18:43:59.193417Z"
    }
   },
   "id": "4f27826e6b48c086",
   "execution_count": 7
  },
  {
   "cell_type": "markdown",
   "source": [
    "This is not a unitary matrix since it is symmetric to $P_1$ term."
   ],
   "metadata": {
    "collapsed": false
   },
   "id": "98515c70a63c8fc9"
  },
  {
   "cell_type": "markdown",
   "source": [
    "## 1.1 First Idea\n",
    "The result looks bad but P1 term and P3 term looks symmetric.\n",
    "but we don't have to use it as a whole directly.\n",
    "If we have a block encoding for $P_1 \\otimes I$ = $U_{P_10}, I \\otimes P_1$ = $U_{P_11}$, then we can use the following way to implement the block encoding."
   ],
   "metadata": {
    "collapsed": false
   },
   "id": "5aba486c5d02f3b4"
  },
  {
   "cell_type": "markdown",
   "source": [
    "## 1.2 Second Idea\n",
    "The result looks bad but P1 term and P3 term looks symmetric.\n",
    "Let's try to add them together and see what happens."
   ],
   "metadata": {
    "collapsed": false
   },
   "id": "96a5ff891c9ff341"
  },
  {
   "cell_type": "code",
   "outputs": [
    {
     "name": "stdout",
     "output_type": "stream",
     "text": [
      "[[0. 1. 0. 1. 1. 0. 0. 0. 0. 0. 0. 0. 1. 0. 0. 0.]\n",
      " [1. 0. 1. 0. 0. 1. 0. 0. 0. 0. 0. 0. 0. 1. 0. 0.]\n",
      " [0. 1. 0. 1. 0. 0. 1. 0. 0. 0. 0. 0. 0. 0. 1. 0.]\n",
      " [1. 0. 1. 0. 0. 0. 0. 1. 0. 0. 0. 0. 0. 0. 0. 1.]\n",
      " [1. 0. 0. 0. 0. 1. 0. 1. 1. 0. 0. 0. 0. 0. 0. 0.]\n",
      " [0. 1. 0. 0. 1. 0. 1. 0. 0. 1. 0. 0. 0. 0. 0. 0.]\n",
      " [0. 0. 1. 0. 0. 1. 0. 1. 0. 0. 1. 0. 0. 0. 0. 0.]\n",
      " [0. 0. 0. 1. 1. 0. 1. 0. 0. 0. 0. 1. 0. 0. 0. 0.]\n",
      " [0. 0. 0. 0. 1. 0. 0. 0. 0. 1. 0. 1. 1. 0. 0. 0.]\n",
      " [0. 0. 0. 0. 0. 1. 0. 0. 1. 0. 1. 0. 0. 1. 0. 0.]\n",
      " [0. 0. 0. 0. 0. 0. 1. 0. 0. 1. 0. 1. 0. 0. 1. 0.]\n",
      " [0. 0. 0. 0. 0. 0. 0. 1. 1. 0. 1. 0. 0. 0. 0. 1.]\n",
      " [1. 0. 0. 0. 0. 0. 0. 0. 1. 0. 0. 0. 0. 1. 0. 1.]\n",
      " [0. 1. 0. 0. 0. 0. 0. 0. 0. 1. 0. 0. 1. 0. 1. 0.]\n",
      " [0. 0. 1. 0. 0. 0. 0. 0. 0. 0. 1. 0. 0. 1. 0. 1.]\n",
      " [0. 0. 0. 1. 0. 0. 0. 0. 0. 0. 0. 1. 1. 0. 1. 0.]]\n"
     ]
    },
    {
     "data": {
      "text/plain": "<matplotlib.colorbar.Colorbar at 0x11e76f440>"
     },
     "execution_count": 8,
     "metadata": {},
     "output_type": "execute_result"
    },
    {
     "data": {
      "text/plain": "<Figure size 480x480 with 2 Axes>",
      "image/png": "[encoded data removed]"
     },
     "metadata": {},
     "output_type": "display_data"
    }
   ],
   "source": [
    "P1_P3_term = P1_term + P3_term\n",
    "print(P1_P3_term.real)\n",
    "plt.matshow(P1_P3_term.real)\n",
    "plt.colorbar()"
   ],
   "metadata": {
    "collapsed": false,
    "ExecuteTime": {
     "end_time": "2024-07-31T18:43:59.885516Z",
     "start_time": "2024-07-31T18:43:59.546087Z"
    }
   },
   "id": "87bd6e67b3197b74",
   "execution_count": 8
  },
  {
   "cell_type": "markdown",
   "source": [
    "## Result\n",
    "$$\n",
    "L2 = 2 * (2 * I) + (-1) P1\\&P3term\\\\\n",
    "= 4 * I - P1\\&P3_term\n",
    "$$"
   ],
   "metadata": {
    "collapsed": false
   },
   "id": "7c1d09740fe77129"
  },
  {
   "cell_type": "markdown",
   "source": [
    "Now check if $P_1 \\& P_3$ term is proportional to the a unitary matrix"
   ],
   "metadata": {
    "collapsed": false
   },
   "id": "9085fb456aa29ef6"
  },
  {
   "cell_type": "code",
   "outputs": [
    {
     "name": "stdout",
     "output_type": "stream",
     "text": [
      "[[0.25  0.    0.125 0.    0.    0.125 0.    0.125 0.125 0.    0.    0.\n",
      "  0.    0.125 0.    0.125]\n",
      " [0.    0.25  0.    0.125 0.125 0.    0.125 0.    0.    0.125 0.    0.\n",
      "  0.125 0.    0.125 0.   ]\n",
      " [0.125 0.    0.25  0.    0.    0.125 0.    0.125 0.    0.    0.125 0.\n",
      "  0.    0.125 0.    0.125]\n",
      " [0.    0.125 0.    0.25  0.125 0.    0.125 0.    0.    0.    0.    0.125\n",
      "  0.125 0.    0.125 0.   ]\n",
      " [0.    0.125 0.    0.125 0.25  0.    0.125 0.    0.    0.125 0.    0.125\n",
      "  0.125 0.    0.    0.   ]\n",
      " [0.125 0.    0.125 0.    0.    0.25  0.    0.125 0.125 0.    0.125 0.\n",
      "  0.    0.125 0.    0.   ]\n",
      " [0.    0.125 0.    0.125 0.125 0.    0.25  0.    0.    0.125 0.    0.125\n",
      "  0.    0.    0.125 0.   ]\n",
      " [0.125 0.    0.125 0.    0.    0.125 0.    0.25  0.125 0.    0.125 0.\n",
      "  0.    0.    0.    0.125]\n",
      " [0.125 0.    0.    0.    0.    0.125 0.    0.125 0.25  0.    0.125 0.\n",
      "  0.    0.125 0.    0.125]\n",
      " [0.    0.125 0.    0.    0.125 0.    0.125 0.    0.    0.25  0.    0.125\n",
      "  0.125 0.    0.125 0.   ]\n",
      " [0.    0.    0.125 0.    0.    0.125 0.    0.125 0.125 0.    0.25  0.\n",
      "  0.    0.125 0.    0.125]\n",
      " [0.    0.    0.    0.125 0.125 0.    0.125 0.    0.    0.125 0.    0.25\n",
      "  0.125 0.    0.125 0.   ]\n",
      " [0.    0.125 0.    0.125 0.125 0.    0.    0.    0.    0.125 0.    0.125\n",
      "  0.25  0.    0.125 0.   ]\n",
      " [0.125 0.    0.125 0.    0.    0.125 0.    0.    0.125 0.    0.125 0.\n",
      "  0.    0.25  0.    0.125]\n",
      " [0.    0.125 0.    0.125 0.    0.    0.125 0.    0.    0.125 0.    0.125\n",
      "  0.125 0.    0.25  0.   ]\n",
      " [0.125 0.    0.125 0.    0.    0.    0.    0.125 0.125 0.    0.125 0.\n",
      "  0.    0.125 0.    0.25 ]]\n",
      "P1&P3 term is not proportional to a unitary matrix\n"
     ]
    }
   ],
   "source": [
    "normalized_P1_P3_term = P1_P3_term / np.linalg.norm(P1_P3_term,ord=2)\n",
    "print((normalized_P1_P3_term @ normalized_P1_P3_term.T).real)\n",
    "if np.allclose(normalized_P1_P3_term @ normalized_P1_P3_term.T, np.eye(16)):\n",
    "    print(\"P1&P3 term is proportional to a unitary matrix\")\n",
    "else:\n",
    "    print(\"P1&P3 term is not proportional to a unitary matrix\")"
   ],
   "metadata": {
    "collapsed": false,
    "ExecuteTime": {
     "end_time": "2024-07-31T18:43:59.893968Z",
     "start_time": "2024-07-31T18:43:59.886187Z"
    }
   },
   "id": "fef7ad8c976fe213",
   "execution_count": 9
  },
  {
   "cell_type": "markdown",
   "source": [
    "So, $ P_1 \\& P_3 $ term is not a unitary matrix or a scaled unitary matrix."
   ],
   "metadata": {
    "collapsed": false
   },
   "id": "d78b6b359e224ac3"
  },
  {
   "cell_type": "markdown",
   "source": [
    "Can we make it a summation of a banded, circulant and symmetric matrix or toeplitz matrix, or any easier structure can be used to implement?"
   ],
   "metadata": {
    "collapsed": false
   },
   "id": "23ead44e516bb34f"
  },
  {
   "cell_type": "code",
   "outputs": [
    {
     "name": "stdout",
     "output_type": "stream",
     "text": [
      "[[0. 1. 0. 0. 1. 0. 0. 0. 0. 0. 0. 0. 1. 0. 0. 1.]\n",
      " [1. 0. 1. 0. 0. 1. 0. 0. 0. 0. 0. 0. 0. 1. 0. 0.]\n",
      " [0. 1. 0. 1. 0. 0. 1. 0. 0. 0. 0. 0. 0. 0. 1. 0.]\n",
      " [0. 0. 1. 0. 1. 0. 0. 1. 0. 0. 0. 0. 0. 0. 0. 1.]\n",
      " [1. 0. 0. 1. 0. 1. 0. 0. 1. 0. 0. 0. 0. 0. 0. 0.]\n",
      " [0. 1. 0. 0. 1. 0. 1. 0. 0. 1. 0. 0. 0. 0. 0. 0.]\n",
      " [0. 0. 1. 0. 0. 1. 0. 1. 0. 0. 1. 0. 0. 0. 0. 0.]\n",
      " [0. 0. 0. 1. 0. 0. 1. 0. 1. 0. 0. 1. 0. 0. 0. 0.]\n",
      " [0. 0. 0. 0. 1. 0. 0. 1. 0. 1. 0. 0. 1. 0. 0. 0.]\n",
      " [0. 0. 0. 0. 0. 1. 0. 0. 1. 0. 1. 0. 0. 1. 0. 0.]\n",
      " [0. 0. 0. 0. 0. 0. 1. 0. 0. 1. 0. 1. 0. 0. 1. 0.]\n",
      " [0. 0. 0. 0. 0. 0. 0. 1. 0. 0. 1. 0. 1. 0. 0. 1.]\n",
      " [1. 0. 0. 0. 0. 0. 0. 0. 1. 0. 0. 1. 0. 1. 0. 0.]\n",
      " [0. 1. 0. 0. 0. 0. 0. 0. 0. 1. 0. 0. 1. 0. 1. 0.]\n",
      " [0. 0. 1. 0. 0. 0. 0. 0. 0. 0. 1. 0. 0. 1. 0. 1.]\n",
      " [1. 0. 0. 1. 0. 0. 0. 0. 0. 0. 0. 1. 0. 0. 1. 0.]]\n",
      "[[ 0.  0.  0.  1.  0.  0.  0.  0.  0.  0.  0.  0.  0.  0.  0. -1.]\n",
      " [ 0.  0.  0.  0.  0.  0.  0.  0.  0.  0.  0.  0.  0.  0.  0.  0.]\n",
      " [ 0.  0.  0.  0.  0.  0.  0.  0.  0.  0.  0.  0.  0.  0.  0.  0.]\n",
      " [ 1.  0.  0.  0. -1.  0.  0.  0.  0.  0.  0.  0.  0.  0.  0.  0.]\n",
      " [ 0.  0.  0. -1.  0.  0.  0.  1.  0.  0.  0.  0.  0.  0.  0.  0.]\n",
      " [ 0.  0.  0.  0.  0.  0.  0.  0.  0.  0.  0.  0.  0.  0.  0.  0.]\n",
      " [ 0.  0.  0.  0.  0.  0.  0.  0.  0.  0.  0.  0.  0.  0.  0.  0.]\n",
      " [ 0.  0.  0.  0.  1.  0.  0.  0. -1.  0.  0.  0.  0.  0.  0.  0.]\n",
      " [ 0.  0.  0.  0.  0.  0.  0. -1.  0.  0.  0.  1.  0.  0.  0.  0.]\n",
      " [ 0.  0.  0.  0.  0.  0.  0.  0.  0.  0.  0.  0.  0.  0.  0.  0.]\n",
      " [ 0.  0.  0.  0.  0.  0.  0.  0.  0.  0.  0.  0.  0.  0.  0.  0.]\n",
      " [ 0.  0.  0.  0.  0.  0.  0.  0.  1.  0.  0.  0. -1.  0.  0.  0.]\n",
      " [ 0.  0.  0.  0.  0.  0.  0.  0.  0.  0.  0. -1.  0.  0.  0.  1.]\n",
      " [ 0.  0.  0.  0.  0.  0.  0.  0.  0.  0.  0.  0.  0.  0.  0.  0.]\n",
      " [ 0.  0.  0.  0.  0.  0.  0.  0.  0.  0.  0.  0.  0.  0.  0.  0.]\n",
      " [-1.  0.  0.  0.  0.  0.  0.  0.  0.  0.  0.  0.  1.  0.  0.  0.]]\n"
     ]
    },
    {
     "data": {
      "text/plain": "<matplotlib.colorbar.Colorbar at 0x11e34da90>"
     },
     "execution_count": 10,
     "metadata": {},
     "output_type": "execute_result"
    },
    {
     "data": {
      "text/plain": "<Figure size 480x480 with 2 Axes>",
      "image/png": "[encoded data removed]"
     },
     "metadata": {},
     "output_type": "display_data"
    },
    {
     "data": {
      "text/plain": "<Figure size 480x480 with 2 Axes>",
      "image/png": "[encoded data removed]"
     },
     "metadata": {},
     "output_type": "display_data"
    }
   ],
   "source": [
    "identical_banded_P1_P3_term = np.array([\n",
    "    [0., 1., 0., 0., 1., 0., 0., 0., 0., 0., 0., 0., 1., 0., 0., 1.],\n",
    "    [1., 0., 1., 0., 0., 1., 0., 0., 0., 0., 0., 0., 0., 1., 0., 0.],\n",
    "    [0., 1., 0., 1., 0., 0., 1., 0., 0., 0., 0., 0., 0., 0., 1., 0.],\n",
    "    [0., 0., 1., 0., 1., 0., 0., 1., 0., 0., 0., 0., 0., 0., 0., 1.],\n",
    "    [1., 0., 0., 1., 0., 1., 0., 0., 1., 0., 0., 0., 0., 0., 0., 0.],\n",
    "    [0., 1., 0., 0., 1., 0., 1., 0., 0., 1., 0., 0., 0., 0., 0., 0.],\n",
    "    [0., 0., 1., 0., 0., 1., 0., 1., 0., 0., 1., 0., 0., 0., 0., 0.],\n",
    "    [0., 0., 0., 1., 0., 0., 1., 0., 1., 0., 0., 1., 0., 0., 0., 0.],\n",
    "    [0., 0., 0., 0., 1., 0., 0., 1., 0., 1., 0., 0., 1., 0., 0., 0.],\n",
    "    [0., 0., 0., 0., 0., 1., 0., 0., 1., 0., 1., 0., 0., 1., 0., 0.],\n",
    "    [0., 0., 0., 0., 0., 0., 1., 0., 0., 1., 0., 1., 0., 0., 1., 0.],\n",
    "    [0., 0., 0., 0., 0., 0., 0., 1., 0., 0., 1., 0., 1., 0., 0., 1.],\n",
    "    [1., 0., 0., 0., 0., 0., 0., 0., 1., 0., 0., 1., 0., 1., 0., 0.],\n",
    "    [0., 1., 0., 0., 0., 0., 0., 0., 0., 1., 0., 0., 1., 0., 1., 0.],\n",
    "    [0., 0., 1., 0., 0., 0., 0., 0., 0., 0., 1., 0., 0., 1., 0., 1.],\n",
    "    [1., 0., 0., 1., 0., 0., 0., 0., 0., 0., 0., 1., 0., 0., 1., 0.]\n",
    "])\n",
    "print(identical_banded_P1_P3_term)\n",
    "plt.matshow(identical_banded_P1_P3_term)\n",
    "plt.colorbar()\n",
    "\n",
    "complement_banded_P1_P3_term = P1_P3_term - identical_banded_P1_P3_term\n",
    "print(complement_banded_P1_P3_term.real)\n",
    "plt.matshow(complement_banded_P1_P3_term.real)\n",
    "plt.colorbar()"
   ],
   "metadata": {
    "collapsed": false,
    "ExecuteTime": {
     "end_time": "2024-07-31T18:44:00.596698Z",
     "start_time": "2024-07-31T18:43:59.902121Z"
    }
   },
   "id": "a87d718c7a08c8f7",
   "execution_count": 10
  },
  {
   "cell_type": "markdown",
   "source": [
    "This shows that the matrix can be represented by a b,c,s matrix and a complement matrix which is very sparse.\n",
    "Then, with this idea, what is needed is (1) the implementation of banded, circulant, and symmetric matrix and (2) the implementation of the complement matrix (3) the addition of these two matrices.(1) is known and can be implemented by the LCU,"
   ],
   "metadata": {
    "collapsed": false
   },
   "id": "b6268b4bced495ac"
  },
  {
   "cell_type": "markdown",
   "source": [
    "## 1.2.1 Specific implementation for the banded, circulant, and symmetric matrix part\n",
    "For the banded, circulant, and symmetric matrix, we can use the LCU to implement it.\n",
    "the #-1, #-4, #1, #4 band are all 1 band, and the rest are 0."
   ],
   "metadata": {
    "collapsed": false
   },
   "id": "5f8c91de30ad54ba"
  },
  {
   "cell_type": "markdown",
   "source": [
    "## 1.2.2 implementation for the complement, sparce matrix part\n",
    "First check if the complement matrix is proportional to a unitary matrix."
   ],
   "metadata": {
    "collapsed": false
   },
   "id": "399aecbda086b71e"
  },
  {
   "cell_type": "code",
   "outputs": [
    {
     "name": "stdout",
     "output_type": "stream",
     "text": [
      "[[ 2.  0.  0.  0. -1.  0.  0.  0.  0.  0.  0.  0. -1.  0.  0.  0.]\n",
      " [ 0.  0.  0.  0.  0.  0.  0.  0.  0.  0.  0.  0.  0.  0.  0.  0.]\n",
      " [ 0.  0.  0.  0.  0.  0.  0.  0.  0.  0.  0.  0.  0.  0.  0.  0.]\n",
      " [ 0.  0.  0.  2.  0.  0.  0. -1.  0.  0.  0.  0.  0.  0.  0. -1.]\n",
      " [-1.  0.  0.  0.  2.  0.  0.  0. -1.  0.  0.  0.  0.  0.  0.  0.]\n",
      " [ 0.  0.  0.  0.  0.  0.  0.  0.  0.  0.  0.  0.  0.  0.  0.  0.]\n",
      " [ 0.  0.  0.  0.  0.  0.  0.  0.  0.  0.  0.  0.  0.  0.  0.  0.]\n",
      " [ 0.  0.  0. -1.  0.  0.  0.  2.  0.  0.  0. -1.  0.  0.  0.  0.]\n",
      " [ 0.  0.  0.  0. -1.  0.  0.  0.  2.  0.  0.  0. -1.  0.  0.  0.]\n",
      " [ 0.  0.  0.  0.  0.  0.  0.  0.  0.  0.  0.  0.  0.  0.  0.  0.]\n",
      " [ 0.  0.  0.  0.  0.  0.  0.  0.  0.  0.  0.  0.  0.  0.  0.  0.]\n",
      " [ 0.  0.  0.  0.  0.  0.  0. -1.  0.  0.  0.  2.  0.  0.  0. -1.]\n",
      " [-1.  0.  0.  0.  0.  0.  0.  0. -1.  0.  0.  0.  2.  0.  0.  0.]\n",
      " [ 0.  0.  0.  0.  0.  0.  0.  0.  0.  0.  0.  0.  0.  0.  0.  0.]\n",
      " [ 0.  0.  0.  0.  0.  0.  0.  0.  0.  0.  0.  0.  0.  0.  0.  0.]\n",
      " [ 0.  0.  0. -1.  0.  0.  0.  0.  0.  0.  0. -1.  0.  0.  0.  2.]]\n"
     ]
    }
   ],
   "source": [
    "Verification = np.array(complement_banded_P1_P3_term).T @ np.array(complement_banded_P1_P3_term)\n",
    "print(Verification.real)"
   ],
   "metadata": {
    "collapsed": false,
    "ExecuteTime": {
     "end_time": "2024-07-31T18:44:00.622578Z",
     "start_time": "2024-07-31T18:44:00.600728Z"
    }
   },
   "id": "17d06c3b3afb8c93",
   "execution_count": 11
  },
  {
   "cell_type": "markdown",
   "source": [
    "Then check if there's any pattern in the matrix."
   ],
   "metadata": {
    "collapsed": false
   },
   "id": "35a5d5198b7f1b9"
  },
  {
   "cell_type": "code",
   "outputs": [
    {
     "data": {
      "text/plain": "<matplotlib.colorbar.Colorbar at 0x11e76eed0>"
     },
     "execution_count": 12,
     "metadata": {},
     "output_type": "execute_result"
    },
    {
     "data": {
      "text/plain": "<Figure size 480x480 with 2 Axes>",
      "image/png": "[encoded data removed]"
     },
     "metadata": {},
     "output_type": "display_data"
    },
    {
     "data": {
      "text/plain": "<Figure size 480x480 with 2 Axes>",
      "image/png": "[encoded data removed]"
     },
     "metadata": {},
     "output_type": "display_data"
    },
    {
     "data": {
      "text/plain": "<Figure size 480x480 with 2 Axes>",
      "image/png": "[encoded data removed]"
     },
     "metadata": {},
     "output_type": "display_data"
    },
    {
     "data": {
      "text/plain": "<Figure size 480x480 with 2 Axes>",
      "image/png": "[encoded data removed]"
     },
     "metadata": {},
     "output_type": "display_data"
    }
   ],
   "source": [
    "upper_left_complement_banded_P1_P3_term = complement_banded_P1_P3_term[:8, :8]\n",
    "plt.matshow(upper_left_complement_banded_P1_P3_term.real)\n",
    "plt.colorbar()\n",
    "down_right_complement_banded_P1_P3_term = complement_banded_P1_P3_term[8:, 8:]\n",
    "plt.matshow(down_right_complement_banded_P1_P3_term.real)\n",
    "plt.colorbar()\n",
    "upper_right_complement_banded_P1_P3_term = complement_banded_P1_P3_term[:8, 8:]\n",
    "plt.matshow(upper_right_complement_banded_P1_P3_term.real)\n",
    "plt.colorbar()\n",
    "down_left_complement_banded_P1_P3_term = complement_banded_P1_P3_term[8:, :8]\n",
    "plt.matshow(down_left_complement_banded_P1_P3_term.real)\n",
    "plt.colorbar()"
   ],
   "metadata": {
    "collapsed": false,
    "ExecuteTime": {
     "end_time": "2024-07-31T18:44:02.378478Z",
     "start_time": "2024-07-31T18:44:00.616713Z"
    }
   },
   "id": "c1228c5822b0cea",
   "execution_count": 12
  },
  {
   "cell_type": "markdown",
   "source": [
    "Obviosly, the matrix in the form of\n",
    "$$\n",
    "\\begin{bmatrix}\n",
    "A & B \\\\\n",
    "B & A \\\\"
   ],
   "metadata": {
    "collapsed": false
   },
   "id": "f5249d318e609008"
  },
  {
   "cell_type": "markdown",
   "source": [
    "The next problem is how to blcok encode the very sparse matrix that only has little non-zero elements."
   ],
   "metadata": {
    "collapsed": false
   },
   "id": "a5807a851226fe97"
  },
  {
   "cell_type": "markdown",
   "source": [
    "## 1.3 Another idea\n",
    "Can we use smaller fine-strucutre matrices to represent the larger matrix?\n",
    "For example:\n",
    "Could we find A, B, C, D, E, F that is fine-structured matrices such that\n",
    "$$\n",
    "P_1 \\& P_3 = \\begin{bmatrix}\n",
    "A & B \\\\\n",
    "B & C\n",
    "\\end{bmatrix} + \\begin{bmatrix}\n",
    "D & E \\\\\n",
    "E & F\n",
    "\\end{bmatrix}\n",
    "$$"
   ],
   "metadata": {
    "collapsed": false
   },
   "id": "fb48a4ff00becd7c"
  },
  {
   "cell_type": "code",
   "outputs": [
    {
     "data": {
      "text/plain": "<matplotlib.colorbar.Colorbar at 0x11ec6d430>"
     },
     "execution_count": 13,
     "metadata": {},
     "output_type": "execute_result"
    },
    {
     "data": {
      "text/plain": "<Figure size 480x480 with 2 Axes>",
      "image/png": "[encoded data removed]"
     },
     "metadata": {},
     "output_type": "display_data"
    }
   ],
   "source": [
    "down_left_P1_P3_term = P1_P3_term[8:, :8]\n",
    "plt.matshow(down_left_P1_P3_term.real)\n",
    "plt.colorbar()"
   ],
   "metadata": {
    "collapsed": false,
    "ExecuteTime": {
     "end_time": "2024-07-31T18:44:02.725397Z",
     "start_time": "2024-07-31T18:44:02.405059Z"
    }
   },
   "id": "920745cb84da7331",
   "execution_count": 13
  },
  {
   "cell_type": "markdown",
   "source": [
    "Well, thus we can see that the left-down part of the matrix is a fine-structured matrix."
   ],
   "metadata": {
    "collapsed": false
   },
   "id": "84cfce32475d783b"
  },
  {
   "cell_type": "code",
   "outputs": [
    {
     "data": {
      "text/plain": "<matplotlib.image.AxesImage at 0x11eebd100>"
     },
     "execution_count": 14,
     "metadata": {},
     "output_type": "execute_result"
    },
    {
     "data": {
      "text/plain": "<Figure size 480x480 with 2 Axes>",
      "image/png": "[encoded data removed]"
     },
     "metadata": {},
     "output_type": "display_data"
    },
    {
     "data": {
      "text/plain": "<Figure size 480x480 with 1 Axes>",
      "image/png": "[encoded data removed]"
     },
     "metadata": {},
     "output_type": "display_data"
    }
   ],
   "source": [
    "upper_left_P1_P3_term = P1_P3_term[:8, :8]\n",
    "plt.matshow(upper_left_P1_P3_term.real)\n",
    "plt.colorbar()\n",
    "down_right_P1_P3_term = P1_P3_term[8:, 8:]\n",
    "plt.matshow(down_right_P1_P3_term.real)"
   ],
   "metadata": {
    "collapsed": false,
    "ExecuteTime": {
     "end_time": "2024-07-31T18:44:03.530238Z",
     "start_time": "2024-07-31T18:44:02.756769Z"
    }
   },
   "id": "9139eeab7d0f191",
   "execution_count": 14
  },
  {
   "cell_type": "markdown",
   "source": [
    "So we can see:\n",
    "$$\n",
    "P_1 \\& P_3 = \\begin{bmatrix}\n",
    "not\\ fine & fine \\\\\n",
    "fine & not\\ fine\n",
    "\\end{bmatrix}\n",
    "$$"
   ],
   "metadata": {
    "collapsed": false
   },
   "id": "facff3078e065f8d"
  },
  {
   "cell_type": "code",
   "outputs": [
    {
     "name": "stdout",
     "output_type": "stream",
     "text": [
      "[[0. 1. 0. 1. 1. 0. 0. 0.]\n",
      " [1. 0. 1. 0. 0. 1. 0. 0.]\n",
      " [0. 1. 0. 1. 0. 0. 1. 0.]\n",
      " [1. 0. 1. 0. 0. 0. 0. 1.]\n",
      " [1. 0. 0. 0. 0. 1. 0. 1.]\n",
      " [0. 1. 0. 0. 1. 0. 1. 0.]\n",
      " [0. 0. 1. 0. 0. 1. 0. 1.]\n",
      " [0. 0. 0. 1. 1. 0. 1. 0.]]\n"
     ]
    }
   ],
   "source": [
    "print(upper_left_P1_P3_term.real)"
   ],
   "metadata": {
    "collapsed": false,
    "ExecuteTime": {
     "end_time": "2024-07-31T18:44:03.556056Z",
     "start_time": "2024-07-31T18:44:03.530606Z"
    }
   },
   "id": "5e777fa98a1f1c7",
   "execution_count": 15
  },
  {
   "cell_type": "markdown",
   "source": [
    "Here, I suddenly the upper left part of upper left part of the matrix is a fine-structured matrix."
   ],
   "metadata": {
    "collapsed": false
   },
   "id": "fe4d8f41f3b998d0"
  },
  {
   "cell_type": "code",
   "outputs": [
    {
     "data": {
      "text/plain": "<matplotlib.colorbar.Colorbar at 0x11ec6f7d0>"
     },
     "execution_count": 16,
     "metadata": {},
     "output_type": "execute_result"
    },
    {
     "data": {
      "text/plain": "<Figure size 480x480 with 2 Axes>",
      "image/png": "[encoded data removed]"
     },
     "metadata": {},
     "output_type": "display_data"
    },
    {
     "data": {
      "text/plain": "<Figure size 480x480 with 2 Axes>",
      "image/png": "[encoded data removed]"
     },
     "metadata": {},
     "output_type": "display_data"
    }
   ],
   "source": [
    "upper_left_upper_left_P1_P3_term = upper_left_P1_P3_term[:4, :4]\n",
    "plt.matshow(upper_left_upper_left_P1_P3_term.real)\n",
    "plt.colorbar()\n",
    "down_left_upper_left_P1_P3_term = upper_left_P1_P3_term[4:, :4]\n",
    "plt.matshow(down_left_upper_left_P1_P3_term.real)\n",
    "plt.colorbar()"
   ],
   "metadata": {
    "collapsed": false,
    "ExecuteTime": {
     "end_time": "2024-07-31T18:44:04.081818Z",
     "start_time": "2024-07-31T18:44:03.551760Z"
    }
   },
   "id": "fc82deb6e4a2d953",
   "execution_count": 16
  },
  {
   "cell_type": "markdown",
   "source": [
    "Let\n",
    "$$ \n",
    "A = \\begin{bmatrix}\n",
    "0 & 1 & 0 & 1 \\\\\n",
    "1 & 0 & 1 & 0 \\\\\n",
    "0 & 1 & 0 & 1 \\\\\n",
    "1 & 0 & 1 & 0\n",
    "\\end{bmatrix}\n",
    "B = \\begin{bmatrix}\n",
    "1 & 0 & 0 & 0 \\\\\n",
    "0 & 1 & 0 & 0 \\\\\n",
    "0 & 0 & 1 & 0 \\\\\n",
    "0 & 0 & 0 & 1\n",
    "\\end{bmatrix} = I\n",
    "$$\n",
    "Then,\n",
    "$$\n",
    "P_1 \\& P_3 = \\begin{bmatrix}\n",
    "A & I & O & I \\\\\n",
    "I & A & I & O \\\\\n",
    "O & I & A & I \\\\\n",
    "I & O & I & A\n",
    "\\end{bmatrix}\\\\\n",
    "= \\begin{bmatrix}\n",
    "A & O & O & O \\\\\n",
    "O & A & O & O \\\\\n",
    "O & O & A & O \\\\\n",
    "O & O & O & A \\\\\n",
    "\\end{bmatrix} + \\begin{bmatrix}\n",
    "O & I & O & I \\\\\n",
    "I & O & I & O \\\\\n",
    "O & I & O & I \\\\\n",
    "I & O & I & O\n",
    "\\end{bmatrix}\n",
    "= A \\otimes I + I \\otimes A\n",
    "$$\n",
    "But A = P1 + P3, this seems plain."
   ],
   "metadata": {
    "collapsed": false
   },
   "id": "79468517b35ae0d2"
  },
  {
   "cell_type": "markdown",
   "source": [
    "## 2.0 Addition of two matrices\n",
    "No matter what idea we use, we need to add the two matrices.\n",
    "Assume we have orracles for the two matrices, then we can add them by the following way:\n",
    "If $A = B + C$, assume B and C are unitaries, then\n",
    "let $\\text{PREP}|0> = \\frac{1}{\\sqrt{2}}(|0> + |1>)$,Here PREP can be a hadamard gate.\n"
   ],
   "metadata": {
    "collapsed": false
   },
   "id": "51f2e86d577623dc"
  },
  {
   "cell_type": "markdown",
   "source": [
    "Then, let $\\text{ADD}|0>|\\psi> = |0>B|\\psi>$, $\\text{ADD}|1>|\\psi> = |1>C|\\psi>$\n",
    "Then, \n",
    "$$\n",
    "\\begin{align*}\n",
    "(PREP^{\\dag} \\otimes I)ADD(PREP \\otimes I)|\\psi> &= (PREP^{\\dag} \\otimes I)ADD(\\frac{1}{\\sqrt{2}}(|0>|\\psi> + |1>|\\psi>)\\\\\n",
    "&= (PREP^{\\dag} \\otimes I)(\\frac{1}{\\sqrt{2}}(|0>B|\\psi> + |1>C|\\psi>)\\\\\n",
    "&= \\frac{1}{2}(|0>B|\\psi> + |1>C|\\psi> + |0>B|\\psi> - |1>C|\\psi>)\\\\\n",
    "&= \\frac{1}{2}(|0>(B+C)|\\psi> + |1>(B-C)|\\psi>)\\\\\n",
    "&= \\frac{1}{2}(|0>A|\\psi> + |1>(B-C)|\\psi>)\n",
    "\\end{align*}\n",
    "$$"
   ],
   "metadata": {
    "collapsed": false
   },
   "id": "d2506e4a5d3aed60"
  },
  {
   "cell_type": "markdown",
   "source": [
    "For example, let A = X + Y,\n",
    "then let us use quantum circuit to add X and Y and verify the result."
   ],
   "metadata": {
    "collapsed": false
   },
   "id": "b0de139cddbbd3c6"
  },
  {
   "cell_type": "code",
   "outputs": [
    {
     "name": "stdout",
     "output_type": "stream",
     "text": [
      "          ┌───┐     ┌───┐          \n",
      "q_0: ─────┤ X ├─────┤ Y ├──────────\n",
      "     ┌───┐└─┬─┘┌───┐└─┬─┘┌───┐┌───┐\n",
      "q_1: ┤ H ├──■──┤ X ├──■──┤ X ├┤ H ├\n",
      "     └───┘     └───┘     └───┘└───┘\n",
      "[[ 0. +0.j   0.5-0.5j  0. +0.j  -0.5-0.5j]\n",
      " [ 0.5+0.5j  0. +0.j  -0.5+0.5j  0. +0.j ]\n",
      " [ 0. +0.j  -0.5-0.5j  0. +0.j   0.5-0.5j]\n",
      " [-0.5+0.5j  0. +0.j   0.5+0.5j  0. +0.j ]]\n",
      "The quantum circuit is correct\n"
     ]
    }
   ],
   "source": [
    "from qiskit import QuantumCircuit\n",
    "from qiskit.quantum_info import Operator\n",
    "import qiskit.visualization as qv\n",
    "import numpy as np\n",
    "\n",
    "num_ancilla = 1\n",
    "num_qubits = 1\n",
    "qc = QuantumCircuit(num_qubits + num_ancilla)\n",
    "qc.h(1)\n",
    "qc.cx(1, 0)\n",
    "qc.x(1)\n",
    "qc.cy(1, 0)\n",
    "qc.x(1)\n",
    "qc.h(1)\n",
    "\n",
    "qv.circuit_drawer(qc)\n",
    "print(qc)\n",
    "operator = Operator(qc)\n",
    "print(operator.data)\n",
    "\n",
    "X = np.array([[0, 1], [1, 0]])\n",
    "Y = np.array([[0, -1j], [1j, 0]])\n",
    "A = X + Y\n",
    "if np.allclose(operator.data[0:2, 0:2], A/2):\n",
    "    print(\"The quantum circuit is correct\")\n",
    "else:\n",
    "    print(\"The quantum circuit is not correct\")"
   ],
   "metadata": {
    "collapsed": false,
    "ExecuteTime": {
     "end_time": "2024-07-31T18:44:04.191668Z",
     "start_time": "2024-07-31T18:44:04.082137Z"
    }
   },
   "id": "1f72bd62c8fed960",
   "execution_count": 17
  },
  {
   "cell_type": "markdown",
   "source": [
    "## 2.1.1 The implementation of the block encoding by the 1st idea\n",
    "since we have a way to add two matrices, we can implement the block encoding by the 1st idea.\n",
    "We have $L_2 = 4 * I - (P_1 \\otimes I + I \\otimes P_1) - (P_3 \\otimes I + I \\otimes P_3)$\n",
    "So $U_{L_2} = U_{4I} +(-1)\\dot (U_{P_1 \\otimes I} + U_{I \\otimes P_1}) +(-1)\\dot (U_{P_3 \\otimes I} - U_{I \\otimes P_3})$\n",
    "since $U_{4I}$ is just a identity matrix, we do not need to implement it.\n",
    "So, $L_2 = 4\\dot I + (-1) \\dot (U_{P_1 \\otimes I} + U_{I \\otimes P_1}) +(-1)\\dot (U_{P_3 \\otimes I} - U_{I \\otimes P_3})$\n",
    "$U_{P_1 \\otimes I} = U_{P_1} \\otimes I$\n",
    "and $P_1$ is a permutation matrix such that $P_1|j> = |j+1>$\n",
    "so, let's prepare the permutation matrix."
   ],
   "metadata": {
    "collapsed": false
   },
   "id": "17cb721b9880119b"
  },
  {
   "cell_type": "code",
   "outputs": [
    {
     "name": "stdout",
     "output_type": "stream",
     "text": [
      "          ┌───┐\n",
      "q_0: ──■──┤ X ├\n",
      "     ┌─┴─┐└───┘\n",
      "q_1: ┤ X ├─────\n",
      "     └───┘     \n",
      "     ┌───┐     \n",
      "q_0: ┤ X ├──■──\n",
      "     └───┘┌─┴─┐\n",
      "q_1: ─────┤ X ├\n",
      "          └───┘\n"
     ]
    }
   ],
   "source": [
    "qc_add1 = QuantumCircuit(2)\n",
    "qc_add1.cx(0, 1)\n",
    "qc_add1.x(0)\n",
    "\n",
    "qc_minus1 = QuantumCircuit(2)\n",
    "qc_minus1.x(0)\n",
    "qc_minus1.cx(0, 1)\n",
    "qc_minus2 = qc_minus1.compose(qc_minus1, [0, 1], front=True)\n",
    "qc_add2 = qc_add1.compose(qc_add1, [0, 1], front=True)\n",
    "qv.circuit_drawer(qc_add1)\n",
    "qv.circuit_drawer(qc_minus1)\n",
    "print(qc_add1)\n",
    "print(qc_minus1)\n",
    "\n",
    "minus_1 = qc_minus1.to_gate(label='minus_1')\n",
    "add_1 = qc_add1.to_gate(label='add_1')"
   ],
   "metadata": {
    "collapsed": false,
    "ExecuteTime": {
     "end_time": "2024-07-31T18:44:04.195686Z",
     "start_time": "2024-07-31T18:44:04.149203Z"
    }
   },
   "id": "2d5f589fc8284783",
   "execution_count": 18
  },
  {
   "cell_type": "code",
   "outputs": [
    {
     "name": "stdout",
     "output_type": "stream",
     "text": [
      "                 \n",
      "q_0: ────────────\n",
      "                 \n",
      "q_1: ────────────\n",
      "     ┌──────────┐\n",
      "q_2: ┤0         ├\n",
      "     │  minus_1 │\n",
      "q_3: ┤1         ├\n",
      "     └──────────┘\n",
      "     ┌──────────┐\n",
      "q_0: ┤0         ├\n",
      "     │  minus_1 │\n",
      "q_1: ┤1         ├\n",
      "     └──────────┘\n",
      "q_2: ────────────\n",
      "                 \n",
      "q_3: ────────────\n",
      "                 \n"
     ]
    }
   ],
   "source": [
    "P_1_I_circuit = QuantumCircuit(4)\n",
    "P_1_I_circuit.append(minus_1, [2, 3])\n",
    "I_P_1_circuit = QuantumCircuit(4)\n",
    "I_P_1_circuit.append(minus_1, [0, 1])\n",
    "qv.circuit_drawer(P_1_I_circuit)\n",
    "qv.circuit_drawer(I_P_1_circuit)\n",
    "print(P_1_I_circuit)\n",
    "print(I_P_1_circuit)\n",
    "P_1_I = P_1_I_circuit.to_gate(label='P_1_I')\n",
    "I_P_1 = I_P_1_circuit.to_gate(label='I_P_1')"
   ],
   "metadata": {
    "collapsed": false,
    "ExecuteTime": {
     "end_time": "2024-07-31T18:44:04.335444Z",
     "start_time": "2024-07-31T18:44:04.164703Z"
    }
   },
   "id": "440a715ceaf44cbe",
   "execution_count": 19
  },
  {
   "cell_type": "markdown",
   "source": [
    "Then we want to implement the addition of two matrices."
   ],
   "metadata": {
    "collapsed": false
   },
   "id": "476521b46cb87791"
  },
  {
   "cell_type": "code",
   "outputs": [
    {
     "name": "stdout",
     "output_type": "stream",
     "text": [
      "              ┌────────┐     ┌────────┐          \n",
      "  b_i_0: ─────┤0       ├─────┤0       ├──────────\n",
      "              │        │     │        │          \n",
      "  b_i_1: ─────┤1       ├─────┤1       ├──────────\n",
      "              │  P_1_I │     │  I_P_1 │          \n",
      "  b_i_2: ─────┤2       ├─────┤2       ├──────────\n",
      "              │        │     │        │          \n",
      "  b_i_3: ─────┤3       ├─────┤3       ├──────────\n",
      "         ┌───┐└───┬────┘┌───┐└───┬────┘┌───┐┌───┐\n",
      "ancilla: ┤ H ├────■─────┤ X ├────■─────┤ X ├┤ H ├\n",
      "         └───┘          └───┘          └───┘└───┘\n",
      "The quantum circuit is correct\n"
     ]
    }
   ],
   "source": [
    "from qiskit import QuantumRegister\n",
    "ancilla = QuantumRegister(1, 'ancilla')\n",
    "b_i = QuantumRegister(4, 'b_i')\n",
    "P_1term_circuit = QuantumCircuit(b_i, ancilla)\n",
    "\n",
    "P_1term_circuit.h(ancilla)\n",
    "P_1_I_controlled = P_1_I.control(1)\n",
    "P_1term_circuit.append(P_1_I_controlled, ancilla[:] + b_i[:])\n",
    "P_1term_circuit.x(ancilla)\n",
    "I_P_1_controlled = I_P_1.control(1)\n",
    "P_1term_circuit.append(I_P_1_controlled, ancilla[:] + b_i[:])\n",
    "P_1term_circuit.x(ancilla)\n",
    "P_1term_circuit.h(ancilla)\n",
    "\n",
    "\n",
    "qv.circuit_drawer(P_1term_circuit)\n",
    "print(P_1term_circuit)\n",
    "\n",
    "P_1term = P_1term_circuit.to_gate(label='P_1term')\n",
    "\n",
    "P_1_r = Operator(P_1term_circuit)\n",
    "P_1_result = P_1_r.data[0:16, 0:16]*2\n",
    "if np.allclose(P_1_result, P1_term):\n",
    "    print(\"The quantum circuit is correct\")\n",
    "else:\n",
    "    print(\"The quantum circuit is not correct\")\n"
   ],
   "metadata": {
    "collapsed": false,
    "ExecuteTime": {
     "end_time": "2024-07-31T18:44:04.408319Z",
     "start_time": "2024-07-31T18:44:04.177756Z"
    }
   },
   "id": "3a7b00961b98aca5",
   "execution_count": 20
  },
  {
   "cell_type": "markdown",
   "source": [
    "We can do the same thing for the $P_3 \\otimes I$ and $I \\otimes P_3$."
   ],
   "metadata": {
    "collapsed": false
   },
   "id": "c18edf1fff4097a4"
  },
  {
   "cell_type": "code",
   "outputs": [
    {
     "name": "stdout",
     "output_type": "stream",
     "text": [
      "               \n",
      "q_0: ──────────\n",
      "               \n",
      "q_1: ──────────\n",
      "     ┌────────┐\n",
      "q_2: ┤0       ├\n",
      "     │  add_1 │\n",
      "q_3: ┤1       ├\n",
      "     └────────┘\n",
      "     ┌────────┐\n",
      "q_0: ┤0       ├\n",
      "     │  add_1 │\n",
      "q_1: ┤1       ├\n",
      "     └────────┘\n",
      "q_2: ──────────\n",
      "               \n",
      "q_3: ──────────\n",
      "               \n"
     ]
    }
   ],
   "source": [
    "P_3_I_circuit = QuantumCircuit(4)\n",
    "P_3_I_circuit.append(add_1, [2, 3])\n",
    "I_P_3_circuit = QuantumCircuit(4)\n",
    "I_P_3_circuit.append(add_1, [0, 1])\n",
    "qv.circuit_drawer(P_3_I_circuit)\n",
    "qv.circuit_drawer(I_P_3_circuit)\n",
    "print(P_3_I_circuit)\n",
    "print(I_P_3_circuit)\n",
    "\n",
    "P_3_I = P_3_I_circuit.to_gate(label='P_3_I')\n",
    "I_P_3 = I_P_3_circuit.to_gate(label='I_P_3')"
   ],
   "metadata": {
    "collapsed": false,
    "ExecuteTime": {
     "end_time": "2024-07-31T18:44:04.433393Z",
     "start_time": "2024-07-31T18:44:04.205282Z"
    }
   },
   "id": "985e156ac14329d9",
   "execution_count": 21
  },
  {
   "cell_type": "code",
   "outputs": [
    {
     "name": "stdout",
     "output_type": "stream",
     "text": [
      "              ┌────────┐     ┌────────┐          \n",
      "  b_i_0: ─────┤0       ├─────┤0       ├──────────\n",
      "              │        │     │        │          \n",
      "  b_i_1: ─────┤1       ├─────┤1       ├──────────\n",
      "              │  P_3_I │     │  I_P_3 │          \n",
      "  b_i_2: ─────┤2       ├─────┤2       ├──────────\n",
      "              │        │     │        │          \n",
      "  b_i_3: ─────┤3       ├─────┤3       ├──────────\n",
      "         ┌───┐└───┬────┘┌───┐└───┬────┘┌───┐┌───┐\n",
      "ancilla: ┤ H ├────■─────┤ X ├────■─────┤ X ├┤ H ├\n",
      "         └───┘          └───┘          └───┘└───┘\n",
      "The quantum circuit is correct\n"
     ]
    }
   ],
   "source": [
    "P_3term_circuit = QuantumCircuit(b_i, ancilla)\n",
    "P_3term_circuit.h(ancilla)\n",
    "P_3_I_controlled = P_3_I.control(1)\n",
    "P_3term_circuit.append(P_3_I_controlled, ancilla[:] + b_i[:])\n",
    "P_3term_circuit.x(ancilla)\n",
    "I_P_3_controlled = I_P_3.control(1)\n",
    "P_3term_circuit.append(I_P_3_controlled, ancilla[:] + b_i[:])\n",
    "P_3term_circuit.x(ancilla)\n",
    "P_3term_circuit.h(ancilla)\n",
    "qv.circuit_drawer(P_3term_circuit)\n",
    "print(P_3term_circuit)\n",
    "P_3term = P_3term_circuit.to_gate(label='P_3term')\n",
    "P_3_r = Operator(P_3term_circuit)\n",
    "P_3_result = P_3_r.data[0:16, 0:16]*2\n",
    "if np.allclose(P_3_result, P3_term):\n",
    "    print(\"The quantum circuit is correct\")\n",
    "else:\n",
    "    print(\"The quantum circuit is not correct\")\n"
   ],
   "metadata": {
    "collapsed": false,
    "ExecuteTime": {
     "end_time": "2024-07-31T18:44:04.462747Z",
     "start_time": "2024-07-31T18:44:04.211502Z"
    }
   },
   "id": "edb954294a1d0c03",
   "execution_count": 22
  },
  {
   "cell_type": "markdown",
   "source": [
    "Now prepare the prep for a whole combination of the three gates I, P_1term, and P_3term.\n",
    "Remember that the P_1term, P_3term we got is half of what it should be."
   ],
   "metadata": {
    "collapsed": false
   },
   "id": "7b182269b4f43c30"
  },
  {
   "cell_type": "markdown",
   "source": [
    "By calculation, the rotation for prep is 2 arccos($\\frac{\\sqrt{6}}{3}$)"
   ],
   "metadata": {
    "collapsed": false
   },
   "id": "c44514777c1b3b8e"
  },
  {
   "cell_type": "code",
   "outputs": [
    {
     "name": "stdout",
     "output_type": "stream",
     "text": [
      "           ┌─────────┐     \n",
      "Ancilla_0: ┤ Ry(π/2) ├──■──\n",
      "           └─────────┘┌─┴─┐\n",
      "Ancilla_1: ───────────┤ H ├\n",
      "                      └───┘\n",
      "[[ 0.70710678+0.j -0.70710678+0.j  0.        +0.j  0.        +0.j]\n",
      " [ 0.5       +0.j  0.5       +0.j  0.5       +0.j  0.5       +0.j]\n",
      " [ 0.        +0.j  0.        +0.j  0.70710678+0.j -0.70710678+0.j]\n",
      " [ 0.5       +0.j  0.5       +0.j -0.5       +0.j -0.5       +0.j]]\n",
      "[[0.70710678+0.j]\n",
      " [0.5       +0.j]\n",
      " [0.        +0.j]\n",
      " [0.5       +0.j]]\n"
     ]
    }
   ],
   "source": [
    "Ancilla = QuantumRegister(2, 'Ancilla')\n",
    "Prep_circuit = QuantumCircuit(Ancilla)\n",
    "Prep_circuit.ry(2 * np.arccos(np.sqrt(2) / 2), Ancilla[0])\n",
    "Prep_circuit.ch(Ancilla[0], Ancilla[1])\n",
    "qv.circuit_drawer(Prep_circuit)\n",
    "print(Prep_circuit)\n",
    "Prep = Prep_circuit.to_gate(label='Prep')\n",
    "\n",
    "Prep_r = Operator(Prep_circuit)\n",
    "print(Prep_r.data)\n",
    "Prep_result = Prep_r.data @ np.array([[1], [0], [0], [0]])\n",
    "print(Prep_result)"
   ],
   "metadata": {
    "collapsed": false,
    "ExecuteTime": {
     "end_time": "2024-07-31T18:44:04.467373Z",
     "start_time": "2024-07-31T18:44:04.239725Z"
    }
   },
   "id": "4f49e160339b91e4",
   "execution_count": 23
  },
  {
   "cell_type": "code",
   "outputs": [],
   "source": [
    "ry_circuit = QuantumCircuit(1)\n",
    "ry_circuit.ry(2 * np.pi, 0)\n",
    "ry = ry_circuit.to_gate(label='ry')"
   ],
   "metadata": {
    "collapsed": false,
    "ExecuteTime": {
     "end_time": "2024-07-31T18:44:04.471354Z",
     "start_time": "2024-07-31T18:44:04.252769Z"
    }
   },
   "id": "43c7382ecad95bda",
   "execution_count": 24
  },
  {
   "cell_type": "code",
   "outputs": [
    {
     "name": "stdout",
     "output_type": "stream",
     "text": [
      "           ┌──────────┐     ┌──────────┐      \n",
      "    q_i_0: ┤0         ├─────┤0         ├──────\n",
      "           │          │     │          │      \n",
      "    q_i_1: ┤1         ├─────┤1         ├──────\n",
      "           │          │     │          │      \n",
      "    q_i_2: ┤2 P_1term ├─────┤2 P_3term ├──────\n",
      "           │          │     │          │      \n",
      "    q_i_3: ┤3         ├─────┤3         ├──────\n",
      "           │          │     │          │┌────┐\n",
      "    q_i_4: ┤4         ├─────┤4         ├┤ ry ├\n",
      "           └────┬─────┘     └────┬─────┘└─┬──┘\n",
      "Ancilla_0: ─────■────────────────■────────■───\n",
      "                │      ┌───┐     │      ┌───┐ \n",
      "Ancilla_1: ─────■──────┤ X ├─────■──────┤ X ├─\n",
      "                       └───┘            └───┘ \n"
     ]
    }
   ],
   "source": [
    "q_i = QuantumRegister(5, 'q_i')\n",
    "Select_circuit = QuantumCircuit(q_i, Ancilla)\n",
    "P_1term_controlled = P_1term.control(2)\n",
    "P_3term_controlled = P_3term.control(2)\n",
    "Select_circuit.append(P_1term_controlled, Ancilla[:] + q_i[:])\n",
    "Select_circuit.x(Ancilla[1])\n",
    "Select_circuit.append(P_3term_controlled, Ancilla[:] + q_i[:])\n",
    "Select_circuit.x(Ancilla[1])\n",
    "ry_controlled = ry.control(1)\n",
    "Select_circuit.append(ry_controlled, [Ancilla[0], q_i[4]])\n",
    "\n",
    "qv.circuit_drawer(Select_circuit)\n",
    "print(Select_circuit)"
   ],
   "metadata": {
    "collapsed": false,
    "ExecuteTime": {
     "end_time": "2024-07-31T18:44:22.727960Z",
     "start_time": "2024-07-31T18:44:04.275253Z"
    }
   },
   "id": "72975692f234fa2a",
   "execution_count": 25
  },
  {
   "cell_type": "code",
   "outputs": [
    {
     "name": "stdout",
     "output_type": "stream",
     "text": [
      "                    ┌──────────────┐                   \n",
      "    q_i_0: ─────────┤0             ├───────────────────\n",
      "                    │              │                   \n",
      "    q_i_1: ─────────┤1             ├───────────────────\n",
      "                    │              │                   \n",
      "    q_i_2: ─────────┤2             ├───────────────────\n",
      "                    │              │                   \n",
      "    q_i_3: ─────────┤3 circuit-221 ├───────────────────\n",
      "                    │              │                   \n",
      "    q_i_4: ─────────┤4             ├───────────────────\n",
      "           ┌───────┐│              │┌─────────────────┐\n",
      "Ancilla_0: ┤0      ├┤5             ├┤0                ├\n",
      "           │  Prep ││              ││  circuit-213_dg │\n",
      "Ancilla_1: ┤1      ├┤6             ├┤1                ├\n",
      "           └───────┘└──────────────┘└─────────────────┘\n",
      "[[ 4. -1. -0. -1. -1.  0. -0.  0. -0.  0.  0. -0. -1.  0.  0.  0.]\n",
      " [-1.  4. -1.  0.  0. -1.  0. -0.  0. -0.  0.  0.  0. -1.  0.  0.]\n",
      " [ 0. -1.  4. -1.  0.  0. -1.  0.  0.  0. -0.  0.  0.  0. -1.  0.]\n",
      " [-1. -0. -1.  4.  0. -0.  0. -1.  0.  0.  0. -0.  0. -0.  0. -1.]\n",
      " [-1.  0.  0.  0.  4. -1. -0. -1. -1.  0. -0.  0.  0. -0.  0. -0.]\n",
      " [ 0. -1.  0.  0. -1.  4. -1. -0.  0. -1.  0.  0.  0.  0. -0.  0.]\n",
      " [-0.  0. -1.  0.  0. -1.  4. -1.  0.  0. -1.  0.  0.  0.  0. -0.]\n",
      " [ 0. -0.  0. -1. -1.  0. -1.  4.  0.  0.  0. -1. -0.  0. -0. -0.]\n",
      " [ 0. -0.  0.  0. -1.  0.  0.  0.  4. -1. -0. -1. -1.  0. -0.  0.]\n",
      " [-0.  0.  0.  0.  0. -1.  0. -0. -1.  4. -1.  0.  0. -1.  0.  0.]\n",
      " [-0. -0.  0.  0.  0.  0. -1.  0. -0. -1.  4. -1. -0.  0. -1.  0.]\n",
      " [ 0. -0.  0.  0.  0. -0.  0. -1. -1. -0. -1.  4.  0.  0.  0. -1.]\n",
      " [-1.  0. -0.  0.  0.  0. -0. -0. -1.  0. -0.  0.  4. -1.  0. -1.]\n",
      " [ 0. -1.  0.  0.  0.  0. -0. -0.  0. -1.  0. -0. -1.  4. -1.  0.]\n",
      " [ 0.  0. -1.  0.  0.  0.  0. -0.  0.  0. -1.  0.  0. -1.  4. -1.]\n",
      " [ 0.  0.  0. -1. -0.  0. -0.  0.  0.  0.  0. -1. -1. -0. -1.  4.]]\n",
      "The quantum circuit is correct\n"
     ]
    },
    {
     "data": {
      "text/plain": "<Figure size 480x480 with 2 Axes>",
      "image/png": "[encoded data removed]"
     },
     "metadata": {},
     "output_type": "display_data"
    }
   ],
   "source": [
    "Whole_circuit = QuantumCircuit(q_i, Ancilla)\n",
    "Whole_circuit.append(Prep, Ancilla)\n",
    "Whole_circuit.append(Select_circuit, q_i[:] + Ancilla[:])\n",
    "Whole_circuit.append(Prep.inverse(), Ancilla)\n",
    "qv.circuit_drawer(Whole_circuit)\n",
    "print(Whole_circuit)\n",
    "Whole = Operator(Whole_circuit)\n",
    "Result = Whole.data[0:16, 0:16]\n",
    "plt.matshow(Result.real)\n",
    "plt.colorbar()\n",
    "print(np.round(Result.real*8, 3))\n",
    "if np.allclose(Result.real*8, L_2):\n",
    "    print(\"The quantum circuit is correct\")\n",
    "else:\n",
    "    print(\"The quantum circuit is not correct\")"
   ],
   "metadata": {
    "collapsed": false,
    "ExecuteTime": {
     "end_time": "2024-07-31T18:44:23.515853Z",
     "start_time": "2024-07-31T18:44:22.726221Z"
    }
   },
   "id": "745a986ee6136172",
   "execution_count": 26
  },
  {
   "cell_type": "markdown",
   "source": [],
   "metadata": {
    "collapsed": false
   },
   "id": "496cefb573f39f"
  },
  {
   "cell_type": "markdown",
   "source": [
    "## 2.1.2 The implementation of the block encoding by the 2nd idea\n",
    "The well-sturctured matrix can be easily implemented by the LCU.\n",
    "The we need to find some way to implement the complement matrix."
   ],
   "metadata": {
    "collapsed": false
   },
   "id": "b10f36e3ebce8579"
  },
  {
   "cell_type": "code",
   "outputs": [
    {
     "name": "stdout",
     "output_type": "stream",
     "text": [
      "[[ 0.  0.  0.  1.  0.  0.  0.  0.  0.  0.  0.  0.  0.  0.  0. -1.]\n",
      " [ 0.  0.  0.  0.  0.  0.  0.  0.  0.  0.  0.  0.  0.  0.  0.  0.]\n",
      " [ 0.  0.  0.  0.  0.  0.  0.  0.  0.  0.  0.  0.  0.  0.  0.  0.]\n",
      " [ 1.  0.  0.  0. -1.  0.  0.  0.  0.  0.  0.  0.  0.  0.  0.  0.]\n",
      " [ 0.  0.  0. -1.  0.  0.  0.  1.  0.  0.  0.  0.  0.  0.  0.  0.]\n",
      " [ 0.  0.  0.  0.  0.  0.  0.  0.  0.  0.  0.  0.  0.  0.  0.  0.]\n",
      " [ 0.  0.  0.  0.  0.  0.  0.  0.  0.  0.  0.  0.  0.  0.  0.  0.]\n",
      " [ 0.  0.  0.  0.  1.  0.  0.  0. -1.  0.  0.  0.  0.  0.  0.  0.]\n",
      " [ 0.  0.  0.  0.  0.  0.  0. -1.  0.  0.  0.  1.  0.  0.  0.  0.]\n",
      " [ 0.  0.  0.  0.  0.  0.  0.  0.  0.  0.  0.  0.  0.  0.  0.  0.]\n",
      " [ 0.  0.  0.  0.  0.  0.  0.  0.  0.  0.  0.  0.  0.  0.  0.  0.]\n",
      " [ 0.  0.  0.  0.  0.  0.  0.  0.  1.  0.  0.  0. -1.  0.  0.  0.]\n",
      " [ 0.  0.  0.  0.  0.  0.  0.  0.  0.  0.  0. -1.  0.  0.  0.  1.]\n",
      " [ 0.  0.  0.  0.  0.  0.  0.  0.  0.  0.  0.  0.  0.  0.  0.  0.]\n",
      " [ 0.  0.  0.  0.  0.  0.  0.  0.  0.  0.  0.  0.  0.  0.  0.  0.]\n",
      " [-1.  0.  0.  0.  0.  0.  0.  0.  0.  0.  0.  0.  1.  0.  0.  0.]]\n"
     ]
    },
    {
     "data": {
      "text/plain": "<matplotlib.colorbar.Colorbar at 0x13860e4e0>"
     },
     "execution_count": 27,
     "metadata": {},
     "output_type": "execute_result"
    },
    {
     "data": {
      "text/plain": "<Figure size 480x480 with 2 Axes>",
      "image/png": "[encoded data removed]"
     },
     "metadata": {},
     "output_type": "display_data"
    }
   ],
   "source": [
    "print(complement_banded_P1_P3_term.real)\n",
    "plt.matshow(complement_banded_P1_P3_term.real)\n",
    "plt.colorbar()"
   ],
   "metadata": {
    "collapsed": false,
    "ExecuteTime": {
     "end_time": "2024-07-31T18:44:23.875197Z",
     "start_time": "2024-07-31T18:44:23.516300Z"
    }
   },
   "id": "91a5fc549acf3ace",
   "execution_count": 27
  },
  {
   "cell_type": "markdown",
   "source": [
    "It has 4 non-zero bands, and each band has an interval of 4.\n",
    "F|0> = |3> - |15>\n",
    "F|1> = 0\n",
    "F|2> = 0\n",
    "F|3> = |0> - |4>\n",
    "F|4> = -|3> + |7>\n",
    "F|5> = 0\n",
    "F|6> = 0\n",
    "F|7> = |4> - |8>\n",
    "F|8> = -|7> + |11>\n",
    "F|9> = 0\n",
    "F|10> = 0\n",
    "F|11> = |8> - |12>\n",
    "F|12> = -|11> + |15>\n",
    "F|13> = 0\n",
    "F|14> = 0\n",
    "F|15> = |12> - |0>\n",
    "So the state participates in the computation is $|0>, |3>, |4>, |7>, |8>, |11>, |12>, |15>$"
   ],
   "metadata": {
    "collapsed": false
   },
   "id": "51af72fc88906878"
  },
  {
   "cell_type": "markdown",
   "source": [
    "For $|0>, |4>, |8>, |12>$, the transformation is actually |j> -> |j+3> - |j-1>.\n",
    "For $|3>, |7>, |11>, |15>$, the transformation is actually |j> -> |j-3> - |j+1>.\n",
    "and |0>, |4>, |8>, |12> is 0000, 0100, 1000, 1100 in binary, are and are the only states that have the last 2 bits to be 00 for four-bit binary.\n",
    "and |3>, |7>, |11>, |15> is 0011, 0111, 1011, 1111 in binary, are and are the only states that have the last 2 bits to be 11 for four-bit binary.\n"
   ],
   "metadata": {
    "collapsed": false
   },
   "id": "7fba4ff0d3a8be14"
  },
  {
   "cell_type": "markdown",
   "source": [
    "We hope to control a certain location to be a certain value.\n",
    "However, it will be not economical to control the value of a certain location to be a certain value for all the entries.\n",
    "We'd better to keep tearing down the matrix to smaller matrices."
   ],
   "metadata": {
    "collapsed": false
   },
   "id": "a7be25e9f5fdf4f8"
  },
  {
   "cell_type": "code",
   "outputs": [
    {
     "data": {
      "text/plain": "<matplotlib.colorbar.Colorbar at 0x13887ffe0>"
     },
     "execution_count": 28,
     "metadata": {},
     "output_type": "execute_result"
    },
    {
     "data": {
      "text/plain": "<Figure size 480x480 with 2 Axes>",
      "image/png": "[encoded data removed]"
     },
     "metadata": {},
     "output_type": "display_data"
    },
    {
     "data": {
      "text/plain": "<Figure size 480x480 with 2 Axes>",
      "image/png": "[encoded data removed]"
     },
     "metadata": {},
     "output_type": "display_data"
    },
    {
     "data": {
      "text/plain": "<Figure size 480x480 with 2 Axes>",
      "image/png": "[encoded data removed]"
     },
     "metadata": {},
     "output_type": "display_data"
    },
    {
     "data": {
      "text/plain": "<Figure size 480x480 with 2 Axes>",
      "image/png": "[encoded data removed]"
     },
     "metadata": {},
     "output_type": "display_data"
    }
   ],
   "source": [
    "upper_left_complement_banded_P1_P3_term = complement_banded_P1_P3_term[:8, :8]\n",
    "plt.matshow(upper_left_complement_banded_P1_P3_term.real)\n",
    "plt.colorbar()\n",
    "down_right_complement_banded_P1_P3_term = complement_banded_P1_P3_term[8:, 8:]\n",
    "plt.matshow(down_right_complement_banded_P1_P3_term.real)\n",
    "plt.colorbar()\n",
    "upper_right_complement_banded_P1_P3_term = complement_banded_P1_P3_term[:8, 8:]\n",
    "plt.matshow(upper_right_complement_banded_P1_P3_term.real)\n",
    "plt.colorbar()\n",
    "down_left_complement_banded_P1_P3_term = complement_banded_P1_P3_term[8:, :8]\n",
    "plt.matshow(down_left_complement_banded_P1_P3_term.real)\n",
    "plt.colorbar()"
   ],
   "metadata": {
    "collapsed": false,
    "ExecuteTime": {
     "end_time": "2024-07-31T18:44:25.278860Z",
     "start_time": "2024-07-31T18:44:23.909593Z"
    }
   },
   "id": "50593c79c98f1fac",
   "execution_count": 28
  },
  {
   "cell_type": "markdown",
   "source": [
    "Let's call upper left to be A, upper right to be B, then the original matrix is\n",
    "$$\n",
    "\\begin{bmatrix}\n",
    "A & -B \\\\\n",
    "-B & A\n",
    "\\end{bmatrix}\n",
    "$$"
   ],
   "metadata": {
    "collapsed": false
   },
   "id": "7ddbb0fd4432754d"
  },
  {
   "cell_type": "markdown",
   "source": [
    "A can be further divided into\n",
    "$$I \\otimes \n",
    "\\begin{bmatrix}\n",
    "0 & 0 & 0 & 1 \\\\\n",
    "0 & 0 & 0 & 0 \\\\\n",
    "0 & 0 & 0 & 0 \\\\\n",
    "1 & 0 & 0 & 0\n",
    "\\end{bmatrix}\n",
    "+(-1) \n",
    " \\begin{bmatrix}\n",
    " 0&1\\\\\n",
    "    1&0\n",
    "    \\end{bmatrix}\n",
    " \\otimes \n",
    "\\begin{bmatrix}\n",
    "0 & 0 & 0 & 0 \\\\\n",
    "0 & 0 & 0 & 0 \\\\\n",
    "0 & 0 & 0 & 0 \\\\\n",
    "1 & 0 & 0 & 0\n",
    "\\end{bmatrix}\n",
    "+ \\begin{bmatrix}\n",
    " 0&0\\\\\n",
    "    1&0\n",
    "    \\end{bmatrix}\n",
    " \\otimes\n",
    " + \\begin{bmatrix}\n",
    "  + 0 & 0 & 0 & 1 \\\\\n",
    "0 & 0 & 0 & 0 \\\\\n",
    "0 & 0 & 0 & 0 \\\\\n",
    "0 & 0 & 0 & 0\n",
    "\\end{bmatrix}\n",
    "$$\n",
    "let the first matrix be C, and the second matrix be D,the 2 by 2 matrix be F\n",
    "Then, the original matrix is\n",
    "$$\n",
    "I \\otimes (I \\otimes C + (-1)F \\otimes D^\\dag + (-1)F^\\dag \\otimes D) + (-1)X \\otimes B\n",
    "$$\n"
   ],
   "metadata": {
    "collapsed": false
   },
   "id": "15a9a9dc9c307825"
  },
  {
   "cell_type": "markdown",
   "source": [
    "### 2.1.2.1 A block encoding of very sparse matrix based on orthognal and banded matrix\n",
    "So, the problem is how we can encode a matrix that a certain location is assigned with a certain value."
   ],
   "metadata": {
    "collapsed": false
   },
   "id": "d219bb7bd42302c8"
  },
  {
   "cell_type": "markdown",
   "source": [
    "For C, we want to assign |3> to |0>, then we need to assign like orthognal matrix.\n",
    "And if we can make a band in the matrix, it's better."
   ],
   "metadata": {
    "collapsed": false
   },
   "id": "aa994dadc7922b9c"
  },
  {
   "cell_type": "markdown",
   "source": [],
   "metadata": {
    "collapsed": false
   },
   "id": "2b94e06162369365"
  },
  {
   "cell_type": "code",
   "outputs": [
    {
     "name": "stdout",
     "output_type": "stream",
     "text": [
      "[[1 0 0 0 0 0 0 0]\n",
      " [0 1 0 0 0 0 0 0]\n",
      " [0 0 1 0 0 0 0 0]\n",
      " [0 0 0 1 0 0 0 0]\n",
      " [0 0 0 0 1 0 0 0]\n",
      " [0 0 0 0 0 1 0 0]\n",
      " [0 0 0 0 0 0 1 0]\n",
      " [0 0 0 0 0 0 0 1]]\n"
     ]
    },
    {
     "data": {
      "text/plain": "<matplotlib.colorbar.Colorbar at 0x138960860>"
     },
     "execution_count": 29,
     "metadata": {},
     "output_type": "execute_result"
    },
    {
     "data": {
      "text/plain": "<Figure size 480x480 with 2 Axes>",
      "image/png": "[encoded data removed]"
     },
     "metadata": {},
     "output_type": "display_data"
    }
   ],
   "source": [
    "Trial_block = np.array([[0,0,0,1,0,0,0,0],\n",
    "                        [0,0,0,0,1,0,0,0],\n",
    "                        [0,0,0,0,0,1,0,0],\n",
    "                        [0,0,0,0,0,0,1,0],\n",
    "                        [0,0,0,0,0,0,0,1],\n",
    "                        [1,0,0,0,0,0,0,0],\n",
    "                        [0,1,0,0,0,0,0,0],\n",
    "                        [0,0,1,0,0,0,0,0]])\n",
    "UU_dag = Trial_block @ Trial_block.T\n",
    "print(UU_dag)\n",
    "plt.matshow(Trial_block)\n",
    "plt.colorbar()"
   ],
   "metadata": {
    "collapsed": false,
    "ExecuteTime": {
     "end_time": "2024-07-31T18:44:25.678434Z",
     "start_time": "2024-07-31T18:44:25.303803Z"
    }
   },
   "id": "fc76205bd0084061",
   "execution_count": 29
  },
  {
   "cell_type": "markdown",
   "source": [
    "This is a banded matrix, can be block encoding, and we can find the target matrix in the upper left corner."
   ],
   "metadata": {
    "collapsed": false
   },
   "id": "98e9ed88344ec5ee"
  },
  {
   "cell_type": "markdown",
   "source": [
    "For \n",
    "$$\n",
    "C = \\begin{bmatrix}\n",
    "0 & 0 & 0 & 1 \\\\\n",
    "0 & 0 & 0 & 0 \\\\\n",
    "0 & 0 & 0 & 0 \\\\\n",
    "1 & 0 & 0 & 0\n",
    "\\end{bmatrix}\n",
    "$$\n",
    "it is actually $ C = D + D^{\\dagger}$\n",
    "where $D = \\begin{bmatrix}\n",
    "0 & 0 & 0 & 1 \\\\\n",
    "0 & 0 & 0 & 0 \\\\\n",
    "0 & 0 & 0 & 0 \\\\\n",
    "0 & 0 & 0 & 0\n",
    "\\end{bmatrix}$\n",
    "is encoded (let's call it $U_D$) by the way above.\n",
    "So $U_C = \\frac{U_D + U_D^{\\dagger}}{2}$(PS:block addition cost one ancilla qubit,so the + here does not mean $U_C$'s block encoding matrix is purely addtion of $U_D$ and $U_D^{\\dagger}$)"
   ],
   "metadata": {
    "collapsed": false
   },
   "id": "e8ec95a55ca27175"
  },
  {
   "cell_type": "markdown",
   "source": [
    "And we need $$U_FD + (-1)U_FD^\\dag = U_F \\otimes U_D^\\dag + U_F^\\dag \\otimes U_D$$"
   ],
   "metadata": {
    "collapsed": false
   },
   "id": "e4db03dcdecc95"
  },
  {
   "cell_type": "markdown",
   "source": [
    "Then we want to block encode B.\n",
    "$$\n",
    "B = \\begin{bmatrix}\n",
    "0 & 0 & 0 & 0 & 0 & 0 & 0 & 1 \\\\\n",
    "0 & 0 & 0 & 0 & 0 & 0 & 0 & 0 \\\\\n",
    "0 & 0 & 0 & 0 & 0 & 0 & 0 & 0 \\\\\n",
    "0 & 0 & 0 & 0 & 0 & 0 & 0 & 0 \\\\\n",
    "0 & 0 & 0 & 0 & 0 & 0 & 0 & 0 \\\\\n",
    "0 & 0 & 0 & 0 & 0 & 0 & 0 & 0 \\\\\n",
    "0 & 0 & 0 & 0 & 0 & 0 & 0 & 0 \\\\\n",
    "1 & 0 & 0 & 0 & 0 & 0 & 0 & 0 \\\\\n",
    "\\end{bmatrix}\n",
    "$$\n"
   ],
   "metadata": {
    "collapsed": false
   },
   "id": "19a0a5ef03e0e600"
  },
  {
   "cell_type": "code",
   "outputs": [
    {
     "name": "stdout",
     "output_type": "stream",
     "text": [
      "[[2 0 1 0 0 0 0 0 0 0 0 0 0 0 1 0]\n",
      " [0 2 0 1 0 0 0 0 0 0 0 0 0 0 0 1]\n",
      " [1 0 2 0 1 0 0 0 0 0 0 0 0 0 0 0]\n",
      " [0 1 0 2 0 1 0 0 0 0 0 0 0 0 0 0]\n",
      " [0 0 1 0 2 0 1 0 0 0 0 0 0 0 0 0]\n",
      " [0 0 0 1 0 2 0 1 0 0 0 0 0 0 0 0]\n",
      " [0 0 0 0 1 0 2 0 1 0 0 0 0 0 0 0]\n",
      " [0 0 0 0 0 1 0 2 0 1 0 0 0 0 0 0]\n",
      " [0 0 0 0 0 0 1 0 2 0 1 0 0 0 0 0]\n",
      " [0 0 0 0 0 0 0 1 0 2 0 1 0 0 0 0]\n",
      " [0 0 0 0 0 0 0 0 1 0 2 0 1 0 0 0]\n",
      " [0 0 0 0 0 0 0 0 0 1 0 2 0 1 0 0]\n",
      " [0 0 0 0 0 0 0 0 0 0 1 0 2 0 1 0]\n",
      " [0 0 0 0 0 0 0 0 0 0 0 1 0 2 0 1]\n",
      " [1 0 0 0 0 0 0 0 0 0 0 0 1 0 2 0]\n",
      " [0 1 0 0 0 0 0 0 0 0 0 0 0 1 0 2]]\n"
     ]
    },
    {
     "data": {
      "text/plain": "<Figure size 480x480 with 2 Axes>",
      "image/png": "[encoded data removed]"
     },
     "metadata": {},
     "output_type": "display_data"
    }
   ],
   "source": [
    "Encode_B = np.array([[0,0,0,0,0,0,0,1,0,1,0,0,0,0,0,0],\n",
    "                     [0,0,0,0,0,0,0,0,1,0,1,0,0,0,0,0],\n",
    "                     [0,0,0,0,0,0,0,0,0,1,0,1,0,0,0,0],\n",
    "                     [0,0,0,0,0,0,0,0,0,0,1,0,1,0,0,0],\n",
    "                     [0,0,0,0,0,0,0,0,0,0,0,1,0,1,0,0],\n",
    "                     [0,0,0,0,0,0,0,0,0,0,0,0,1,0,1,0],\n",
    "                     [0,0,0,0,0,0,0,0,0,0,0,0,0,1,0,1],\n",
    "                     [1,0,0,0,0,0,0,0,0,0,0,0,0,0,1,0],\n",
    "                     [0,1,0,0,0,0,0,0,0,0,0,0,0,0,0,1],\n",
    "                     [1,0,1,0,0,0,0,0,0,0,0,0,0,0,0,0],\n",
    "                     [0,1,0,1,0,0,0,0,0,0,0,0,0,0,0,0],\n",
    "                     [0,0,1,0,1,0,0,0,0,0,0,0,0,0,0,0],\n",
    "                     [0,0,0,1,0,1,0,0,0,0,0,0,0,0,0,0],\n",
    "                     [0,0,0,0,1,0,1,0,0,0,0,0,0,0,0,0],\n",
    "                     [0,0,0,0,0,1,0,1,0,0,0,0,0,0,0,0],\n",
    "                     [0,0,0,0,0,0,1,0,1,0,0,0,0,0,0,0]])\n",
    "plt.matshow(Encode_B)\n",
    "plt.colorbar()\n",
    "\n",
    "print(Encode_B @ Encode_B.T)"
   ],
   "metadata": {
    "collapsed": false,
    "ExecuteTime": {
     "end_time": "2024-07-31T18:44:26.033807Z",
     "start_time": "2024-07-31T18:44:25.713151Z"
    }
   },
   "id": "93cd4c76858e3a73",
   "execution_count": 30
  },
  {
   "cell_type": "markdown",
   "source": [
    "\n"
   ],
   "metadata": {
    "collapsed": false
   },
   "id": "484110e501aa4b6f"
  },
  {
   "cell_type": "markdown",
   "source": [
    "This is not a good way, since this moddle step is not unitary then it can be implemented by the LCU.But it will cost some more qubits."
   ],
   "metadata": {
    "collapsed": false
   },
   "id": "2acb0b21b82f2bde"
  },
  {
   "cell_type": "markdown",
   "source": [
    "So why not block encode\n",
    "$$\n",
    "E = \\begin{bmatrix}\n",
    "0 & 0 & 0 & 0 & 0 & 0 & 0 & 1 \\\\\n",
    "0 & 0 & 0 & 0 & 0 & 0 & 0 & 0 \\\\\n",
    "0 & 0 & 0 & 0 & 0 & 0 & 0 & 0 \\\\\n",
    "0 & 0 & 0 & 0 & 0 & 0 & 0 & 0 \\\\\n",
    "0 & 0 & 0 & 0 & 0 & 0 & 0 & 0 \\\\\n",
    "0 & 0 & 0 & 0 & 0 & 0 & 0 & 0 \\\\\n",
    "0 & 0 & 0 & 0 & 0 & 0 & 0 & 0 \\\\\n",
    "0 & 0 & 0 & 0 & 0 & 0 & 0 & 0 \\\\\n",
    "\\end{bmatrix}\n",
    "$$"
   ],
   "metadata": {
    "collapsed": false
   },
   "id": "59fe011ddf63ea8b"
  },
  {
   "cell_type": "code",
   "outputs": [
    {
     "name": "stdout",
     "output_type": "stream",
     "text": [
      "[[1 0 0 0 0 0 0 0 0 0 0 0 0 0 0 0]\n",
      " [0 1 0 0 0 0 0 0 0 0 0 0 0 0 0 0]\n",
      " [0 0 1 0 0 0 0 0 0 0 0 0 0 0 0 0]\n",
      " [0 0 0 1 0 0 0 0 0 0 0 0 0 0 0 0]\n",
      " [0 0 0 0 1 0 0 0 0 0 0 0 0 0 0 0]\n",
      " [0 0 0 0 0 1 0 0 0 0 0 0 0 0 0 0]\n",
      " [0 0 0 0 0 0 1 0 0 0 0 0 0 0 0 0]\n",
      " [0 0 0 0 0 0 0 1 0 0 0 0 0 0 0 0]\n",
      " [0 0 0 0 0 0 0 0 1 0 0 0 0 0 0 0]\n",
      " [0 0 0 0 0 0 0 0 0 1 0 0 0 0 0 0]\n",
      " [0 0 0 0 0 0 0 0 0 0 1 0 0 0 0 0]\n",
      " [0 0 0 0 0 0 0 0 0 0 0 1 0 0 0 0]\n",
      " [0 0 0 0 0 0 0 0 0 0 0 0 1 0 0 0]\n",
      " [0 0 0 0 0 0 0 0 0 0 0 0 0 1 0 0]\n",
      " [0 0 0 0 0 0 0 0 0 0 0 0 0 0 1 0]\n",
      " [0 0 0 0 0 0 0 0 0 0 0 0 0 0 0 1]]\n"
     ]
    },
    {
     "data": {
      "text/plain": "<Figure size 480x480 with 2 Axes>",
      "image/png": "[encoded data removed]"
     },
     "metadata": {},
     "output_type": "display_data"
    }
   ],
   "source": [
    "Encode_E = np.array([[0,0,0,0,0,0,0,1,0,0,0,0,0,0,0,0],\n",
    "                     [0,0,0,0,0,0,0,0,1,0,0,0,0,0,0,0],\n",
    "                     [0,0,0,0,0,0,0,0,0,1,0,0,0,0,0,0],\n",
    "                     [0,0,0,0,0,0,0,0,0,0,1,0,0,0,0,0],\n",
    "                     [0,0,0,0,0,0,0,0,0,0,0,1,0,0,0,0],\n",
    "                     [0,0,0,0,0,0,0,0,0,0,0,0,1,0,0,0],\n",
    "                     [0,0,0,0,0,0,0,0,0,0,0,0,0,1,0,0],\n",
    "                     [0,0,0,0,0,0,0,0,0,0,0,0,0,0,1,0],\n",
    "                     [0,0,0,0,0,0,0,0,0,0,0,0,0,0,0,1],\n",
    "                     [1,0,0,0,0,0,0,0,0,0,0,0,0,0,0,0],\n",
    "                     [0,1,0,0,0,0,0,0,0,0,0,0,0,0,0,0],\n",
    "                     [0,0,1,0,0,0,0,0,0,0,0,0,0,0,0,0],\n",
    "                     [0,0,0,1,0,0,0,0,0,0,0,0,0,0,0,0],\n",
    "                     [0,0,0,0,1,0,0,0,0,0,0,0,0,0,0,0],\n",
    "                     [0,0,0,0,0,1,0,0,0,0,0,0,0,0,0,0],\n",
    "                     [0,0,0,0,0,0,1,0,0,0,0,0,0,0,0,0]])\n",
    "plt.matshow(Encode_E)\n",
    "plt.colorbar()\n",
    "print  (Encode_E @ Encode_E.T)"
   ],
   "metadata": {
    "collapsed": false,
    "ExecuteTime": {
     "end_time": "2024-07-31T18:44:26.378775Z",
     "start_time": "2024-07-31T18:44:26.074770Z"
    }
   },
   "id": "e4becf7ae8959c42",
   "execution_count": 31
  },
  {
   "cell_type": "markdown",
   "source": [
    "And then use $U_B = U_E + U_E^{\\dagger}$"
   ],
   "metadata": {
    "collapsed": false
   },
   "id": "6b94a7001ff2fda4"
  },
  {
   "cell_type": "markdown",
   "source": [
    "So\n",
    "$$\n",
    "\\begin{align*}\n",
    "L_2 &= 4I + (-1) P_1\\&P_3 = 4I + (-1) P + (-1)\\overline{P}\\\\\n",
    "    & = 4I + (-1) P + (-1)(I \\otimes (I \\otimes C + X \\otimes D) + (-1) X \\otimes B)\n",
    "\\end{align*}\n",
    "$$"
   ],
   "metadata": {
    "collapsed": false
   },
   "id": "9c8bf67eecc0b724"
  },
  {
   "cell_type": "markdown",
   "source": [
    "$$\n",
    "\\begin{align*}\n",
    "U_{L_2} &= U_{4I} + (-1) U_P + (-1) U_{\\overline{P}}\\\\\n",
    "        &= U_{4I} + (-1) U_P + (-1) (U_{I \\otimes (I \\otimes C + X \\otimes D)} + (-1) U_{X \\otimes B})\\\\\n",
    "        &= U_{4I} + (-1) U_P + (-1) U_{I \\otimes (I \\otimes C + X \\otimes D)} + U_{X \\otimes B}\\\\\n",
    "        &= 4I + (-1) U_P_{by\\ LCU} + (-1) (I \\otimes (2 * I \\otimes (U_D+U_D^{\\dagger})/2 + X \\otimes U_D) + 2 * X \\otimes (U_E + U_E^{\\dagger})/2)\n",
    "\\end{align*}\n",
    "$$"
   ],
   "metadata": {
    "collapsed": false
   },
   "id": "7a42cbf8c5007ff6"
  },
  {
   "cell_type": "markdown",
   "source": [
    "Now, Let's first implement the good structured matrix."
   ],
   "metadata": {
    "collapsed": false
   },
   "id": "bc66204e179c926d"
  },
  {
   "cell_type": "code",
   "outputs": [
    {
     "name": "stdout",
     "output_type": "stream",
     "text": [
      "[[0. 1. 0. 0. 1. 0. 0. 0. 0. 0. 0. 0. 1. 0. 0. 1.]\n",
      " [1. 0. 1. 0. 0. 1. 0. 0. 0. 0. 0. 0. 0. 1. 0. 0.]\n",
      " [0. 1. 0. 1. 0. 0. 1. 0. 0. 0. 0. 0. 0. 0. 1. 0.]\n",
      " [0. 0. 1. 0. 1. 0. 0. 1. 0. 0. 0. 0. 0. 0. 0. 1.]\n",
      " [1. 0. 0. 1. 0. 1. 0. 0. 1. 0. 0. 0. 0. 0. 0. 0.]\n",
      " [0. 1. 0. 0. 1. 0. 1. 0. 0. 1. 0. 0. 0. 0. 0. 0.]\n",
      " [0. 0. 1. 0. 0. 1. 0. 1. 0. 0. 1. 0. 0. 0. 0. 0.]\n",
      " [0. 0. 0. 1. 0. 0. 1. 0. 1. 0. 0. 1. 0. 0. 0. 0.]\n",
      " [0. 0. 0. 0. 1. 0. 0. 1. 0. 1. 0. 0. 1. 0. 0. 0.]\n",
      " [0. 0. 0. 0. 0. 1. 0. 0. 1. 0. 1. 0. 0. 1. 0. 0.]\n",
      " [0. 0. 0. 0. 0. 0. 1. 0. 0. 1. 0. 1. 0. 0. 1. 0.]\n",
      " [0. 0. 0. 0. 0. 0. 0. 1. 0. 0. 1. 0. 1. 0. 0. 1.]\n",
      " [1. 0. 0. 0. 0. 0. 0. 0. 1. 0. 0. 1. 0. 1. 0. 0.]\n",
      " [0. 1. 0. 0. 0. 0. 0. 0. 0. 1. 0. 0. 1. 0. 1. 0.]\n",
      " [0. 0. 1. 0. 0. 0. 0. 0. 0. 0. 1. 0. 0. 1. 0. 1.]\n",
      " [1. 0. 0. 1. 0. 0. 0. 0. 0. 0. 0. 1. 0. 0. 1. 0.]]\n"
     ]
    },
    {
     "data": {
      "text/plain": "<matplotlib.colorbar.Colorbar at 0x138ce6690>"
     },
     "execution_count": 32,
     "metadata": {},
     "output_type": "execute_result"
    },
    {
     "data": {
      "text/plain": "<Figure size 480x480 with 2 Axes>",
      "image/png": "[encoded data removed]"
     },
     "metadata": {},
     "output_type": "display_data"
    }
   ],
   "source": [
    "print(identical_banded_P1_P3_term)\n",
    "plt.matshow(identical_banded_P1_P3_term)\n",
    "plt.colorbar()"
   ],
   "metadata": {
    "collapsed": false,
    "ExecuteTime": {
     "end_time": "2024-07-31T18:44:26.716935Z",
     "start_time": "2024-07-31T18:44:26.367595Z"
    }
   },
   "id": "fe8db9f5c11c1b2f",
   "execution_count": 32
  },
  {
   "cell_type": "code",
   "outputs": [
    {
     "name": "stdout",
     "output_type": "stream",
     "text": [
      "          ┌─────────┐     ┌───┐           ┌───┐\n",
      "prep_p_0: ┤ Ry(π/2) ├──■──┤ X ├─────■─────┤ X ├\n",
      "          └─────────┘┌─┴─┐└───┘┌────┴────┐└───┘\n",
      "prep_p_1: ───────────┤ H ├─────┤ Ry(π/2) ├─────\n",
      "                     └───┘     └─────────┘     \n",
      "[[ 0.5+0.j -0.5+0.j -0.5+0.j  0.5+0.j]\n",
      " [ 0.5+0.j  0.5+0.j  0.5+0.j  0.5+0.j]\n",
      " [ 0.5+0.j -0.5+0.j  0.5+0.j -0.5+0.j]\n",
      " [ 0.5+0.j  0.5+0.j -0.5+0.j -0.5+0.j]]\n"
     ]
    }
   ],
   "source": [
    "prep_p_ = QuantumRegister(2, 'prep_p')\n",
    "PREP_P_circuit = QuantumCircuit(prep_p_)\n",
    "PREP_P_circuit.ry(np.pi / 2, prep_p_[0])\n",
    "PREP_P_circuit.ch(prep_p_[0], prep_p_[1])\n",
    "PREP_P_circuit.x(prep_p_[0])\n",
    "PREP_P_circuit.cry(np.pi / 2, prep_p_[0], prep_p_[1])\n",
    "PREP_P_circuit.x(prep_p_[0])\n",
    "qv.circuit_drawer(PREP_P_circuit)\n",
    "print(PREP_P_circuit)\n",
    "print(Operator(PREP_P_circuit).data)\n",
    "PREP_P = PREP_P_circuit.to_gate(label='PREP_P')"
   ],
   "metadata": {
    "collapsed": false,
    "ExecuteTime": {
     "end_time": "2024-07-31T18:44:26.729102Z",
     "start_time": "2024-07-31T18:44:26.718305Z"
    }
   },
   "id": "9dc808d409bdeb7",
   "execution_count": 33
  },
  {
   "cell_type": "markdown",
   "source": [
    "To implement the select here,we need 4 qubits type add1,minus1."
   ],
   "metadata": {
    "collapsed": false
   },
   "id": "493d15a18bcc2130"
  },
  {
   "cell_type": "markdown",
   "source": [],
   "metadata": {
    "collapsed": false
   },
   "id": "fbc3e6409c2c21a5"
  },
  {
   "cell_type": "code",
   "outputs": [
    {
     "name": "stdout",
     "output_type": "stream",
     "text": [
      "                    ┌───┐\n",
      "q_0: ──■────■────■──┤ X ├\n",
      "       │    │  ┌─┴─┐└───┘\n",
      "q_1: ──■────■──┤ X ├─────\n",
      "       │  ┌─┴─┐└───┘     \n",
      "q_2: ──■──┤ X ├──────────\n",
      "     ┌─┴─┐└───┘          \n",
      "q_3: ┤ X ├───────────────\n",
      "     └───┘               \n",
      "[[0.+0.j 0.+0.j 0.+0.j 0.+0.j 0.+0.j 0.+0.j 0.+0.j 0.+0.j 0.+0.j 0.+0.j\n",
      "  0.+0.j 0.+0.j 0.+0.j 0.+0.j 0.+0.j 1.+0.j]\n",
      " [1.+0.j 0.+0.j 0.+0.j 0.+0.j 0.+0.j 0.+0.j 0.+0.j 0.+0.j 0.+0.j 0.+0.j\n",
      "  0.+0.j 0.+0.j 0.+0.j 0.+0.j 0.+0.j 0.+0.j]\n",
      " [0.+0.j 1.+0.j 0.+0.j 0.+0.j 0.+0.j 0.+0.j 0.+0.j 0.+0.j 0.+0.j 0.+0.j\n",
      "  0.+0.j 0.+0.j 0.+0.j 0.+0.j 0.+0.j 0.+0.j]\n",
      " [0.+0.j 0.+0.j 1.+0.j 0.+0.j 0.+0.j 0.+0.j 0.+0.j 0.+0.j 0.+0.j 0.+0.j\n",
      "  0.+0.j 0.+0.j 0.+0.j 0.+0.j 0.+0.j 0.+0.j]\n",
      " [0.+0.j 0.+0.j 0.+0.j 1.+0.j 0.+0.j 0.+0.j 0.+0.j 0.+0.j 0.+0.j 0.+0.j\n",
      "  0.+0.j 0.+0.j 0.+0.j 0.+0.j 0.+0.j 0.+0.j]\n",
      " [0.+0.j 0.+0.j 0.+0.j 0.+0.j 1.+0.j 0.+0.j 0.+0.j 0.+0.j 0.+0.j 0.+0.j\n",
      "  0.+0.j 0.+0.j 0.+0.j 0.+0.j 0.+0.j 0.+0.j]\n",
      " [0.+0.j 0.+0.j 0.+0.j 0.+0.j 0.+0.j 1.+0.j 0.+0.j 0.+0.j 0.+0.j 0.+0.j\n",
      "  0.+0.j 0.+0.j 0.+0.j 0.+0.j 0.+0.j 0.+0.j]\n",
      " [0.+0.j 0.+0.j 0.+0.j 0.+0.j 0.+0.j 0.+0.j 1.+0.j 0.+0.j 0.+0.j 0.+0.j\n",
      "  0.+0.j 0.+0.j 0.+0.j 0.+0.j 0.+0.j 0.+0.j]\n",
      " [0.+0.j 0.+0.j 0.+0.j 0.+0.j 0.+0.j 0.+0.j 0.+0.j 1.+0.j 0.+0.j 0.+0.j\n",
      "  0.+0.j 0.+0.j 0.+0.j 0.+0.j 0.+0.j 0.+0.j]\n",
      " [0.+0.j 0.+0.j 0.+0.j 0.+0.j 0.+0.j 0.+0.j 0.+0.j 0.+0.j 1.+0.j 0.+0.j\n",
      "  0.+0.j 0.+0.j 0.+0.j 0.+0.j 0.+0.j 0.+0.j]\n",
      " [0.+0.j 0.+0.j 0.+0.j 0.+0.j 0.+0.j 0.+0.j 0.+0.j 0.+0.j 0.+0.j 1.+0.j\n",
      "  0.+0.j 0.+0.j 0.+0.j 0.+0.j 0.+0.j 0.+0.j]\n",
      " [0.+0.j 0.+0.j 0.+0.j 0.+0.j 0.+0.j 0.+0.j 0.+0.j 0.+0.j 0.+0.j 0.+0.j\n",
      "  1.+0.j 0.+0.j 0.+0.j 0.+0.j 0.+0.j 0.+0.j]\n",
      " [0.+0.j 0.+0.j 0.+0.j 0.+0.j 0.+0.j 0.+0.j 0.+0.j 0.+0.j 0.+0.j 0.+0.j\n",
      "  0.+0.j 1.+0.j 0.+0.j 0.+0.j 0.+0.j 0.+0.j]\n",
      " [0.+0.j 0.+0.j 0.+0.j 0.+0.j 0.+0.j 0.+0.j 0.+0.j 0.+0.j 0.+0.j 0.+0.j\n",
      "  0.+0.j 0.+0.j 1.+0.j 0.+0.j 0.+0.j 0.+0.j]\n",
      " [0.+0.j 0.+0.j 0.+0.j 0.+0.j 0.+0.j 0.+0.j 0.+0.j 0.+0.j 0.+0.j 0.+0.j\n",
      "  0.+0.j 0.+0.j 0.+0.j 1.+0.j 0.+0.j 0.+0.j]\n",
      " [0.+0.j 0.+0.j 0.+0.j 0.+0.j 0.+0.j 0.+0.j 0.+0.j 0.+0.j 0.+0.j 0.+0.j\n",
      "  0.+0.j 0.+0.j 0.+0.j 0.+0.j 1.+0.j 0.+0.j]]\n",
      "     ┌───┐                         \n",
      "q_0: ┤ X ├──■─────────■─────────■──\n",
      "     ├───┤  │         │  ┌───┐┌─┴─┐\n",
      "q_1: ┤ X ├──■─────────■──┤ X ├┤ X ├\n",
      "     ├───┤  │  ┌───┐┌─┴─┐└───┘└───┘\n",
      "q_2: ┤ X ├──■──┤ X ├┤ X ├──────────\n",
      "     └───┘┌─┴─┐└───┘└───┘          \n",
      "q_3: ─────┤ X ├────────────────────\n",
      "          └───┘                    \n",
      "[[0.+0.j 1.+0.j 0.+0.j 0.+0.j 0.+0.j 0.+0.j 0.+0.j 0.+0.j 0.+0.j 0.+0.j\n",
      "  0.+0.j 0.+0.j 0.+0.j 0.+0.j 0.+0.j 0.+0.j]\n",
      " [0.+0.j 0.+0.j 1.+0.j 0.+0.j 0.+0.j 0.+0.j 0.+0.j 0.+0.j 0.+0.j 0.+0.j\n",
      "  0.+0.j 0.+0.j 0.+0.j 0.+0.j 0.+0.j 0.+0.j]\n",
      " [0.+0.j 0.+0.j 0.+0.j 1.+0.j 0.+0.j 0.+0.j 0.+0.j 0.+0.j 0.+0.j 0.+0.j\n",
      "  0.+0.j 0.+0.j 0.+0.j 0.+0.j 0.+0.j 0.+0.j]\n",
      " [0.+0.j 0.+0.j 0.+0.j 0.+0.j 1.+0.j 0.+0.j 0.+0.j 0.+0.j 0.+0.j 0.+0.j\n",
      "  0.+0.j 0.+0.j 0.+0.j 0.+0.j 0.+0.j 0.+0.j]\n",
      " [0.+0.j 0.+0.j 0.+0.j 0.+0.j 0.+0.j 1.+0.j 0.+0.j 0.+0.j 0.+0.j 0.+0.j\n",
      "  0.+0.j 0.+0.j 0.+0.j 0.+0.j 0.+0.j 0.+0.j]\n",
      " [0.+0.j 0.+0.j 0.+0.j 0.+0.j 0.+0.j 0.+0.j 1.+0.j 0.+0.j 0.+0.j 0.+0.j\n",
      "  0.+0.j 0.+0.j 0.+0.j 0.+0.j 0.+0.j 0.+0.j]\n",
      " [0.+0.j 0.+0.j 0.+0.j 0.+0.j 0.+0.j 0.+0.j 0.+0.j 1.+0.j 0.+0.j 0.+0.j\n",
      "  0.+0.j 0.+0.j 0.+0.j 0.+0.j 0.+0.j 0.+0.j]\n",
      " [0.+0.j 0.+0.j 0.+0.j 0.+0.j 0.+0.j 0.+0.j 0.+0.j 0.+0.j 1.+0.j 0.+0.j\n",
      "  0.+0.j 0.+0.j 0.+0.j 0.+0.j 0.+0.j 0.+0.j]\n",
      " [0.+0.j 0.+0.j 0.+0.j 0.+0.j 0.+0.j 0.+0.j 0.+0.j 0.+0.j 0.+0.j 1.+0.j\n",
      "  0.+0.j 0.+0.j 0.+0.j 0.+0.j 0.+0.j 0.+0.j]\n",
      " [0.+0.j 0.+0.j 0.+0.j 0.+0.j 0.+0.j 0.+0.j 0.+0.j 0.+0.j 0.+0.j 0.+0.j\n",
      "  1.+0.j 0.+0.j 0.+0.j 0.+0.j 0.+0.j 0.+0.j]\n",
      " [0.+0.j 0.+0.j 0.+0.j 0.+0.j 0.+0.j 0.+0.j 0.+0.j 0.+0.j 0.+0.j 0.+0.j\n",
      "  0.+0.j 1.+0.j 0.+0.j 0.+0.j 0.+0.j 0.+0.j]\n",
      " [0.+0.j 0.+0.j 0.+0.j 0.+0.j 0.+0.j 0.+0.j 0.+0.j 0.+0.j 0.+0.j 0.+0.j\n",
      "  0.+0.j 0.+0.j 1.+0.j 0.+0.j 0.+0.j 0.+0.j]\n",
      " [0.+0.j 0.+0.j 0.+0.j 0.+0.j 0.+0.j 0.+0.j 0.+0.j 0.+0.j 0.+0.j 0.+0.j\n",
      "  0.+0.j 0.+0.j 0.+0.j 1.+0.j 0.+0.j 0.+0.j]\n",
      " [0.+0.j 0.+0.j 0.+0.j 0.+0.j 0.+0.j 0.+0.j 0.+0.j 0.+0.j 0.+0.j 0.+0.j\n",
      "  0.+0.j 0.+0.j 0.+0.j 0.+0.j 1.+0.j 0.+0.j]\n",
      " [0.+0.j 0.+0.j 0.+0.j 0.+0.j 0.+0.j 0.+0.j 0.+0.j 0.+0.j 0.+0.j 0.+0.j\n",
      "  0.+0.j 0.+0.j 0.+0.j 0.+0.j 0.+0.j 1.+0.j]\n",
      " [1.+0.j 0.+0.j 0.+0.j 0.+0.j 0.+0.j 0.+0.j 0.+0.j 0.+0.j 0.+0.j 0.+0.j\n",
      "  0.+0.j 0.+0.j 0.+0.j 0.+0.j 0.+0.j 0.+0.j]]\n"
     ]
    }
   ],
   "source": [
    "from qiskit.circuit.library import XGate\n",
    "Add_1_circuit = QuantumCircuit(4)\n",
    "x = XGate()\n",
    "trc_x = x.control(3)\n",
    "Add_1_circuit.append(trc_x, [0, 1, 2, 3])\n",
    "Add_1_circuit.ccx(0, 1, 2)\n",
    "Add_1_circuit.cx(0, 1)\n",
    "Add_1_circuit.x(0)\n",
    "qv.circuit_drawer(Add_1_circuit)\n",
    "print(Add_1_circuit)\n",
    "Add_1 = Add_1_circuit.to_gate(label='Add_1')\n",
    "print(Operator(Add_1_circuit).data)\n",
    "\n",
    "Minus_1_circuit = QuantumCircuit(4)\n",
    "Minus_1_circuit.x(0)\n",
    "Minus_1_circuit.x(1)\n",
    "Minus_1_circuit.x(2)\n",
    "Minus_1_circuit.append(trc_x, [0, 1, 2, 3])\n",
    "Minus_1_circuit.x(2)\n",
    "Minus_1_circuit.ccx(0, 1, 2)\n",
    "Minus_1_circuit.x(1)\n",
    "Minus_1_circuit.cx(0, 1)\n",
    "qv.circuit_drawer(Minus_1_circuit)\n",
    "print(Minus_1_circuit)\n",
    "Minus_1 = Minus_1_circuit.to_gate(label='Minus_1')\n",
    "print(Operator(Minus_1_circuit).data)"
   ],
   "metadata": {
    "collapsed": false,
    "ExecuteTime": {
     "end_time": "2024-07-31T18:44:26.824892Z",
     "start_time": "2024-07-31T18:44:26.725916Z"
    }
   },
   "id": "9bb26a891bd7cae5",
   "execution_count": 34
  },
  {
   "cell_type": "code",
   "outputs": [
    {
     "name": "stdout",
     "output_type": "stream",
     "text": [
      "     ┌────────┐┌────────┐┌────────┐┌────────┐\n",
      "q_0: ┤0       ├┤0       ├┤0       ├┤0       ├\n",
      "     │        ││        ││        ││        │\n",
      "q_1: ┤1       ├┤1       ├┤1       ├┤1       ├\n",
      "     │  Add_1 ││  Add_1 ││  Add_1 ││  Add_1 │\n",
      "q_2: ┤2       ├┤2       ├┤2       ├┤2       ├\n",
      "     │        ││        ││        ││        │\n",
      "q_3: ┤3       ├┤3       ├┤3       ├┤3       ├\n",
      "     └────────┘└────────┘└────────┘└────────┘\n",
      "     ┌──────────┐┌──────────┐┌──────────┐┌──────────┐\n",
      "q_0: ┤0         ├┤0         ├┤0         ├┤0         ├\n",
      "     │          ││          ││          ││          │\n",
      "q_1: ┤1         ├┤1         ├┤1         ├┤1         ├\n",
      "     │  Minus_1 ││  Minus_1 ││  Minus_1 ││  Minus_1 │\n",
      "q_2: ┤2         ├┤2         ├┤2         ├┤2         ├\n",
      "     │          ││          ││          ││          │\n",
      "q_3: ┤3         ├┤3         ├┤3         ├┤3         ├\n",
      "     └──────────┘└──────────┘└──────────┘└──────────┘\n"
     ]
    }
   ],
   "source": [
    "Add_4_circuit = QuantumCircuit(4)\n",
    "Add_4_circuit.append(Add_1, [0, 1, 2, 3])\n",
    "Add_4_circuit.append(Add_1, [0, 1, 2, 3])\n",
    "Add_4_circuit.append(Add_1, [0, 1, 2, 3])\n",
    "Add_4_circuit.append(Add_1, [0, 1, 2, 3])\n",
    "qv.circuit_drawer(Add_4_circuit)\n",
    "print(Add_4_circuit)\n",
    "Add_4 = Add_4_circuit.to_gate(label='Add_4')\n",
    "\n",
    "Minus_4_circuit = QuantumCircuit(4)\n",
    "Minus_4_circuit.append(Minus_1, [0, 1, 2, 3])\n",
    "Minus_4_circuit.append(Minus_1, [0, 1, 2, 3])\n",
    "Minus_4_circuit.append(Minus_1, [0, 1, 2, 3])\n",
    "Minus_4_circuit.append(Minus_1, [0, 1, 2, 3])\n",
    "qv.circuit_drawer(Minus_4_circuit)\n",
    "print(Minus_4_circuit)\n",
    "Minus_4 = Minus_4_circuit.to_gate(label='Minus_4')"
   ],
   "metadata": {
    "collapsed": false,
    "ExecuteTime": {
     "end_time": "2024-07-31T18:44:26.855235Z",
     "start_time": "2024-07-31T18:44:26.752025Z"
    }
   },
   "id": "f89a6c13d1233d0e",
   "execution_count": 35
  },
  {
   "cell_type": "code",
   "outputs": [],
   "source": [
    "c_Minus_1 = Minus_1.control(2)\n",
    "c_Add_1 = Add_1.control(2)\n",
    "c_Minus_4 = Minus_4.control(2)\n",
    "c_Add_4 = Add_4.control(2)"
   ],
   "metadata": {
    "collapsed": false,
    "ExecuteTime": {
     "end_time": "2024-07-31T18:44:27.385635Z",
     "start_time": "2024-07-31T18:44:26.826764Z"
    }
   },
   "id": "751b8749ecf9f5d7",
   "execution_count": 36
  },
  {
   "cell_type": "code",
   "outputs": [
    {
     "name": "stdout",
     "output_type": "stream",
     "text": [
      "          ┌──────────┐     ┌────────┐     ┌──────────┐     ┌────────┐     \n",
      "     j_0: ┤0         ├─────┤0       ├─────┤0         ├─────┤0       ├─────\n",
      "          │          │     │        │     │          │     │        │     \n",
      "     j_1: ┤1         ├─────┤1       ├─────┤1         ├─────┤1       ├─────\n",
      "          │  Minus_1 │     │  Add_1 │     │  Minus_4 │     │  Add_4 │     \n",
      "     j_2: ┤2         ├─────┤2       ├─────┤2         ├─────┤2       ├─────\n",
      "          │          │     │        │     │          │     │        │     \n",
      "     j_3: ┤3         ├─────┤3       ├─────┤3         ├─────┤3       ├─────\n",
      "          └────┬─────┘┌───┐└───┬────┘     └────┬─────┘┌───┐└───┬────┘     \n",
      "prep_p_0: ─────■──────┤ X ├────■───────────────■──────┤ X ├────■──────────\n",
      "               │      └───┘    │     ┌───┐     │      └───┘    │     ┌───┐\n",
      "prep_p_1: ─────■───────────────■─────┤ X ├─────■───────────────■─────┤ X ├\n",
      "                                     └───┘                           └───┘\n"
     ]
    }
   ],
   "source": [
    "j_ = QuantumRegister(4, 'j')\n",
    "Select_circuit = QuantumCircuit(j_, prep_p_)\n",
    "Select_circuit.append(c_Minus_1, prep_p_[:] + j_[:])\n",
    "Select_circuit.x(prep_p_[0])\n",
    "Select_circuit.append(c_Add_1, prep_p_[:] + j_[:])\n",
    "Select_circuit.x(prep_p_[1])\n",
    "Select_circuit.append(c_Minus_4, prep_p_[:] + j_[:])\n",
    "Select_circuit.x(prep_p_[0])\n",
    "Select_circuit.append(c_Add_4, prep_p_[:] + j_[:])\n",
    "Select_circuit.x(prep_p_[1])\n",
    "\n",
    "\n",
    "qv.circuit_drawer(Select_circuit)\n",
    "print(Select_circuit)\n",
    "\n",
    "Select = Select_circuit.to_gate(label='Select')"
   ],
   "metadata": {
    "collapsed": false,
    "ExecuteTime": {
     "end_time": "2024-07-31T18:44:27.578560Z",
     "start_time": "2024-07-31T18:44:27.385983Z"
    }
   },
   "id": "b9d55d3deadc2b5d",
   "execution_count": 37
  },
  {
   "cell_type": "code",
   "outputs": [
    {
     "name": "stdout",
     "output_type": "stream",
     "text": [
      "                     ┌─────────┐                   \n",
      "     j_0: ───────────┤0        ├───────────────────\n",
      "                     │         │                   \n",
      "     j_1: ───────────┤1        ├───────────────────\n",
      "                     │         │                   \n",
      "     j_2: ───────────┤2        ├───────────────────\n",
      "                     │  Select │                   \n",
      "     j_3: ───────────┤3        ├───────────────────\n",
      "          ┌─────────┐│         │┌─────────────────┐\n",
      "prep_p_0: ┤0        ├┤4        ├┤0                ├\n",
      "          │  PREP_P ││         ││  circuit-534_dg │\n",
      "prep_p_1: ┤1        ├┤5        ├┤1                ├\n",
      "          └─────────┘└─────────┘└─────────────────┘\n",
      "[[ 0.  1.  0. -0.  1.  0.  0.  0. -0.  0.  0.  0.  1. -0.  0.  1.]\n",
      " [ 1.  0.  1.  0. -0.  1.  0.  0.  0. -0.  0.  0.  0.  1. -0.  0.]\n",
      " [ 0.  1.  0.  1.  0. -0.  1.  0.  0.  0. -0.  0.  0. -0.  1.  0.]\n",
      " [ 0.  0.  1. -0.  1.  0.  0.  1. -0.  0.  0. -0. -0.  0. -0.  1.]\n",
      " [ 1.  0.  0.  1.  0.  1.  0.  0.  1. -0.  0. -0. -0.  0.  0.  0.]\n",
      " [-0.  1. -0.  0.  1. -0.  1.  0.  0.  1. -0.  0.  0. -0.  0.  0.]\n",
      " [ 0. -0.  1. -0.  0.  1.  0.  1.  0. -0.  1.  0.  0.  0.  0.  0.]\n",
      " [ 0.  0. -0.  1.  0.  0.  1.  0.  1.  0.  0.  1.  0.  0.  0.  0.]\n",
      " [ 0.  0.  0.  0.  1.  0.  0.  1. -0.  1.  0. -0.  1. -0.  0. -0.]\n",
      " [-0.  0. -0.  0. -0.  1.  0.  0.  1.  0.  1.  0.  0.  1.  0.  0.]\n",
      " [ 0. -0. -0.  0.  0. -0.  1.  0.  0.  1. -0.  1.  0. -0.  1.  0.]\n",
      " [-0.  0. -0. -0. -0.  0. -0.  1. -0.  0.  1.  0.  1.  0.  0.  1.]\n",
      " [ 1. -0.  0. -0.  0. -0.  0.  0.  1.  0.  0.  1. -0.  1.  0.  0.]\n",
      " [ 0.  1. -0.  0.  0.  0. -0.  0. -0.  1. -0.  0.  1.  0.  1.  0.]\n",
      " [ 0. -0.  1.  0.  0.  0.  0. -0.  0.  0.  1.  0.  0.  1. -0.  1.]\n",
      " [ 1.  0. -0.  1. -0.  0.  0. -0.  0.  0. -0.  1.  0.  0.  1. -0.]]\n",
      "The quantum circuit is correct\n"
     ]
    }
   ],
   "source": [
    "P_circuit = QuantumCircuit(j_, prep_p_)\n",
    "P_circuit.append(PREP_P, prep_p_)\n",
    "P_circuit.append(Select, j_[:] + prep_p_[:])\n",
    "P_circuit.append(PREP_P.inverse(), prep_p_)\n",
    "qv.circuit_drawer(P_circuit)\n",
    "print(P_circuit)\n",
    "P = P_circuit.to_gate(label='P')\n",
    "\n",
    "Result = np.round(Operator(P_circuit).data[0:16, 0:16],3).real\n",
    "print(Result * 4)\n",
    "if np.allclose(Result * 4, identical_banded_P1_P3_term):\n",
    "    print(\"The quantum circuit is correct\")\n",
    "else:\n",
    "    print(\"The quantum circuit is not correct\")"
   ],
   "metadata": {
    "collapsed": false,
    "ExecuteTime": {
     "end_time": "2024-07-31T18:44:29.959501Z",
     "start_time": "2024-07-31T18:44:27.576582Z"
    }
   },
   "id": "ca5f437af76ecee8",
   "execution_count": 38
  },
  {
   "cell_type": "markdown",
   "source": [
    "The next step is to implement the complement matrix.\n",
    "First is to implement the matrix D.\n",
    "$$\n",
    "D = \\begin{bmatrix}\n",
    "0 & 0 & 0 & 1 \\\\\n",
    "0 & 0 & 0 & 0 \\\\\n",
    "0 & 0 & 0 & 0 \\\\\n",
    "0 & 0 & 0 & 0\n",
    "\\end{bmatrix}\n",
    "$$"
   ],
   "metadata": {
    "collapsed": false
   },
   "id": "9c7c255786b1fc3c"
  },
  {
   "cell_type": "code",
   "outputs": [
    {
     "name": "stdout",
     "output_type": "stream",
     "text": [
      "           ┌──────────┐\n",
      "    D_j_0: ┤0         ├\n",
      "           │          │\n",
      "    D_j_1: ┤1 minus_3 ├\n",
      "           │          │\n",
      "D_ancilla: ┤2         ├\n",
      "           └──────────┘\n",
      "[[0.+0.j 0.+0.j 0.+0.j 1.+0.j 0.+0.j 0.+0.j 0.+0.j 0.+0.j]\n",
      " [0.+0.j 0.+0.j 0.+0.j 0.+0.j 1.+0.j 0.+0.j 0.+0.j 0.+0.j]\n",
      " [0.+0.j 0.+0.j 0.+0.j 0.+0.j 0.+0.j 1.+0.j 0.+0.j 0.+0.j]\n",
      " [0.+0.j 0.+0.j 0.+0.j 0.+0.j 0.+0.j 0.+0.j 1.+0.j 0.+0.j]\n",
      " [0.+0.j 0.+0.j 0.+0.j 0.+0.j 0.+0.j 0.+0.j 0.+0.j 1.+0.j]\n",
      " [1.+0.j 0.+0.j 0.+0.j 0.+0.j 0.+0.j 0.+0.j 0.+0.j 0.+0.j]\n",
      " [0.+0.j 1.+0.j 0.+0.j 0.+0.j 0.+0.j 0.+0.j 0.+0.j 0.+0.j]\n",
      " [0.+0.j 0.+0.j 1.+0.j 0.+0.j 0.+0.j 0.+0.j 0.+0.j 0.+0.j]]\n"
     ]
    }
   ],
   "source": [
    "qc_add1 = QuantumCircuit(3)\n",
    "qc_add1.ccx(0, 1, 2)\n",
    "qc_add1.cx(0, 1)\n",
    "qc_add1.x(0)\n",
    "\n",
    "qc_minus1 = QuantumCircuit(3)\n",
    "qc_minus1.x(1)\n",
    "qc_minus1.x(0)\n",
    "qc_minus1.ccx(0, 1, 2)\n",
    "qc_minus1.x(1)\n",
    "qc_minus1.cx(0, 1)\n",
    "qc_minus2 = qc_minus1.compose(qc_minus1, [0, 1, 2], front=True)\n",
    "qc_minus3 = qc_minus1.compose(qc_minus2, [0, 1, 2], front=True)\n",
    "qc_add2 = qc_add1.compose(qc_add1, [0, 1, 2], front=True)\n",
    "qc_add3 = qc_add1.compose(qc_add2, [0, 1, 2], front=True)\n",
    "\n",
    "tr_minus_1 = qc_minus1.to_gate(label='minus_1')\n",
    "tr_minus_2 = qc_minus2.to_gate(label='minus_2')\n",
    "tr_minus_3 = qc_minus3.to_gate(label='minus_3')\n",
    "tr_add_1 = qc_add1.to_gate(label='add_1')\n",
    "tr_add_2 = qc_add2.to_gate(label='add_2')\n",
    "tr_add_3 = qc_add3.to_gate(label='add_3')\n",
    "\n",
    "D_ancilla = QuantumRegister(1, 'D_ancilla')\n",
    "D_j = QuantumRegister(2, 'D_j')\n",
    "D_circuit = QuantumCircuit(D_j, D_ancilla)\n",
    "D_circuit.append(tr_minus_3, D_j[:] + D_ancilla[:])\n",
    "qv.circuit_drawer(D_circuit)\n",
    "print(D_circuit)\n",
    "D = D_circuit.to_gate(label='D')\n",
    "print(Operator(D_circuit).data)"
   ],
   "metadata": {
    "collapsed": false,
    "ExecuteTime": {
     "end_time": "2024-07-31T18:44:29.985467Z",
     "start_time": "2024-07-31T18:44:29.972812Z"
    }
   },
   "id": "9c1b91325003047e",
   "execution_count": 39
  },
  {
   "cell_type": "markdown",
   "source": [
    "Then we want to implement the matrix C.\n",
    "It is actually $C = D + D^{\\dagger}$\n",
    "so $U_C = \\frac{U_D + U_D^{\\dagger}}{2}$"
   ],
   "metadata": {
    "collapsed": false
   },
   "id": "2791220b038164c"
  },
  {
   "cell_type": "code",
   "outputs": [
    {
     "name": "stdout",
     "output_type": "stream",
     "text": [
      "           ┌──────────┐\n",
      "      F_j: ┤0         ├\n",
      "           │  minus_1 │\n",
      "F_ancilla: ┤1         ├\n",
      "           └──────────┘\n",
      "[[0.+0.j 1.+0.j 0.+0.j 0.+0.j]\n",
      " [0.+0.j 0.+0.j 1.+0.j 0.+0.j]\n",
      " [0.+0.j 0.+0.j 0.+0.j 1.+0.j]\n",
      " [1.+0.j 0.+0.j 0.+0.j 0.+0.j]]\n"
     ]
    }
   ],
   "source": [
    "F_ancilla = QuantumRegister(1, 'F_ancilla')\n",
    "F_j = QuantumRegister(1, 'F_j')\n",
    "F_ciucuit = QuantumCircuit(F_j, F_ancilla)\n",
    "F_ciucuit.append(minus_1, F_j[:] + F_ancilla[:])\n",
    "qv.circuit_drawer(F_ciucuit)\n",
    "print(F_ciucuit)\n",
    "F = F_ciucuit.to_gate(label='F')\n",
    "print(Operator(F_ciucuit).data)\n"
   ],
   "metadata": {
    "collapsed": false,
    "ExecuteTime": {
     "end_time": "2024-07-31T18:48:59.037285Z",
     "start_time": "2024-07-31T18:48:58.654616Z"
    }
   },
   "id": "5cb43e5433dd807a",
   "execution_count": 49
  },
  {
   "cell_type": "code",
   "outputs": [
    {
     "name": "stdout",
     "output_type": "stream",
     "text": [
      "                 ┌────┐                                ┌──────────────────┐»\n",
      "     D_j_0: ─────┤0   ├────────────────────────────────┤0                 ├»\n",
      "                 │    │                                │                  │»\n",
      "     D_j_1: ─────┤1   ├────────────────────────────────┤1                 ├»\n",
      "                 │  D │┌───────────────────┐     ┌────┐│  circuit-1611_dg │»\n",
      "       F_j: ─────┤    ├┤0                  ├─────┤0   ├┤                  ├»\n",
      "                 │    ││  circuit-79703_dg │     │  F ││                  │»\n",
      " D_ancilla: ─────┤2   ├┤1                  ├─────┤1   ├┤2                 ├»\n",
      "                 └─┬──┘└─────────┬─────────┘     └─┬──┘└────────┬─────────┘»\n",
      " F_ancilla: ───────┼─────────────┼─────────────────┼────────────┼──────────»\n",
      "            ┌───┐  │             │          ┌───┐  │            │          »\n",
      "FD_ancilla: ┤ H ├──■─────────────■──────────┤ X ├──■────────────■──────────»\n",
      "            └───┘                           └───┘                          »\n",
      "«                      \n",
      "«     D_j_0: ──────────\n",
      "«                      \n",
      "«     D_j_1: ──────────\n",
      "«                      \n",
      "«       F_j: ──────────\n",
      "«                      \n",
      "« D_ancilla: ──────────\n",
      "«                      \n",
      "« F_ancilla: ──────────\n",
      "«            ┌───┐┌───┐\n",
      "«FD_ancilla: ┤ X ├┤ H ├\n",
      "«            └───┘└───┘\n",
      "[[ 0.   0.   0.   0.   0.  -0.   0.   0. ]\n",
      " [ 0.   0.   0.   0.   0.5  0.   0.   0. ]\n",
      " [ 0.   0.   0.   0.   0.   0.5  0.   0. ]\n",
      " [ 0.   0.   0.   0.   0.5  0.   0.5  0. ]\n",
      " [ 0.   0.5  0.   0.5  0.   0.   0.   0. ]\n",
      " [ 0.   0.   0.5  0.   0.   0.   0.   0. ]\n",
      " [ 0.   0.   0.   0.5  0.   0.   0.   0. ]\n",
      " [ 0.   0.   0.   0.   0.   0.   0.   0. ]]\n"
     ]
    }
   ],
   "source": [
    "FD_ancilla = QuantumRegister(1, 'FD_ancilla')\n",
    "FD_circuit = QuantumCircuit(D_j, F_j, D_ancilla,F_ancilla, FD_ancilla)\n",
    "U_D_controlled = D.control(1)\n",
    "U_F_controlled = F.control(1)\n",
    "U_F_dagger_controlled = F.inverse().control(1)\n",
    "U_D_dagger_controlled = D.inverse().control(1)\n",
    "FD_circuit.h(FD_ancilla)\n",
    "FD_circuit.append(U_D_controlled, FD_ancilla[:] + D_j[:] + D_ancilla[:])\n",
    "FD_circuit.append(U_F_dagger_controlled, FD_ancilla[:] + F_j[:] + D_ancilla[:])\n",
    "FD_circuit.x(FD_ancilla)\n",
    "FD_circuit.append(U_F_controlled, FD_ancilla[:] + F_j[:] + D_ancilla[:])\n",
    "FD_circuit.append(U_D_dagger_controlled, FD_ancilla[:] + D_j[:] + D_ancilla[:])\n",
    "FD_circuit.x(FD_ancilla)\n",
    "FD_circuit.h(FD_ancilla)\n",
    "\n",
    "qv.circuit_drawer(FD_circuit)\n",
    "print(FD_circuit)\n",
    "FD = FD_circuit.to_gate(label='FD')\n",
    "print(np.round(Operator(FD_circuit).data.real[0:8, 0:8],3))"
   ],
   "metadata": {
    "collapsed": false,
    "ExecuteTime": {
     "end_time": "2024-07-31T19:09:28.233998Z",
     "start_time": "2024-07-31T19:09:28.069513Z"
    }
   },
   "id": "792726aaa50fee45",
   "execution_count": 76
  },
  {
   "cell_type": "code",
   "outputs": [
    {
     "name": "stdout",
     "output_type": "stream",
     "text": [
      "                ┌────┐     ┌──────────────────┐          \n",
      "    C_j_0: ─────┤0   ├─────┤0                 ├──────────\n",
      "                │    │     │                  │          \n",
      "    C_j_1: ─────┤1 D ├─────┤1 circuit-1611_dg ├──────────\n",
      "                │    │     │                  │          \n",
      "D_ancilla: ─────┤2   ├─────┤2                 ├──────────\n",
      "           ┌───┐└─┬──┘┌───┐└────────┬─────────┘┌───┐┌───┐\n",
      "C_ancilla: ┤ H ├──■───┤ X ├─────────■──────────┤ X ├┤ H ├\n",
      "           └───┘      └───┘                    └───┘└───┘\n",
      "[[ 0.  -0.   0.   0.5  0.   0.5  0.   0.   0.  -0.   0.  -0.5  0.   0.5\n",
      "   0.  -0. ]\n",
      " [ 0.   0.   0.   0.   0.5  0.   0.5  0.  -0.   0.   0.   0.  -0.5  0.\n",
      "   0.5  0. ]\n",
      " [ 0.   0.   0.   0.   0.   0.5  0.   0.5  0.  -0.   0.   0.   0.  -0.5\n",
      "   0.   0.5]\n",
      " [ 0.5  0.   0.   0.   0.   0.   0.5  0.   0.5  0.  -0.   0.   0.   0.\n",
      "  -0.5  0. ]\n",
      " [ 0.   0.5  0.   0.   0.  -0.   0.   0.5  0.   0.5  0.  -0.   0.  -0.\n",
      "   0.  -0.5]\n",
      " [ 0.5  0.   0.5  0.  -0.   0.  -0.   0.  -0.5  0.   0.5  0.   0.   0.\n",
      "  -0.   0. ]\n",
      " [ 0.   0.5  0.   0.5  0.   0.   0.  -0.   0.  -0.5  0.   0.5  0.  -0.\n",
      "   0.  -0. ]\n",
      " [ 0.   0.   0.5  0.   0.5  0.  -0.   0.   0.   0.  -0.5  0.   0.5  0.\n",
      "   0.   0. ]\n",
      " [ 0.  -0.   0.  -0.5  0.   0.5  0.  -0.   0.  -0.   0.   0.5  0.   0.5\n",
      "   0.   0. ]\n",
      " [-0.   0.   0.   0.  -0.5  0.   0.5  0.   0.   0.   0.   0.   0.5  0.\n",
      "   0.5  0. ]\n",
      " [ 0.  -0.   0.   0.   0.  -0.5  0.   0.5  0.   0.   0.   0.   0.   0.5\n",
      "   0.   0.5]\n",
      " [ 0.5  0.  -0.   0.   0.   0.  -0.5  0.   0.5  0.   0.   0.   0.   0.\n",
      "   0.5  0. ]\n",
      " [ 0.   0.5  0.  -0.   0.  -0.   0.  -0.5  0.   0.5  0.   0.   0.  -0.\n",
      "   0.   0.5]\n",
      " [-0.5  0.   0.5  0.   0.   0.  -0.   0.   0.5  0.   0.5  0.  -0.   0.\n",
      "  -0.   0. ]\n",
      " [ 0.  -0.5  0.   0.5  0.  -0.   0.  -0.   0.   0.5  0.   0.5  0.   0.\n",
      "   0.  -0. ]\n",
      " [ 0.   0.  -0.5  0.   0.5  0.   0.   0.   0.   0.   0.5  0.   0.5  0.\n",
      "  -0.   0. ]]\n",
      "The quantum circuit is correct\n"
     ]
    }
   ],
   "source": [
    "C_ancilla = QuantumRegister(1, 'C_ancilla')\n",
    "C_j = QuantumRegister(2, 'C_j')\n",
    "C_circuit = QuantumCircuit(C_j, D_ancilla, C_ancilla)\n",
    "U_D_controlled = D.control(1)\n",
    "C_circuit.h(C_ancilla)\n",
    "C_circuit.append(U_D_controlled, C_ancilla[:] + C_j[:] + D_ancilla[:])\n",
    "C_circuit.x(C_ancilla)\n",
    "D_dagger_controlled = D.inverse().control(1)\n",
    "C_circuit.append(D_dagger_controlled, C_ancilla[:] + C_j[:] + D_ancilla[:])\n",
    "C_circuit.x(C_ancilla)\n",
    "C_circuit.h(C_ancilla)\n",
    "qv.circuit_drawer(C_circuit)\n",
    "print(C_circuit)\n",
    "C = C_circuit.to_gate(label='C')\n",
    "print(np.round(Operator(C_circuit).data.real, 3))\n",
    "if np.allclose(Operator(C_circuit).data.real[0:4, 0:4], (Operator(D_circuit).data.real + Operator(D_circuit).data.real.T)[0:4, 0:4]/2):\n",
    "    print(\"The quantum circuit is correct\")\n",
    "else:\n",
    "    print(\"The quantum circuit is not correct\")\n"
   ],
   "metadata": {
    "collapsed": false,
    "ExecuteTime": {
     "end_time": "2024-07-31T18:48:59.375511Z",
     "start_time": "2024-07-31T18:48:59.155799Z"
    }
   },
   "id": "cfed929a45099e2f",
   "execution_count": 51
  },
  {
   "cell_type": "markdown",
   "source": [
    "Then is to implement the matrix E to implement the matrix B.\n",
    "$$\n",
    "E = \\begin{bmatrix}\n",
    "0 & 0 & 0 & 0 & 0 & 0 & 0 & 1 \\\\\n",
    "0 & 0 & 0 & 0 & 0 & 0 & 0 & 0 \\\\\n",
    "0 & 0 & 0 & 0 & 0 & 0 & 0 & 0 \\\\\n",
    "0 & 0 & 0 & 0 & 0 & 0 & 0 & 0 \\\\\n",
    "0 & 0 & 0 & 0 & 0 & 0 & 0 & 0 \\\\\n",
    "0 & 0 & 0 & 0 & 0 & 0 & 0 & 0 \\\\\n",
    "0 & 0 & 0 & 0 & 0 & 0 & 0 & 0 \\\\\n",
    "0 & 0 & 0 & 0 & 0 & 0 & 0 & 0 \\\\\n",
    "\\end{bmatrix}\n",
    "$$"
   ],
   "metadata": {
    "collapsed": false
   },
   "id": "463566a725fc5441"
  },
  {
   "cell_type": "code",
   "outputs": [
    {
     "name": "stdout",
     "output_type": "stream",
     "text": [
      "           ┌──────────┐┌──────────┐┌──────────┐┌──────────┐┌──────────┐»\n",
      "    E_j_0: ┤0         ├┤0         ├┤0         ├┤0         ├┤0         ├»\n",
      "           │          ││          ││          ││          ││          │»\n",
      "    E_j_1: ┤1         ├┤1         ├┤1         ├┤1         ├┤1         ├»\n",
      "           │  Minus_1 ││  Minus_1 ││  Minus_1 ││  Minus_1 ││  Minus_1 │»\n",
      "    E_j_2: ┤2         ├┤2         ├┤2         ├┤2         ├┤2         ├»\n",
      "           │          ││          ││          ││          ││          │»\n",
      "E_ancilla: ┤3         ├┤3         ├┤3         ├┤3         ├┤3         ├»\n",
      "           └──────────┘└──────────┘└──────────┘└──────────┘└──────────┘»\n",
      "«           ┌──────────┐┌──────────┐\n",
      "«    E_j_0: ┤0         ├┤0         ├\n",
      "«           │          ││          │\n",
      "«    E_j_1: ┤1         ├┤1         ├\n",
      "«           │  Minus_1 ││  Minus_1 │\n",
      "«    E_j_2: ┤2         ├┤2         ├\n",
      "«           │          ││          │\n",
      "«E_ancilla: ┤3         ├┤3         ├\n",
      "«           └──────────┘└──────────┘\n",
      "[[0. 0. 0. 0. 0. 0. 0. 1. 0. 0. 0. 0. 0. 0. 0. 0.]\n",
      " [0. 0. 0. 0. 0. 0. 0. 0. 1. 0. 0. 0. 0. 0. 0. 0.]\n",
      " [0. 0. 0. 0. 0. 0. 0. 0. 0. 1. 0. 0. 0. 0. 0. 0.]\n",
      " [0. 0. 0. 0. 0. 0. 0. 0. 0. 0. 1. 0. 0. 0. 0. 0.]\n",
      " [0. 0. 0. 0. 0. 0. 0. 0. 0. 0. 0. 1. 0. 0. 0. 0.]\n",
      " [0. 0. 0. 0. 0. 0. 0. 0. 0. 0. 0. 0. 1. 0. 0. 0.]\n",
      " [0. 0. 0. 0. 0. 0. 0. 0. 0. 0. 0. 0. 0. 1. 0. 0.]\n",
      " [0. 0. 0. 0. 0. 0. 0. 0. 0. 0. 0. 0. 0. 0. 1. 0.]\n",
      " [0. 0. 0. 0. 0. 0. 0. 0. 0. 0. 0. 0. 0. 0. 0. 1.]\n",
      " [1. 0. 0. 0. 0. 0. 0. 0. 0. 0. 0. 0. 0. 0. 0. 0.]\n",
      " [0. 1. 0. 0. 0. 0. 0. 0. 0. 0. 0. 0. 0. 0. 0. 0.]\n",
      " [0. 0. 1. 0. 0. 0. 0. 0. 0. 0. 0. 0. 0. 0. 0. 0.]\n",
      " [0. 0. 0. 1. 0. 0. 0. 0. 0. 0. 0. 0. 0. 0. 0. 0.]\n",
      " [0. 0. 0. 0. 1. 0. 0. 0. 0. 0. 0. 0. 0. 0. 0. 0.]\n",
      " [0. 0. 0. 0. 0. 1. 0. 0. 0. 0. 0. 0. 0. 0. 0. 0.]\n",
      " [0. 0. 0. 0. 0. 0. 1. 0. 0. 0. 0. 0. 0. 0. 0. 0.]]\n"
     ]
    }
   ],
   "source": [
    "E_anclla = QuantumRegister(1, 'E_ancilla')\n",
    "E_j = QuantumRegister(3, 'E_j')\n",
    "E_circuit = QuantumCircuit(E_j, E_anclla)\n",
    "for i in range(7):\n",
    "    E_circuit.append(Minus_1, E_j[:] + E_anclla[:])\n",
    "qv.circuit_drawer(E_circuit)\n",
    "print(E_circuit)\n",
    "E = E_circuit.to_gate(label='E')\n",
    "print(Operator(E_circuit).data.real)"
   ],
   "metadata": {
    "collapsed": false,
    "ExecuteTime": {
     "end_time": "2024-07-31T18:48:59.402607Z",
     "start_time": "2024-07-31T18:48:59.318099Z"
    }
   },
   "id": "dca456a841ba227",
   "execution_count": 52
  },
  {
   "cell_type": "markdown",
   "source": [
    "Then since $B = E + E^{\\dagger}$, we can implement $U_B = \\frac{U_E + U_E^{\\dagger}}{2}$"
   ],
   "metadata": {
    "collapsed": false
   },
   "id": "a0339499c7397b55"
  },
  {
   "cell_type": "code",
   "outputs": [
    {
     "name": "stdout",
     "output_type": "stream",
     "text": [
      "                ┌────┐     ┌───────────────────┐          \n",
      "    B_j_0: ─────┤0   ├─────┤0                  ├──────────\n",
      "                │    │     │                   │          \n",
      "    B_j_1: ─────┤1   ├─────┤1                  ├──────────\n",
      "                │  E │     │  circuit-79860_dg │          \n",
      "    B_j_2: ─────┤2   ├─────┤2                  ├──────────\n",
      "                │    │     │                   │          \n",
      "E_ancilla: ─────┤3   ├─────┤3                  ├──────────\n",
      "           ┌───┐└─┬──┘┌───┐└─────────┬─────────┘┌───┐┌───┐\n",
      "B_ancilla: ┤ H ├──■───┤ X ├──────────■──────────┤ X ├┤ H ├\n",
      "           └───┘      └───┘                     └───┘└───┘\n",
      "[[ 0.  0.  0. ... -0.  0.  0.]\n",
      " [ 0.  0.  0. ...  0. -0.  0.]\n",
      " [ 0. -0.  0. ... -0.  0. -0.]\n",
      " ...\n",
      " [ 0.  0.  0. ...  0.  0.  0.]\n",
      " [ 0.  0.  0. ...  0.  0.  0.]\n",
      " [-0.  0.  0. ...  0.  0.  0.]]\n",
      "The quantum circuit is correct\n"
     ]
    }
   ],
   "source": [
    "B_ancilla = QuantumRegister(1, 'B_ancilla')\n",
    "B_j = QuantumRegister(3, 'B_j')\n",
    "B_circuit = QuantumCircuit(B_j, E_anclla, B_ancilla)\n",
    "U_E_controlled = E.control(1)\n",
    "E_dagger_controlled = E.inverse().control(1)\n",
    "B_circuit.h(B_ancilla)\n",
    "B_circuit.append(U_E_controlled, B_ancilla[:] + B_j[:] + E_anclla[:])\n",
    "B_circuit.x(B_ancilla)\n",
    "B_circuit.append(E_dagger_controlled, B_ancilla[:] + B_j[:] + E_anclla[:])\n",
    "B_circuit.x(B_ancilla)\n",
    "B_circuit.h(B_ancilla)\n",
    "qv.circuit_drawer(B_circuit)\n",
    "print(B_circuit)\n",
    "B = B_circuit.to_gate(label='B')\n",
    "print(np.round(Operator(B_circuit).data.real, 3))\n",
    "if np.allclose(Operator(B_circuit).data.real[0:8, 0:8], (Operator(E_circuit).data.real + Operator(E_circuit).data.real.T)[0:8, 0:8]/2):\n",
    "    print(\"The quantum circuit is correct\")\n",
    "else:\n",
    "    print(\"The quantum circuit is not correct\")"
   ],
   "metadata": {
    "collapsed": false,
    "ExecuteTime": {
     "end_time": "2024-07-31T18:49:00.061909Z",
     "start_time": "2024-07-31T18:48:59.357614Z"
    }
   },
   "id": "82ae812d7146dcd",
   "execution_count": 53
  },
  {
   "cell_type": "markdown",
   "source": [
    "The next step is to implement the whole matrix.\n",
    "$$\n",
    "\\begin{align*}\n",
    "L_2 &= 4I + (-1) P_1 \\& P_3 = 4I + (-1) P + (-1) \\overline{P}\\\\\n",
    "    &= 4I + (-1) P + (-1) (I \\otimes (I \\otimes C + (-1)F \\otimes D^\\dag + (-1)F^\\dag \\otimes D) + (-1)X \\otimes B)\\\\\n",
    "U_{L_2} &= U_{4I} + (-1) U_P + (-1) U_{I \\otimes (I \\otimes C - F \\otimes D^\\dag + (-1)F^\\dag \\otimes D} - U_{X \\otimes B}\\\\\n",
    "        &= 4I + (-4) U_P_{by\\ LCU} + 2 * (-1) (I \\otimes (I \\otimes (U_D+U_D^{\\dagger})/2) + 2 I \\otimes (U_FD + U_FD^\\dag/2) + 2 *  X \\otimes (U_E + U_E^{\\dagger})/2)\n",
    "        \\end{align*}\n",
    "$$\n",
    "so in total four parts, the first part is $4I$, \\\n",
    "the second part is $-1 U_P_{by\\ LCU}$, \\\n",
    "the third part is $-1 I \\otimes (I \\otimes (U_D+U_D^{\\dagger})/2)$, \\\n",
    "the fourth part is $-1 I \\otimes (U_FD + U_FD^\\dag)$, \n",
    "the fifth part is $-1 X \\otimes (U_E + U_E^{\\dagger})/2$"
   ],
   "metadata": {
    "collapsed": false
   },
   "id": "fa02de6a10cef3fb"
  },
  {
   "cell_type": "code",
   "outputs": [
    {
     "name": "stdout",
     "output_type": "stream",
     "text": [
      "           ┌────────────┐          ┌───┐                   ┌───┐\n",
      "prep_L2_0: ┤ Ry(1.7141) ├──■────■──┤ X ├──────■─────────■──┤ X ├\n",
      "           └────────────┘┌─┴─┐  │  └───┘┌─────┴──────┐  │  └───┘\n",
      "prep_L2_1: ──────────────┤ H ├──■───────┤ Ry(1.9106) ├──■───────\n",
      "                         └───┘┌─┴─┐     └────────────┘┌─┴─┐     \n",
      "prep_L2_2: ───────────────────┤ X ├───────────────────┤ H ├─────\n",
      "                              └───┘                   └───┘     \n",
      "[[ 0.378+0.j]\n",
      " [ 0.535+0.j]\n",
      " [ 0.378+0.j]\n",
      " [ 0.   +0.j]\n",
      " [-0.   +0.j]\n",
      " [ 0.   +0.j]\n",
      " [ 0.378+0.j]\n",
      " [ 0.535+0.j]]\n"
     ]
    }
   ],
   "source": [
    "prep_L2_ = QuantumRegister(3, 'prep_L2')\n",
    "PREP_L2_circuit = QuantumCircuit(prep_L2_)\n",
    "PREP_L2_circuit.ry(2 * np.arccos(np.sqrt(3/7)), prep_L2_[0])\n",
    "PREP_L2_circuit.ch(prep_L2_[0], prep_L2_[1])\n",
    "PREP_L2_circuit.ccx(prep_L2_[0], prep_L2_[1], prep_L2_[2])\n",
    "PREP_L2_circuit.x(prep_L2_[0])\n",
    "PREP_L2_circuit.cry(2 * np.arccos(np.sqrt(1/3)), prep_L2_[0], prep_L2_[1])\n",
    "hadamar = QuantumCircuit(1)\n",
    "hadamar.h(0)\n",
    "hadamar = hadamar.to_gate(label='H')\n",
    "hadamard_controlled = hadamar.control(2)\n",
    "PREP_L2_circuit.append(hadamard_controlled, [prep_L2_[0], prep_L2_[1], prep_L2_[2]])\n",
    "PREP_L2_circuit.x(prep_L2_[0])\n",
    "\n",
    "qv.circuit_drawer(PREP_L2_circuit)\n",
    "print(PREP_L2_circuit)\n",
    "PREP_L2 = PREP_L2_circuit.to_gate(label='PREP_L2')\n",
    "PREP_L2_r = Operator(PREP_L2_circuit).data @ np.array([[1], [0], [0], [0], [0], [0], [0], [0]])\n",
    "print(np.round(PREP_L2_r,3))"
   ],
   "metadata": {
    "collapsed": false,
    "ExecuteTime": {
     "end_time": "2024-07-31T18:49:00.159634Z",
     "start_time": "2024-07-31T18:48:59.988724Z"
    }
   },
   "id": "bbbee0db83ad0551",
   "execution_count": 54
  },
  {
   "cell_type": "code",
   "outputs": [],
   "source": [
    "P_controlled = P.control(3)\n",
    "B_controlled = B.control(3)\n",
    "C_controlled = C.control(3)\n",
    "D_controlled = D.control(3)\n",
    "FD_controlled = FD.control(3)"
   ],
   "metadata": {
    "collapsed": false,
    "ExecuteTime": {
     "end_time": "2024-07-31T18:50:08.716916Z",
     "start_time": "2024-07-31T18:49:00.070169Z"
    }
   },
   "id": "23073694cf50595b",
   "execution_count": 55
  },
  {
   "cell_type": "code",
   "outputs": [],
   "source": [
    "x_circuit = QuantumCircuit(1)\n",
    "x_circuit.x(0)\n",
    "x_controlled = x.control(3)"
   ],
   "metadata": {
    "collapsed": false,
    "ExecuteTime": {
     "end_time": "2024-07-31T18:50:08.727292Z",
     "start_time": "2024-07-31T18:50:08.720444Z"
    }
   },
   "id": "16d12ba02f55f495",
   "execution_count": 56
  },
  {
   "cell_type": "code",
   "outputs": [],
   "source": [
    "R2pi = QuantumCircuit(1)\n",
    "R2pi.ry(2 * np.pi, 0)\n",
    "R2pi = R2pi.to_gate(label='R2pi')\n",
    "R2pi_controlled = R2pi.control(2)"
   ],
   "metadata": {
    "collapsed": false,
    "ExecuteTime": {
     "end_time": "2024-07-31T18:50:08.750301Z",
     "start_time": "2024-07-31T18:50:08.728440Z"
    }
   },
   "id": "3119fb8fea29dae0",
   "execution_count": 57
  },
  {
   "cell_type": "code",
   "outputs": [
    {
     "name": "stdout",
     "output_type": "stream",
     "text": [
      "                   ┌─────┐          ┌────┐     ┌────┐     ┌────┐             \n",
      "      j_L2_0: ─────┤0    ├──────────┤0   ├─────┤0   ├─────┤0   ├─────────────\n",
      "                   │     │          │    │     │    │     │    │             \n",
      "      j_L2_1: ─────┤1    ├──────────┤1   ├─────┤1   ├─────┤1   ├─────────────\n",
      "                   │     │          │    │     │    │     │    │             \n",
      "      j_L2_2: ─────┤2    ├──────────┤2   ├─────┤    ├─────┤2   ├─────────────\n",
      "                   │     │     ┌───┐│  B │     │  C │     │  P │┌──────┐     \n",
      "      j_L2_3: ─────┤  FD ├─────┤ X ├┤    ├─────┤    ├─────┤3   ├┤ R2pi ├─────\n",
      "                   │     │     └─┬─┘│    │     │    │     │    │└──┬───┘     \n",
      "ancilla_L2_0: ─────┤3    ├───────┼──┤3   ├─────┤2   ├─────┤4   ├───┼─────────\n",
      "                   │     │       │  │    │     │    │     │    │   │         \n",
      "ancilla_L2_1: ─────┤4    ├───────┼──┤4   ├─────┤3   ├─────┤5   ├───┼─────────\n",
      "                   │     │       │  └─┬──┘     └─┬──┘     └─┬──┘   │         \n",
      "ancilla_L2_2: ─────┤5    ├───────┼────┼──────────┼──────────┼──────┼─────────\n",
      "              ┌───┐└──┬──┘       │    │          │   ┌───┐  │      │         \n",
      "   prep_L2_0: ┤ X ├───■──────────■────■──────────■───┤ X ├──■──────┼─────────\n",
      "              └───┘   │          │    │   ┌───┐  │   └───┘  │      │    ┌───┐\n",
      "   prep_L2_1: ────────■──────────■────■───┤ X ├──■──────────■──────■────┤ X ├\n",
      "                      │   ┌───┐  │    │   └───┘  │          │      │    ├───┤\n",
      "   prep_L2_2: ────────■───┤ X ├──■────■──────────■──────────■──────■────┤ X ├\n",
      "                          └───┘                                         └───┘\n"
     ]
    }
   ],
   "source": [
    "j_L2 = QuantumRegister(4, 'j_L2')\n",
    "ancilla_L2 = QuantumRegister(3, 'ancilla_L2')\n",
    "Select_L2_circuit = QuantumCircuit(j_L2, ancilla_L2, prep_L2_)\n",
    "\n",
    "Select_L2_circuit.x(prep_L2_[0])\n",
    "\n",
    "Select_L2_circuit.append(FD_controlled, prep_L2_[:] + j_L2[0:3]+ ancilla_L2[0:3])\n",
    "Select_L2_circuit.x(prep_L2_[2])\n",
    "\n",
    "Select_L2_circuit.append(x_controlled, prep_L2_[:] + j_L2[3:4])\n",
    "Select_L2_circuit.append(B_controlled, prep_L2_[:] + j_L2[0:3] + ancilla_L2[0:2])\n",
    "\n",
    "Select_L2_circuit.x(prep_L2_[1])\n",
    "\n",
    "\n",
    "Select_L2_circuit.append(C_controlled, prep_L2_[:] + j_L2[0:2]+ ancilla_L2[0:2])\n",
    "\n",
    "Select_L2_circuit.x(prep_L2_[0])\n",
    "\n",
    "Select_L2_circuit.append(P_controlled, prep_L2_[:] + j_L2[:] + ancilla_L2[0:2])\n",
    "\n",
    "Select_L2_circuit.append(R2pi_controlled, prep_L2_[1:3] + j_L2[3:4])\n",
    "\n",
    "Select_L2_circuit.x(prep_L2_[1])\n",
    "Select_L2_circuit.x(prep_L2_[2])\n",
    "\n",
    "\n",
    "\n",
    "\n",
    "\n",
    "qv.circuit_drawer(Select_L2_circuit)\n",
    "print(Select_L2_circuit)\n",
    "\n",
    "\n"
   ],
   "metadata": {
    "collapsed": false,
    "ExecuteTime": {
     "end_time": "2024-07-31T18:53:09.695135Z",
     "start_time": "2024-07-31T18:53:05.941152Z"
    }
   },
   "id": "141a62b91f38974d",
   "execution_count": 66
  },
  {
   "cell_type": "code",
   "outputs": [],
   "source": [
    "Select_L2 = Select_L2_circuit.to_gate(label='Select_L2')"
   ],
   "metadata": {
    "collapsed": false,
    "ExecuteTime": {
     "end_time": "2024-07-31T18:53:10.707903Z",
     "start_time": "2024-07-31T18:53:09.689168Z"
    }
   },
   "id": "4ffe3712c33b84fb",
   "execution_count": 67
  },
  {
   "cell_type": "code",
   "outputs": [
    {
     "name": "stdout",
     "output_type": "stream",
     "text": [
      "                          ┌────────────┐                     \n",
      "      j_L2_0: ────────────┤0           ├─────────────────────\n",
      "                          │            │                     \n",
      "      j_L2_1: ────────────┤1           ├─────────────────────\n",
      "                          │            │                     \n",
      "      j_L2_2: ────────────┤2           ├─────────────────────\n",
      "                          │            │                     \n",
      "      j_L2_3: ────────────┤3           ├─────────────────────\n",
      "                          │            │                     \n",
      "ancilla_L2_0: ────────────┤4           ├─────────────────────\n",
      "                          │  Select_L2 │                     \n",
      "ancilla_L2_1: ────────────┤5           ├─────────────────────\n",
      "                          │            │                     \n",
      "ancilla_L2_2: ────────────┤6           ├─────────────────────\n",
      "              ┌──────────┐│            │┌───────────────────┐\n",
      "   prep_L2_0: ┤0         ├┤7           ├┤0                  ├\n",
      "              │          ││            ││                   │\n",
      "   prep_L2_1: ┤1 PREP_L2 ├┤8           ├┤1 circuit-80407_dg ├\n",
      "              │          ││            ││                   │\n",
      "   prep_L2_2: ┤2         ├┤9           ├┤2                  ├\n",
      "              └──────────┘└────────────┘└───────────────────┘\n"
     ]
    }
   ],
   "source": [
    "Whole_L2_circuit = QuantumCircuit(j_L2, ancilla_L2, prep_L2_)\n",
    "Whole_L2_circuit.append(PREP_L2, prep_L2_)\n",
    "Whole_L2_circuit.append(Select_L2, j_L2[:] + ancilla_L2[:] + prep_L2_[:])\n",
    "Whole_L2_circuit.append(PREP_L2.inverse(), prep_L2_)\n",
    "qv.circuit_drawer(Whole_L2_circuit)\n",
    "print(Whole_L2_circuit)"
   ],
   "metadata": {
    "collapsed": false,
    "ExecuteTime": {
     "end_time": "2024-07-31T18:53:13.717614Z",
     "start_time": "2024-07-31T18:53:10.716434Z"
    }
   },
   "id": "7d35029962e7a56a",
   "execution_count": 68
  },
  {
   "cell_type": "code",
   "outputs": [],
   "source": [
    "# Whole_L2 = Operator(Whole_L2_circuit)"
   ],
   "metadata": {
    "collapsed": false,
    "ExecuteTime": {
     "end_time": "2024-07-31T18:53:13.726719Z",
     "start_time": "2024-07-31T18:53:13.718174Z"
    }
   },
   "id": "6f398d53fc451e4c",
   "execution_count": 69
  },
  {
   "cell_type": "code",
   "outputs": [],
   "source": [
    "# Result = Whole_L2.data[0:16, 0:16]\n",
    "# plt.matshow(Result.real)\n",
    "# plt.colorbar()\n",
    "# print(np.round(Result.real*4, 3))"
   ],
   "metadata": {
    "collapsed": false,
    "ExecuteTime": {
     "end_time": "2024-07-31T18:53:13.755480Z",
     "start_time": "2024-07-31T18:53:13.722390Z"
    }
   },
   "id": "b530ba73d0c82759",
   "execution_count": 70
  },
  {
   "cell_type": "code",
   "outputs": [],
   "source": [
    "def build_matrix_from_statevectors(num_qubits, circuit, active_qubits):\n",
    "    backend = Aer.get_backend('statevector_simulator')\n",
    "    matrix = []\n",
    "    active_size = len(active_qubits)\n",
    "    \n",
    "    for i in range(2 ** active_size):\n",
    "        test_circuit = QuantumCircuit(num_qubits)\n",
    "        for qubit in set(range(num_qubits)) - set(active_qubits):\n",
    "            test_circuit.initialize([1, 0], qubit)\n",
    "        initial_state = [0] * (2 ** active_size)\n",
    "        initial_state[i] = 1\n",
    "        test_circuit.initialize(initial_state, active_qubits)\n",
    "        test_circuit.compose(circuit, range(num_qubits), inplace=True)\n",
    "        \n",
    "        result = backend.run(transpile(test_circuit, backend)).result()\n",
    "        state_vector = result.get_statevector()\n",
    "        matrix.append(state_vector)\n",
    "        print(np.round(state_vector*14,3),end=' '  )\n",
    "\n",
    "    return np.array(matrix).T"
   ],
   "metadata": {
    "collapsed": false,
    "ExecuteTime": {
     "end_time": "2024-07-31T18:53:13.763904Z",
     "start_time": "2024-07-31T18:53:13.729470Z"
    }
   },
   "id": "bddf09123ad262e6",
   "execution_count": 71
  },
  {
   "cell_type": "markdown",
   "source": [
    "statevector simulation is not a good way to implement the matrix, since it takes too much time."
   ],
   "metadata": {
    "collapsed": false
   },
   "id": "51dbb33ecc580181"
  },
  {
   "cell_type": "code",
   "outputs": [],
   "source": [
    "from qiskit_aer import Aer\n",
    "from qiskit import transpile, assemble\n",
    "\n",
    "\n",
    "def build_matrix_from_unitary(circuit):\n",
    "    backend = Aer.get_backend('unitary_simulator')\n",
    "    job = assemble(transpile(circuit, backend))\n",
    "    result = backend.run(job).result()\n",
    "    unitary = result.get_unitary()\n",
    "    \n",
    "    return unitary"
   ],
   "metadata": {
    "collapsed": false,
    "ExecuteTime": {
     "end_time": "2024-07-31T18:53:13.838089Z",
     "start_time": "2024-07-31T18:53:13.733152Z"
    }
   },
   "id": "824849869617cfd3",
   "execution_count": 72
  },
  {
   "cell_type": "code",
   "outputs": [
    {
     "name": "stdout",
     "output_type": "stream",
     "text": [
      "[ 4.+0.j -1.-0.j -0.+0.j ...  0.-0.j -0.-0.j  0.+0.j] [-1.-0.j  4.+0.j -1.-0.j ... -0.-0.j -0.+0.j -0.-0.j] [ 0.+0.j -1.-0.j  4.+0.j ... -0.+0.j -0.+0.j -0.+0.j] [-1.-0.j  0.+0.j -1.-0.j ... -0.+0.j -0.+0.j -0.-0.j] [-1.-0.j  0.+0.j  0.+0.j ... -0.+0.j  0.-0.j -0.+0.j] [-0.-0.j -1.-0.j -0.-0.j ...  0.-0.j -0.+0.j -0.+0.j] [-0.-0.j -0.+0.j -1.-0.j ...  0.-0.j -0.-0.j -0.+0.j] [ 0.+0.j -0.-0.j -0.-0.j ...  0.-0.j  0.-0.j -0.+0.j] [ 0.+0.j  0.+0.j -0.-0.j ...  0.-0.j -0.+0.j -0.+0.j] [-0.+0.j  0.+0.j  0.+0.j ... -0.+0.j  0.+0.j  0.+0.j] [-0.   +0.j -0.   +0.j  0.   +0.j ...  0.816+0.j  0.   +0.j -0.   +0.j] [ 0.   -0.j -0.   +0.j -0.   +0.j ... -0.   +0.j  0.816+0.j -0.   +0.j] [-1.-0.j  0.-0.j  0.-0.j ...  0.-0.j  0.+0.j  0.-0.j] [-0.-0.j -1.-0.j  0.-0.j ...  0.-0.j  0.-0.j -0.+0.j] [-0.-0.j -0.-0.j -1.-0.j ... -0.+0.j  0.-0.j  0.-0.j] [ 0.-0.j  0.-0.j -0.-0.j ... -0.-0.j -0.+0.j -0.+0.j] "
     ]
    },
    {
     "data": {
      "text/plain": "<matplotlib.colorbar.Colorbar at 0x141bd8ce0>"
     },
     "execution_count": 74,
     "metadata": {},
     "output_type": "execute_result"
    },
    {
     "data": {
      "text/plain": "<Figure size 400x1600 with 2 Axes>",
      "image/png": "[encoded data removed]"
     },
     "metadata": {},
     "output_type": "display_data"
    }
   ],
   "source": [
    "Result = build_matrix_from_statevectors(10, Whole_L2_circuit, [0, 1, 2, 3])\n",
    "plt.matshow(Result.real)\n",
    "plt.colorbar()"
   ],
   "metadata": {
    "collapsed": false,
    "ExecuteTime": {
     "end_time": "2024-07-31T19:06:15.099874Z",
     "start_time": "2024-07-31T18:53:24.815276Z"
    }
   },
   "id": "fd9ad1dca4a1b844",
   "execution_count": 74
  },
  {
   "cell_type": "code",
   "outputs": [
    {
     "name": "stderr",
     "output_type": "stream",
     "text": [
      "/var/folders/jb/dctypkvj30n3cm10dgq4pjm40000gn/T/ipykernel_31318/1342632044.py:8: DeprecationWarning: Using a qobj for run() is deprecated as of qiskit-aer 0.14 and will be removed no sooner than 3 months from that release date. Transpiled circuits should now be passed directly using `backend.run(circuits, **run_options).\n",
      "  result = backend.run(job).result()\n",
      "/var/folders/jb/dctypkvj30n3cm10dgq4pjm40000gn/T/ipykernel_31318/3093721861.py:2: DeprecationWarning: The return type of saved unitaries has been changed from a `numpy.ndarray` to a `qiskit.quantum_info.Operator` as of qiskit-aer 0.10. Accessing numpy array attributes is deprecated and will result in an error in a future release. To continue using saved result objects as arrays you can explicitly cast them using  `np.asarray(object)`.\n",
      "  plt.matshow(Result2.real)\n"
     ]
    },
    {
     "data": {
      "text/plain": "<matplotlib.colorbar.Colorbar at 0x13acccf50>"
     },
     "execution_count": 77,
     "metadata": {},
     "output_type": "execute_result"
    },
    {
     "data": {
      "text/plain": "<Figure size 480x480 with 2 Axes>",
      "image/png": "[encoded data removed]"
     },
     "metadata": {},
     "output_type": "display_data"
    }
   ],
   "source": [
    "Result2 = build_matrix_from_unitary(Whole_L2_circuit)\n",
    "plt.matshow(Result2.real)\n",
    "plt.colorbar()"
   ],
   "metadata": {
    "collapsed": false,
    "ExecuteTime": {
     "end_time": "2024-07-31T19:13:49.190535Z",
     "start_time": "2024-07-31T19:09:57.234363Z"
    }
   },
   "id": "eeeed5ec1c9d93c",
   "execution_count": 77
  },
  {
   "cell_type": "code",
   "outputs": [
    {
     "name": "stdout",
     "output_type": "stream",
     "text": [
      "[[ 4. -1.  0. -1. -1. -0. -0.  0.  0. -0. -0.  0. -1. -0. -0.  0.]\n",
      " [-1.  4. -1.  0.  0. -1. -0. -0.  0.  0. -0. -0.  0. -1. -0.  0.]\n",
      " [-0. -1.  4. -1.  0. -0. -1. -0. -0.  0.  0. -0.  0.  0. -1. -0.]\n",
      " [-1. -0. -1.  4.  0. -0. -0. -1. -0.  0.  0.  0.  0.  0.  0. -1.]\n",
      " [-1. -0. -0.  0.  4. -1.  0. -1. -1. -0. -0.  0.  0. -0. -0. -0.]\n",
      " [ 0. -1. -0. -0. -1.  4. -1.  0.  0. -1. -0. -0.  0.  0. -0.  0.]\n",
      " [ 0.  0. -1. -0. -0. -1.  4. -1.  0. -0. -1. -0. -0.  0.  0.  0.]\n",
      " [ 0.  0.  0. -1. -1. -0. -1.  4.  0. -0. -0. -1. -0.  0.  0.  0.]\n",
      " [-0. -0.  0.  0. -1. -0. -0.  0.  4. -1.  0. -1. -1. -0. -0.  0.]\n",
      " [ 0. -0. -0. -0.  0. -1. -0.  0. -1.  4. -1.  0.  0. -1. -0. -0.]\n",
      " [ 0.  0. -0. -0.  0.  0. -1. -0. -0. -1.  4. -1.  0. -0. -1. -0.]\n",
      " [-0.  0.  0. -0. -0.  0.  0. -1. -1. -0. -1.  4.  0. -0. -0. -1.]\n",
      " [-1. -0. -0.  0. -0. -0. -0.  0. -1. -0. -0.  0.  4. -1.  0. -1.]\n",
      " [ 0. -1. -0. -0. -0. -0. -0.  0.  0. -1. -0. -0. -1.  4. -1.  0.]\n",
      " [-0. -0. -1. -0. -0.  0. -0.  0.  0.  0. -1. -0. -0. -1.  4. -1.]\n",
      " [ 0. -0. -0. -1. -0.  0.  0. -0.  0.  0.  0. -1. -1. -0. -1.  4.]]\n",
      "[[ 4. -1.  0. -1. -1. -0.  0. -0.  0.  0.  0.  0. -1. -0.  0. -0.]\n",
      " [-1.  4. -1.  0. -0. -1. -0.  0.  0.  0.  0.  0. -0. -1. -0.  0.]\n",
      " [ 0. -1.  4. -1.  0. -0. -1. -0.  0.  0.  0.  0.  0. -0. -1. -0.]\n",
      " [-1.  0. -1.  4. -0.  0. -0. -1.  0.  0.  0.  0. -0.  0. -0. -1.]\n",
      " [-1. -0.  0. -0.  4. -1.  0. -1. -1. -0.  0. -0.  0.  0.  0.  0.]\n",
      " [-0. -1. -0.  0. -1.  4. -1.  0. -0. -1. -0.  0.  0.  0.  0.  0.]\n",
      " [ 0. -0. -1. -0.  0. -1.  4. -1.  0. -0. -1. -0.  0.  0.  0.  0.]\n",
      " [-0.  0. -0. -1. -1.  0. -1.  4. -0.  0. -0. -1.  0.  0.  0.  0.]\n",
      " [ 0.  0.  0.  0. -1. -0.  0. -0.  4. -1.  0. -1. -1. -0.  0. -0.]\n",
      " [ 0.  0.  0.  0. -0. -1. -0.  0. -1.  4. -1.  0. -0. -1. -0.  0.]\n",
      " [ 0.  0.  0.  0.  0. -0. -1. -0.  0. -1.  4. -1.  0. -0. -1. -0.]\n",
      " [ 0.  0.  0.  0. -0.  0. -0. -1. -1.  0. -1.  4. -0.  0. -0. -1.]\n",
      " [-1. -0.  0. -0.  0.  0.  0.  0. -1. -0.  0. -0.  4. -1.  0. -1.]\n",
      " [-0. -1. -0.  0.  0.  0.  0.  0. -0. -1. -0.  0. -1.  4. -1.  0.]\n",
      " [ 0. -0. -1. -0.  0.  0.  0.  0.  0. -0. -1. -0.  0. -1.  4. -1.]\n",
      " [-0.  0. -0. -1.  0.  0.  0.  0. -0.  0. -0. -1. -1.  0. -1.  4.]]\n"
     ]
    },
    {
     "data": {
      "text/plain": "<Figure size 480x480 with 2 Axes>",
      "image/png": "[encoded data removed]"
     },
     "metadata": {},
     "output_type": "display_data"
    },
    {
     "data": {
      "text/plain": "<Figure size 480x480 with 2 Axes>",
      "image/png": "[encoded data removed]"
     },
     "metadata": {},
     "output_type": "display_data"
    }
   ],
   "source": [
    "plt.matshow(Result.real[0:16, 0:16]*14)\n",
    "plt.colorbar()\n",
    "plt.matshow(L_2.real)\n",
    "plt.colorbar()\n",
    "print(np.round(Result.real*14, 3)[0:16, 0:16])\n",
    "file = open('matrix_record_L_2.txt', 'a+')\n",
    "file.seek(0)\n",
    "read = file.read()\n",
    "if read != '':\n",
    "    result = eval(read)\n",
    "    result = np.array(result)\n",
    "    file.close()\n",
    "else:\n",
    "    result = Result\n",
    "    file.write(repr(result.tolist()) + '\\n')\n",
    "    file.close()\n",
    "print(L_2.real)\n"
   ],
   "metadata": {
    "collapsed": false,
    "ExecuteTime": {
     "end_time": "2024-07-31T19:06:34.867013Z",
     "start_time": "2024-07-31T19:06:21.161791Z"
    }
   },
   "id": "4d372e0cd01d54d7",
   "execution_count": 75
  },
  {
   "cell_type": "markdown",
   "source": [
    "[[ 4.  1.  0.  4.  1.  0.  0.  0.  0. -0. -0.  0.  1.  0.  0.  5.]\n",
    " [ 1.  4.  1.  0. -0.  1. -0.  0.  0.  0. -0. -0. -0.  1.  0.  0.]\n",
    " [-0.  1.  4.  1. -0.  0.  1.  0.  0.  0.  0. -0.  0.  0.  1.  0.]\n",
    " [ 4. -0.  1.  4.  9. -0.  0.  1.  0.  0.  0.  0. -0. -0. -0.  1.]\n",
    " [ 1. -0. -0.  9.  4.  1.  0.  4.  1. -0.  0.  0.  0. -0. -0.  0.]\n",
    " [ 0.  1.  0.  0.  1.  4.  1.  0. -0.  1. -0. -0.  0.  0. -0. -0.]\n",
    " [-0.  0.  1.  0. -0.  1.  4.  1. -0. -0.  1. -0. -0.  0.  0.  0.]\n",
    " [-0. -0. -0.  1.  4. -0.  1.  4.  5. -0. -0.  1.  0.  0.  0.  0.]\n",
    " [-0. -0. -0. -0.  1.  0.  0.  5.  4.  1.  0.  4.  1.  0.  0.  0.]\n",
    " [ 0. -0. -0. -0. -0.  1.  0.  0.  1.  4.  1.  0. -0.  1. -0.  0.]\n",
    " [-0.  0. -0. -0.  0.  0.  1.  0. -0.  1.  4.  1. -0.  0.  1.  0.]\n",
    " [-0.  0.  0. -0.  0. -0. -0.  1.  4. -0.  1.  4.  9. -0.  0.  1.]\n",
    " [ 1. -0.  0.  0. -0. -0. -0. -0.  1. -0. -0.  9.  4.  1.  0.  4.]\n",
    " [-0.  1. -0.  0.  0. -0. -0. -0.  0.  1.  0.  0.  1.  4.  1.  0.]\n",
    " [-0. -0.  1. -0. -0.  0. -0.  0. -0.  0.  1.  0. -0.  1.  4.  1.]\n",
    " [ 5. -0. -0.  1. -0.  0.  0. -0. -0.  0. -0.  1.  4. -0.  1.  4.]]"
   ],
   "metadata": {
    "collapsed": false
   },
   "id": "3631eb6fb1360e0b"
  },
  {
   "cell_type": "code",
   "outputs": [
    {
     "name": "stdout",
     "output_type": "stream",
     "text": [
      "[[ 4. -1.  0. -1. -1. -0. -0.  0.  0. -0. -0.  0. -1. -0. -0.  0.]\n",
      " [-1.  4. -1.  0.  0. -1. -0. -0.  0.  0. -0. -0.  0. -1. -0.  0.]\n",
      " [-0. -1.  4. -1.  0. -0. -1. -0. -0.  0.  0. -0.  0.  0. -1. -0.]\n",
      " [-1. -0. -1.  4.  0. -0. -0. -1. -0.  0.  0.  0.  0.  0.  0. -1.]\n",
      " [-1. -0. -0.  0.  4. -1.  0. -1. -1. -0. -0.  0.  0. -0. -0. -0.]\n",
      " [ 0. -1. -0. -0. -1.  4. -1.  0.  0. -1. -0. -0.  0. -0. -0.  0.]\n",
      " [ 0.  0. -1. -0. -0. -1.  4. -1.  0. -0. -1. -0. -0.  0.  0.  0.]\n",
      " [ 0.  0.  0. -1. -1. -0. -1.  4.  0. -0. -0. -1. -0.  0.  0.  0.]\n",
      " [-0. -0.  0.  0. -1. -0. -0.  0.  4. -1.  0. -1. -1. -0. -0.  0.]\n",
      " [ 0. -0. -0. -0.  0. -1. -0.  0. -1.  4. -1.  0.  0. -1. -0. -0.]\n",
      " [-0.  0. -0. -0.  0.  0. -1. -0. -0. -1.  4. -1.  0. -0. -1. -0.]\n",
      " [-0.  0.  0. -0. -0.  0.  0. -1. -1. -0. -1.  4.  0. -0. -0. -1.]\n",
      " [-1. -0. -0.  0. -0. -0. -0.  0. -1. -0. -0.  0.  4. -1.  0. -1.]\n",
      " [-0. -1. -0. -0.  0. -0.  0.  0.  0. -1. -0. -0. -1.  4. -1.  0.]\n",
      " [-0. -0. -1. -0. -0.  0. -0.  0.  0.  0. -1. -0. -0. -1.  4. -1.]\n",
      " [ 0. -0. -0. -1.  0.  0.  0. -0.  0.  0.  0. -1. -1. -0. -1.  4.]]\n"
     ]
    },
    {
     "name": "stderr",
     "output_type": "stream",
     "text": [
      "/var/folders/jb/dctypkvj30n3cm10dgq4pjm40000gn/T/ipykernel_31318/2405858578.py:1: DeprecationWarning: The return type of saved unitaries has been changed from a `numpy.ndarray` to a `qiskit.quantum_info.Operator` as of qiskit-aer 0.10. Accessing numpy array attributes is deprecated and will result in an error in a future release. To continue using saved result objects as arrays you can explicitly cast them using  `np.asarray(object)`.\n",
      "  print(np.round(Result2.real*14, 3)[0:16, 0:16])\n",
      "/var/folders/jb/dctypkvj30n3cm10dgq4pjm40000gn/T/ipykernel_31318/2405858578.py:2: DeprecationWarning: The return type of saved unitaries has been changed from a `numpy.ndarray` to a `qiskit.quantum_info.Operator` as of qiskit-aer 0.10. Accessing numpy array attributes is deprecated and will result in an error in a future release. To continue using saved result objects as arrays you can explicitly cast them using  `np.asarray(object)`.\n",
      "  plt.matshow(Result2.real[0:16, 0:16])\n"
     ]
    },
    {
     "data": {
      "text/plain": "<matplotlib.colorbar.Colorbar at 0x1406eeea0>"
     },
     "execution_count": 78,
     "metadata": {},
     "output_type": "execute_result"
    },
    {
     "data": {
      "text/plain": "<Figure size 480x480 with 2 Axes>",
      "image/png": "[encoded data removed]"
     },
     "metadata": {},
     "output_type": "display_data"
    }
   ],
   "source": [
    "print(np.round(Result2.real*14, 3)[0:16, 0:16])\n",
    "plt.matshow(Result2.real[0:16, 0:16])\n",
    "plt.colorbar()"
   ],
   "metadata": {
    "collapsed": false,
    "ExecuteTime": {
     "end_time": "2024-07-31T19:15:12.335313Z",
     "start_time": "2024-07-31T19:15:11.953879Z"
    }
   },
   "id": "7e53954215714579",
   "execution_count": 78
  },
  {
   "cell_type": "markdown",
   "source": [
    "## 2.1.2.3 Conclusion\n",
    "Although the quantum circuit based on 2nd idea costs more.\n",
    "But it shows a more general way to implement a bad-shaped matrix.\n",
    "From this "
   ],
   "metadata": {
    "collapsed": false
   },
   "id": "674c64639198b9c5"
  },
  {
   "cell_type": "markdown",
   "source": [
    "# 2.1.3 The third idea\n",
    "By decomposing A, we can get this idea is a variant of the first idea."
   ],
   "metadata": {
    "collapsed": false
   },
   "id": "182c661f4c300228"
  },
  {
   "cell_type": "markdown",
   "source": [
    "# 3.0 Improvement\n",
    "## 3.1 The first idea: Adding the matrix with the same coeficient using the same controlled state\n",
    "We can find sometimes when we add some matrices, they have the same coeficient.\n",
    "So could we use the same controlled state to control them?\n",
    "\n",
    "\n",
    "Lets think about it:\n",
    "$$\n",
    "A = \\begin{bmatrix}\n",
    "a & b\\\\\n",
    "c & d\n",
    "\\end{bmatrix}\n",
    "B = \\begin{bmatrix}\n",
    "e & f\\\\\n",
    "g & h\n",
    "\\end{bmatrix}\\\\\n",
    "|1><1|\\otimes A + |0><0|\\otimes I = \\begin{bmatrix}\n",
    "0 & 0\\\\\n",
    "0 & 1\\\\\n",
    "\\end{bmatrix} \\otimes A + \\begin{bmatrix}\n",
    "1 & 0\\\\\n",
    "0 & 0\\\\\n",
    "\\end{bmatrix} \\otimes I = \\begin{bmatrix}\n",
    "1 & 0 & 0 & 0\\\\\n",
    "0 & 1 & 0 & 0\\\\\n",
    "0 & 0 & a & b\\\\\n",
    "0 & 0 & c & d\n",
    "\\end{bmatrix}\n",
    "$$"
   ],
   "metadata": {
    "collapsed": false
   },
   "id": "a0c6d7a4fb7cf019"
  },
  {
   "cell_type": "markdown",
   "source": [
    "Then \n",
    "$$\n",
    "|0><0|\\otimes B + |1><1|\\otimes I = \\begin{bmatrix}\n",
    "e & f & 0 & 0\\\\\n",
    "g & h & 0 & 0\\\\\n",
    "0 & 0 & 1 & 0\\\\\n",
    "0 & 0 & 0 & 1\n",
    "\\end{bmatrix}\n",
    "$$\n",
    "(|0><0|\\otimes B + |1><1|\\otimes I)(|1><1|\\otimes A + |0><0|\\otimes I) = \\begin{bmatrix}\n",
    "e & f & 0 & 0\\\\\n",
    "g & h & 0 & 0\\\\\n",
    "0 & 0 & 1 & 0\\\\\n",
    "0 & 0 & 0 & 1\n",
    "\\end{bmatrix}\n",
    "\\begin{bmatrix}\n",
    "1 & 0 & 0 & 0\\\\\n",
    "0 & 1 & 0 & 0\\\\\n",
    "0 & 0 & a & b\\\\\n",
    "0 & 0 & c & d\n",
    "\\end{bmatrix} = \\begin{bmatrix}\n",
    "e & f & 0 & 0\\\\\n",
    "g & h & 0 & 0\\\\\n",
    "0 & 0 & a & b\\\\\n",
    "0 & 0 & c & d\n",
    "\\end{bmatrix}\n",
    "$$\n"
   ],
   "metadata": {
    "collapsed": false
   },
   "id": "56486257af03d2a5"
  },
  {
   "cell_type": "markdown",
   "source": [
    "$$\n",
    "(H\\otimes I)\\times\n",
    "\\begin{bmatrix}\n",
    "e & f & 0 & 0\\\\\n",
    "g & h & 0 & 0\\\\\n",
    "0 & 0 & a & b\\\\\n",
    "0 & 0 & c & d\n",
    "\\end{bmatrix}\\times\n",
    "(H\\otimes I) = \n",
    "$$"
   ],
   "metadata": {
    "collapsed": false
   },
   "id": "38b593edc84cd5f7"
  },
  {
   "cell_type": "markdown",
   "source": [
    "$$\n",
    "\\begin{bmatrix}\n",
    "\\frac{1}{\\sqrt{2}} & 0 & \\frac{1}{\\sqrt{2}} & 0\\\\\n",
    "0 & \\frac{1}{\\sqrt{2}} & 0 & \\frac{1}{\\sqrt{2}}\\\\\n",
    "\\frac{1}{\\sqrt{2}} & 0 & -\\frac{1}{\\sqrt{2}} & 0\\\\\n",
    "0 & \\frac{1}{\\sqrt{2}} & 0 & -\\frac{1}{\\sqrt{2}}\n",
    "\\end{bmatrix}\\times\n",
    "\\begin{bmatrix}\n",
    "e & f & 0 & 0\\\\\n",
    "g & h & 0 & 0\\\\\n",
    "0 & 0 & a & b\\\\\n",
    "0 & 0 & c & d\n",
    "\\end{bmatrix}\\times\n",
    "\\begin{bmatrix}\n",
    "\\frac{1}{\\sqrt{2}} & 0 & \\frac{1}{\\sqrt{2}} & 0\\\\\n",
    "0 & \\frac{1}{\\sqrt{2}} & 0 & \\frac{1}{\\sqrt{2}}\\\\\n",
    "\\frac{1}{\\sqrt{2}} & 0 & -\\frac{1}{\\sqrt{2}} & 0\\\\\n",
    "0 & \\frac{1}{\\sqrt{2}} & 0 & -\\frac{1}{\\sqrt{2}}\n",
    "\\end{bmatrix}\n",
    "$$"
   ],
   "metadata": {
    "collapsed": false
   },
   "id": "9a6f4805f5d6e130"
  },
  {
   "cell_type": "markdown",
   "source": [
    "$$\n",
    "\\begin{pmatrix}\\frac{a+e}{2}&\\frac{f+b}{2}&\\frac{e-a}{2}&\\frac{f-b}{2}\\\\ \\frac{g+c}{2}&\\frac{h+d}{2}&\\frac{g-c}{2}&\\frac{h-d}{2}\\\\ \\frac{e-a}{2}&\\frac{f-b}{2}&\\frac{a+e}{2}&\\frac{f+b}{2}\\\\ \\frac{g-c}{2}&\\frac{h-d}{2}&\\frac{g+c}{2}&\\frac{h+d}{2}\\end{pmatrix}\n",
    "$$"
   ],
   "metadata": {
    "collapsed": false
   },
   "id": "9d3f5f73766390ab"
  },
  {
   "cell_type": "markdown",
   "source": [
    "if it is |1><1|\\otimes B + |0><0|\\otimes I, then the matrix is not like that.\n",
    "So we couldn't use the same control state."
   ],
   "metadata": {
    "collapsed": false
   },
   "id": "59a3dde5fbdd65ff"
  },
  {
   "cell_type": "code",
   "outputs": [],
   "source": [
    "qc = QuantumCircuit(2)\n",
    "qc.h(1)\n",
    "qc.cx(1, 0)\n",
    "qc.cy(1, 0)\n",
    "qc.h(1)\n",
    "\n",
    "qv.circuit_drawer(qc)\n",
    "print(qc)\n",
    "print(Operator(qc).data)\n",
    "\n",
    "qc1 = QuantumCircuit(2)\n",
    "qc1.h(1)\n",
    "qc1.cx(1, 0)\n",
    "qc1.x(1)\n",
    "qc1.cy(1, 0)\n",
    "qc1.x(1)\n",
    "qc1.h(1)\n",
    "qv.circuit_drawer(qc1)\n",
    "print(qc1)\n",
    "print(Operator(qc1).data)"
   ],
   "metadata": {
    "collapsed": false,
    "ExecuteTime": {
     "start_time": "2024-07-31T18:53:14.031325Z"
    }
   },
   "id": "7f651c470d397156",
   "execution_count": null
  },
  {
   "cell_type": "markdown",
   "source": [
    "## 4. Comparison\n",
    "The cost of ancilla qubit between the first idea and the second idea is very different.\n",
    "The first idea costs 3 ancilla qubit, while the second idea costs 12 ancilla qubits.\n",
    "The difference that raise this difference is that when implementing the matrix, the first idea put all the ancilla qubits of unitaries that need to be added up on the same qubit, while the second idea put them on different qubits."
   ],
   "metadata": {
    "collapsed": false
   },
   "id": "4579d661ba0615a8"
  }
 ],
 "metadata": {
  "kernelspec": {
   "display_name": "Python 3",
   "language": "python",
   "name": "python3"
  },
  "language_info": {
   "codemirror_mode": {
    "name": "ipython",
    "version": 2
   },
   "file_extension": ".py",
   "mimetype": "text/x-python",
   "name": "python",
   "nbconvert_exporter": "python",
   "pygments_lexer": "ipython2",
   "version": "2.7.6"
  }
 },
 "nbformat": 4,
 "nbformat_minor": 5
}
