{
 "cells": [
  {
   "cell_type": "markdown",
   "source": [
    "# Block encoding of 2-D Laplacian matrix"
   ],
   "metadata": {
    "collapsed": false
   },
   "id": "cd353ff99cf37224"
  },
  {
   "cell_type": "markdown",
   "source": [
    "## The representation of laplacian by linear combination of unitary\n",
    "$L = 2 * P_0 + (-1) * P_1 + (-1) * P_3$"
   ],
   "metadata": {
    "collapsed": false
   },
   "id": "613a15a15e3ab362"
  },
  {
   "cell_type": "code",
   "outputs": [
    {
     "name": "stdout",
     "output_type": "stream",
     "text": [
      "[[ 2.+0.j -1.+0.j  0.+0.j -1.+0.j]\n",
      " [-1.+0.j  2.+0.j -1.+0.j  0.+0.j]\n",
      " [ 0.+0.j -1.+0.j  2.+0.j -1.+0.j]\n",
      " [-1.+0.j  0.+0.j -1.+0.j  2.+0.j]]\n",
      "[[ 2 -1  0 -1]\n",
      " [-1  2 -1  0]\n",
      " [ 0 -1  2 -1]\n",
      " [-1  0 -1  2]]\n",
      "Laplacian is represented by linear combination of unitary correctly\n"
     ]
    }
   ],
   "source": [
    "import numpy as np\n",
    "from MyQuantum import *\n",
    "import matplotlib.pyplot as plt\n",
    "\n",
    "D = npk.Matrix(np.array([[2, -1, 0, -1],\n",
    "                                [-1, 2, -1, 0],\n",
    "                                [0, -1, 2, -1],\n",
    "                                [-1, 0, -1, 2]]))\n",
    "P0 = I_4\n",
    "P1 = np.array([[0, 1, 0, 0],\n",
    "                [0, 0, 1, 0],\n",
    "                [0, 0, 0, 1],\n",
    "                [1, 0, 0, 0]])\n",
    "P2 = P1 @ P1\n",
    "P3 = P2 @ P1\n",
    "\n",
    "print((2 * I_4 + (-1) * P1 + (-1) * P3))\n",
    "print(D)\n",
    "if np.allclose((2 * I_4 + (-1) * P1 + (-1) * P3), D):\n",
    "    print(\"Laplacian is represented by linear combination of unitary correctly\")"
   ],
   "metadata": {
    "collapsed": false,
    "ExecuteTime": {
     "end_time": "2024-07-17T22:33:10.361919Z",
     "start_time": "2024-07-17T22:33:10.297371Z"
    }
   },
   "id": "97b342b7f49d9b92",
   "execution_count": 77
  },
  {
   "cell_type": "markdown",
   "source": [
    "## Corollary:\n",
    "$$\n",
    "L_2 = L \\otimes I + I \\otimes L \\\\\n",
    "= 2 * P_0 \\otimes I + (-1) * P_1 \\otimes I + (-1) * P_3 \\otimes I + I \\otimes 2 * P_0 + I \\otimes (-1) * P_1 + I \\otimes (-1) * P_3 \\\\\n",
    "= 2 * (P_0 \\otimes I + I \\otimes P_0) + (-1) * (P_1 \\otimes I + I \\otimes  P_1) + (-1) * (P_3 \\otimes I + I \\otimes P_3) \\\\\n",
    "$$\n",
    "So, what is $P_0 \\otimes I + I \\otimes 2 * P_0$ and so on? Could they be represented by some unitary matrices?"
   ],
   "metadata": {
    "collapsed": false
   },
   "id": "911c41a297ddef63"
  },
  {
   "cell_type": "markdown",
   "source": [],
   "metadata": {
    "collapsed": false
   },
   "id": "1cfc32e2e979b25d"
  },
  {
   "cell_type": "code",
   "outputs": [
    {
     "name": "stdout",
     "output_type": "stream",
     "text": [
      "[[2. 0. 0. 0. 0. 0. 0. 0. 0. 0. 0. 0. 0. 0. 0. 0.]\n",
      " [0. 2. 0. 0. 0. 0. 0. 0. 0. 0. 0. 0. 0. 0. 0. 0.]\n",
      " [0. 0. 2. 0. 0. 0. 0. 0. 0. 0. 0. 0. 0. 0. 0. 0.]\n",
      " [0. 0. 0. 2. 0. 0. 0. 0. 0. 0. 0. 0. 0. 0. 0. 0.]\n",
      " [0. 0. 0. 0. 2. 0. 0. 0. 0. 0. 0. 0. 0. 0. 0. 0.]\n",
      " [0. 0. 0. 0. 0. 2. 0. 0. 0. 0. 0. 0. 0. 0. 0. 0.]\n",
      " [0. 0. 0. 0. 0. 0. 2. 0. 0. 0. 0. 0. 0. 0. 0. 0.]\n",
      " [0. 0. 0. 0. 0. 0. 0. 2. 0. 0. 0. 0. 0. 0. 0. 0.]\n",
      " [0. 0. 0. 0. 0. 0. 0. 0. 2. 0. 0. 0. 0. 0. 0. 0.]\n",
      " [0. 0. 0. 0. 0. 0. 0. 0. 0. 2. 0. 0. 0. 0. 0. 0.]\n",
      " [0. 0. 0. 0. 0. 0. 0. 0. 0. 0. 2. 0. 0. 0. 0. 0.]\n",
      " [0. 0. 0. 0. 0. 0. 0. 0. 0. 0. 0. 2. 0. 0. 0. 0.]\n",
      " [0. 0. 0. 0. 0. 0. 0. 0. 0. 0. 0. 0. 2. 0. 0. 0.]\n",
      " [0. 0. 0. 0. 0. 0. 0. 0. 0. 0. 0. 0. 0. 2. 0. 0.]\n",
      " [0. 0. 0. 0. 0. 0. 0. 0. 0. 0. 0. 0. 0. 0. 2. 0.]\n",
      " [0. 0. 0. 0. 0. 0. 0. 0. 0. 0. 0. 0. 0. 0. 0. 2.]]\n"
     ]
    }
   ],
   "source": [
    "P0_term = np.kron(P0, I_4) + np.kron(I_4, P0)\n",
    "print(P0_term.real)"
   ],
   "metadata": {
    "collapsed": false,
    "ExecuteTime": {
     "end_time": "2024-07-17T22:33:10.401741Z",
     "start_time": "2024-07-17T22:33:10.367300Z"
    }
   },
   "id": "39668ef67dffb1f8",
   "execution_count": 78
  },
  {
   "cell_type": "markdown",
   "source": [
    "The term $P_0 \\otimes I + I \\otimes 2 * P_0$ is just twice the identity matrix\n",
    "So the block encoding can be implemented in such a way:\n"
   ],
   "metadata": {
    "collapsed": false
   },
   "id": "d4257eabf205ddfb"
  },
  {
   "cell_type": "code",
   "outputs": [
    {
     "name": "stdout",
     "output_type": "stream",
     "text": [
      "[[0. 1. 0. 0. 1. 0. 0. 0. 0. 0. 0. 0. 0. 0. 0. 0.]\n",
      " [0. 0. 1. 0. 0. 1. 0. 0. 0. 0. 0. 0. 0. 0. 0. 0.]\n",
      " [0. 0. 0. 1. 0. 0. 1. 0. 0. 0. 0. 0. 0. 0. 0. 0.]\n",
      " [1. 0. 0. 0. 0. 0. 0. 1. 0. 0. 0. 0. 0. 0. 0. 0.]\n",
      " [0. 0. 0. 0. 0. 1. 0. 0. 1. 0. 0. 0. 0. 0. 0. 0.]\n",
      " [0. 0. 0. 0. 0. 0. 1. 0. 0. 1. 0. 0. 0. 0. 0. 0.]\n",
      " [0. 0. 0. 0. 0. 0. 0. 1. 0. 0. 1. 0. 0. 0. 0. 0.]\n",
      " [0. 0. 0. 0. 1. 0. 0. 0. 0. 0. 0. 1. 0. 0. 0. 0.]\n",
      " [0. 0. 0. 0. 0. 0. 0. 0. 0. 1. 0. 0. 1. 0. 0. 0.]\n",
      " [0. 0. 0. 0. 0. 0. 0. 0. 0. 0. 1. 0. 0. 1. 0. 0.]\n",
      " [0. 0. 0. 0. 0. 0. 0. 0. 0. 0. 0. 1. 0. 0. 1. 0.]\n",
      " [0. 0. 0. 0. 0. 0. 0. 0. 1. 0. 0. 0. 0. 0. 0. 1.]\n",
      " [1. 0. 0. 0. 0. 0. 0. 0. 0. 0. 0. 0. 0. 1. 0. 0.]\n",
      " [0. 1. 0. 0. 0. 0. 0. 0. 0. 0. 0. 0. 0. 0. 1. 0.]\n",
      " [0. 0. 1. 0. 0. 0. 0. 0. 0. 0. 0. 0. 0. 0. 0. 1.]\n",
      " [0. 0. 0. 1. 0. 0. 0. 0. 0. 0. 0. 0. 1. 0. 0. 0.]]\n"
     ]
    },
    {
     "data": {
      "text/plain": "<matplotlib.colorbar.Colorbar at 0x122a9ce60>"
     },
     "execution_count": 79,
     "metadata": {},
     "output_type": "execute_result"
    },
    {
     "data": {
      "text/plain": "<Figure size 480x480 with 2 Axes>",
      "image/png": "[encoded data removed]"
     },
     "metadata": {},
     "output_type": "display_data"
    }
   ],
   "source": [
    "P1_term = np.kron(P1, I_4) + np.kron(I_4, P1)\n",
    "print(P1_term.real)\n",
    "plt.matshow(P1_term.real)\n",
    "plt.colorbar()"
   ],
   "metadata": {
    "collapsed": false,
    "ExecuteTime": {
     "end_time": "2024-07-17T22:33:10.778638Z",
     "start_time": "2024-07-17T22:33:10.408924Z"
    }
   },
   "id": "bcb8d465fb8e6668",
   "execution_count": 79
  },
  {
   "cell_type": "markdown",
   "source": [
    "Checl if this term is proportional to a unitary matrix"
   ],
   "metadata": {
    "collapsed": false
   },
   "id": "72d8423cd6a178d9"
  },
  {
   "cell_type": "code",
   "outputs": [
    {
     "name": "stdout",
     "output_type": "stream",
     "text": [
      "[[0.5  0.   0.   0.   0.   0.   0.   0.25 0.   0.   0.   0.   0.   0.25\n",
      "  0.   0.  ]\n",
      " [0.   0.5  0.   0.   0.25 0.   0.   0.   0.   0.   0.   0.   0.   0.\n",
      "  0.25 0.  ]\n",
      " [0.   0.   0.5  0.   0.   0.25 0.   0.   0.   0.   0.   0.   0.   0.\n",
      "  0.   0.25]\n",
      " [0.   0.   0.   0.5  0.   0.   0.25 0.   0.   0.   0.   0.   0.25 0.\n",
      "  0.   0.  ]\n",
      " [0.   0.25 0.   0.   0.5  0.   0.   0.   0.   0.   0.   0.25 0.   0.\n",
      "  0.   0.  ]\n",
      " [0.   0.   0.25 0.   0.   0.5  0.   0.   0.25 0.   0.   0.   0.   0.\n",
      "  0.   0.  ]\n",
      " [0.   0.   0.   0.25 0.   0.   0.5  0.   0.   0.25 0.   0.   0.   0.\n",
      "  0.   0.  ]\n",
      " [0.25 0.   0.   0.   0.   0.   0.   0.5  0.   0.   0.25 0.   0.   0.\n",
      "  0.   0.  ]\n",
      " [0.   0.   0.   0.   0.   0.25 0.   0.   0.5  0.   0.   0.   0.   0.\n",
      "  0.   0.25]\n",
      " [0.   0.   0.   0.   0.   0.   0.25 0.   0.   0.5  0.   0.   0.25 0.\n",
      "  0.   0.  ]\n",
      " [0.   0.   0.   0.   0.   0.   0.   0.25 0.   0.   0.5  0.   0.   0.25\n",
      "  0.   0.  ]\n",
      " [0.   0.   0.   0.   0.25 0.   0.   0.   0.   0.   0.   0.5  0.   0.\n",
      "  0.25 0.  ]\n",
      " [0.   0.   0.   0.25 0.   0.   0.   0.   0.   0.25 0.   0.   0.5  0.\n",
      "  0.   0.  ]\n",
      " [0.25 0.   0.   0.   0.   0.   0.   0.   0.   0.   0.25 0.   0.   0.5\n",
      "  0.   0.  ]\n",
      " [0.   0.25 0.   0.   0.   0.   0.   0.   0.   0.   0.   0.25 0.   0.\n",
      "  0.5  0.  ]\n",
      " [0.   0.   0.25 0.   0.   0.   0.   0.   0.25 0.   0.   0.   0.   0.\n",
      "  0.   0.5 ]]\n",
      "P1 term is not proportional to a unitary matrix\n"
     ]
    }
   ],
   "source": [
    "normalized_P1_term = P1_term / np.linalg.norm(P1_term,ord=2)\n",
    "print((normalized_P1_term @ normalized_P1_term.T).real)\n",
    "if np.allclose(normalized_P1_term @ normalized_P1_term.T, np.eye(16)):\n",
    "    print(\"P1 term is proportional to a unitary matrix\")\n",
    "else:\n",
    "    print(\"P1 term is not proportional to a unitary matrix\")"
   ],
   "metadata": {
    "collapsed": false,
    "ExecuteTime": {
     "end_time": "2024-07-17T22:33:10.790047Z",
     "start_time": "2024-07-17T22:33:10.777654Z"
    }
   },
   "id": "d0cff59ed258060e",
   "execution_count": 80
  },
  {
   "cell_type": "code",
   "outputs": [
    {
     "name": "stdout",
     "output_type": "stream",
     "text": [
      "[[0. 0. 0. 1. 0. 0. 0. 0. 0. 0. 0. 0. 1. 0. 0. 0.]\n",
      " [1. 0. 0. 0. 0. 0. 0. 0. 0. 0. 0. 0. 0. 1. 0. 0.]\n",
      " [0. 1. 0. 0. 0. 0. 0. 0. 0. 0. 0. 0. 0. 0. 1. 0.]\n",
      " [0. 0. 1. 0. 0. 0. 0. 0. 0. 0. 0. 0. 0. 0. 0. 1.]\n",
      " [1. 0. 0. 0. 0. 0. 0. 1. 0. 0. 0. 0. 0. 0. 0. 0.]\n",
      " [0. 1. 0. 0. 1. 0. 0. 0. 0. 0. 0. 0. 0. 0. 0. 0.]\n",
      " [0. 0. 1. 0. 0. 1. 0. 0. 0. 0. 0. 0. 0. 0. 0. 0.]\n",
      " [0. 0. 0. 1. 0. 0. 1. 0. 0. 0. 0. 0. 0. 0. 0. 0.]\n",
      " [0. 0. 0. 0. 1. 0. 0. 0. 0. 0. 0. 1. 0. 0. 0. 0.]\n",
      " [0. 0. 0. 0. 0. 1. 0. 0. 1. 0. 0. 0. 0. 0. 0. 0.]\n",
      " [0. 0. 0. 0. 0. 0. 1. 0. 0. 1. 0. 0. 0. 0. 0. 0.]\n",
      " [0. 0. 0. 0. 0. 0. 0. 1. 0. 0. 1. 0. 0. 0. 0. 0.]\n",
      " [0. 0. 0. 0. 0. 0. 0. 0. 1. 0. 0. 0. 0. 0. 0. 1.]\n",
      " [0. 0. 0. 0. 0. 0. 0. 0. 0. 1. 0. 0. 1. 0. 0. 0.]\n",
      " [0. 0. 0. 0. 0. 0. 0. 0. 0. 0. 1. 0. 0. 1. 0. 0.]\n",
      " [0. 0. 0. 0. 0. 0. 0. 0. 0. 0. 0. 1. 0. 0. 1. 0.]]\n"
     ]
    },
    {
     "data": {
      "text/plain": "<matplotlib.colorbar.Colorbar at 0x122b875f0>"
     },
     "execution_count": 81,
     "metadata": {},
     "output_type": "execute_result"
    },
    {
     "data": {
      "text/plain": "<Figure size 480x480 with 2 Axes>",
      "image/png": "[encoded data removed]"
     },
     "metadata": {},
     "output_type": "display_data"
    }
   ],
   "source": [
    "P3_term = np.kron(P3, I_4) + np.kron(I_4, P3)\n",
    "print(P3_term.real)\n",
    "plt.matshow(P3_term.real)\n",
    "plt.colorbar()"
   ],
   "metadata": {
    "collapsed": false,
    "ExecuteTime": {
     "end_time": "2024-07-17T22:33:11.130850Z",
     "start_time": "2024-07-17T22:33:10.789400Z"
    }
   },
   "id": "4f27826e6b48c086",
   "execution_count": 81
  },
  {
   "cell_type": "markdown",
   "source": [
    "This is not a unitary matrix since it is symmetric to $P_1$ term."
   ],
   "metadata": {
    "collapsed": false
   },
   "id": "98515c70a63c8fc9"
  },
  {
   "cell_type": "markdown",
   "source": [
    "The result looks bad but P1 term and P3 term looks symmetric.\n",
    "Let's try to add them together and see what happens."
   ],
   "metadata": {
    "collapsed": false
   },
   "id": "96a5ff891c9ff341"
  },
  {
   "cell_type": "code",
   "outputs": [
    {
     "name": "stdout",
     "output_type": "stream",
     "text": [
      "[[0. 1. 0. 1. 1. 0. 0. 0. 0. 0. 0. 0. 1. 0. 0. 0.]\n",
      " [1. 0. 1. 0. 0. 1. 0. 0. 0. 0. 0. 0. 0. 1. 0. 0.]\n",
      " [0. 1. 0. 1. 0. 0. 1. 0. 0. 0. 0. 0. 0. 0. 1. 0.]\n",
      " [1. 0. 1. 0. 0. 0. 0. 1. 0. 0. 0. 0. 0. 0. 0. 1.]\n",
      " [1. 0. 0. 0. 0. 1. 0. 1. 1. 0. 0. 0. 0. 0. 0. 0.]\n",
      " [0. 1. 0. 0. 1. 0. 1. 0. 0. 1. 0. 0. 0. 0. 0. 0.]\n",
      " [0. 0. 1. 0. 0. 1. 0. 1. 0. 0. 1. 0. 0. 0. 0. 0.]\n",
      " [0. 0. 0. 1. 1. 0. 1. 0. 0. 0. 0. 1. 0. 0. 0. 0.]\n",
      " [0. 0. 0. 0. 1. 0. 0. 0. 0. 1. 0. 1. 1. 0. 0. 0.]\n",
      " [0. 0. 0. 0. 0. 1. 0. 0. 1. 0. 1. 0. 0. 1. 0. 0.]\n",
      " [0. 0. 0. 0. 0. 0. 1. 0. 0. 1. 0. 1. 0. 0. 1. 0.]\n",
      " [0. 0. 0. 0. 0. 0. 0. 1. 1. 0. 1. 0. 0. 0. 0. 1.]\n",
      " [1. 0. 0. 0. 0. 0. 0. 0. 1. 0. 0. 0. 0. 1. 0. 1.]\n",
      " [0. 1. 0. 0. 0. 0. 0. 0. 0. 1. 0. 0. 1. 0. 1. 0.]\n",
      " [0. 0. 1. 0. 0. 0. 0. 0. 0. 0. 1. 0. 0. 1. 0. 1.]\n",
      " [0. 0. 0. 1. 0. 0. 0. 0. 0. 0. 0. 1. 1. 0. 1. 0.]]\n"
     ]
    },
    {
     "data": {
      "text/plain": "<matplotlib.colorbar.Colorbar at 0x11ef605c0>"
     },
     "execution_count": 82,
     "metadata": {},
     "output_type": "execute_result"
    },
    {
     "data": {
      "text/plain": "<Figure size 480x480 with 2 Axes>",
      "image/png": "[encoded data removed]"
     },
     "metadata": {},
     "output_type": "display_data"
    }
   ],
   "source": [
    "P1_P3_term = P1_term + P3_term\n",
    "print(P1_P3_term.real)\n",
    "plt.matshow(P1_P3_term.real)\n",
    "plt.colorbar()"
   ],
   "metadata": {
    "collapsed": false,
    "ExecuteTime": {
     "end_time": "2024-07-17T22:33:11.471605Z",
     "start_time": "2024-07-17T22:33:11.129737Z"
    }
   },
   "id": "87bd6e67b3197b74",
   "execution_count": 82
  },
  {
   "cell_type": "markdown",
   "source": [
    "## Result\n",
    "$$\n",
    "L2 = 2 * (2 * I) + (-1) P1\\&P3term\\\\\n",
    "= 4 * I - P1\\&P3_term\n",
    "$$"
   ],
   "metadata": {
    "collapsed": false
   },
   "id": "7c1d09740fe77129"
  },
  {
   "cell_type": "markdown",
   "source": [
    "Now check if $P_1 \\& P_3$ term is proportional to the a unitary matrix"
   ],
   "metadata": {
    "collapsed": false
   },
   "id": "9085fb456aa29ef6"
  },
  {
   "cell_type": "code",
   "outputs": [
    {
     "name": "stdout",
     "output_type": "stream",
     "text": [
      "[[0.25  0.    0.125 0.    0.    0.125 0.    0.125 0.125 0.    0.    0.\n",
      "  0.    0.125 0.    0.125]\n",
      " [0.    0.25  0.    0.125 0.125 0.    0.125 0.    0.    0.125 0.    0.\n",
      "  0.125 0.    0.125 0.   ]\n",
      " [0.125 0.    0.25  0.    0.    0.125 0.    0.125 0.    0.    0.125 0.\n",
      "  0.    0.125 0.    0.125]\n",
      " [0.    0.125 0.    0.25  0.125 0.    0.125 0.    0.    0.    0.    0.125\n",
      "  0.125 0.    0.125 0.   ]\n",
      " [0.    0.125 0.    0.125 0.25  0.    0.125 0.    0.    0.125 0.    0.125\n",
      "  0.125 0.    0.    0.   ]\n",
      " [0.125 0.    0.125 0.    0.    0.25  0.    0.125 0.125 0.    0.125 0.\n",
      "  0.    0.125 0.    0.   ]\n",
      " [0.    0.125 0.    0.125 0.125 0.    0.25  0.    0.    0.125 0.    0.125\n",
      "  0.    0.    0.125 0.   ]\n",
      " [0.125 0.    0.125 0.    0.    0.125 0.    0.25  0.125 0.    0.125 0.\n",
      "  0.    0.    0.    0.125]\n",
      " [0.125 0.    0.    0.    0.    0.125 0.    0.125 0.25  0.    0.125 0.\n",
      "  0.    0.125 0.    0.125]\n",
      " [0.    0.125 0.    0.    0.125 0.    0.125 0.    0.    0.25  0.    0.125\n",
      "  0.125 0.    0.125 0.   ]\n",
      " [0.    0.    0.125 0.    0.    0.125 0.    0.125 0.125 0.    0.25  0.\n",
      "  0.    0.125 0.    0.125]\n",
      " [0.    0.    0.    0.125 0.125 0.    0.125 0.    0.    0.125 0.    0.25\n",
      "  0.125 0.    0.125 0.   ]\n",
      " [0.    0.125 0.    0.125 0.125 0.    0.    0.    0.    0.125 0.    0.125\n",
      "  0.25  0.    0.125 0.   ]\n",
      " [0.125 0.    0.125 0.    0.    0.125 0.    0.    0.125 0.    0.125 0.\n",
      "  0.    0.25  0.    0.125]\n",
      " [0.    0.125 0.    0.125 0.    0.    0.125 0.    0.    0.125 0.    0.125\n",
      "  0.125 0.    0.25  0.   ]\n",
      " [0.125 0.    0.125 0.    0.    0.    0.    0.125 0.125 0.    0.125 0.\n",
      "  0.    0.125 0.    0.25 ]]\n",
      "P1&P3 term is not proportional to a unitary matrix\n"
     ]
    }
   ],
   "source": [
    "normalized_P1_P3_term = P1_P3_term / np.linalg.norm(P1_P3_term,ord=2)\n",
    "print((normalized_P1_P3_term @ normalized_P1_P3_term.T).real)\n",
    "if np.allclose(normalized_P1_P3_term @ normalized_P1_P3_term.T, np.eye(16)):\n",
    "    print(\"P1&P3 term is proportional to a unitary matrix\")\n",
    "else:\n",
    "    print(\"P1&P3 term is not proportional to a unitary matrix\")"
   ],
   "metadata": {
    "collapsed": false,
    "ExecuteTime": {
     "end_time": "2024-07-17T22:33:11.487623Z",
     "start_time": "2024-07-17T22:33:11.475005Z"
    }
   },
   "id": "fef7ad8c976fe213",
   "execution_count": 83
  },
  {
   "cell_type": "markdown",
   "source": [
    "So, $ P_1 \\& P_3 $ term is not a unitary matrix or a scaled unitary matrix."
   ],
   "metadata": {
    "collapsed": false
   },
   "id": "d78b6b359e224ac3"
  },
  {
   "cell_type": "markdown",
   "source": [
    "### Need more property of this matrix."
   ],
   "metadata": {
    "collapsed": false
   },
   "id": "a6bcaab368deec06"
  },
  {
   "cell_type": "markdown",
   "source": [
    "Can we make it a summation of a banded, circulant and symmetric matrix or toeplitz matrix, or any easier structure can be used to implement?"
   ],
   "metadata": {
    "collapsed": false
   },
   "id": "23ead44e516bb34f"
  },
  {
   "cell_type": "code",
   "outputs": [
    {
     "name": "stdout",
     "output_type": "stream",
     "text": [
      "[[0. 1. 0. 0. 1. 0. 0. 0. 0. 0. 0. 0. 1. 0. 0. 1.]\n",
      " [1. 0. 1. 0. 0. 1. 0. 0. 0. 0. 0. 0. 0. 1. 0. 0.]\n",
      " [0. 1. 0. 1. 0. 0. 1. 0. 0. 0. 0. 0. 0. 0. 1. 0.]\n",
      " [0. 0. 1. 0. 1. 0. 0. 1. 0. 0. 0. 0. 0. 0. 0. 1.]\n",
      " [1. 0. 0. 1. 0. 1. 0. 0. 1. 0. 0. 0. 0. 0. 0. 0.]\n",
      " [0. 1. 0. 0. 1. 0. 1. 0. 0. 1. 0. 0. 0. 0. 0. 0.]\n",
      " [0. 0. 1. 0. 0. 1. 0. 1. 0. 0. 1. 0. 0. 0. 0. 0.]\n",
      " [0. 0. 0. 1. 0. 0. 1. 0. 1. 0. 0. 1. 0. 0. 0. 0.]\n",
      " [0. 0. 0. 0. 1. 0. 0. 1. 0. 1. 0. 0. 1. 0. 0. 0.]\n",
      " [0. 0. 0. 0. 0. 1. 0. 0. 1. 0. 1. 0. 0. 1. 0. 0.]\n",
      " [0. 0. 0. 0. 0. 0. 1. 0. 0. 1. 0. 1. 0. 0. 1. 0.]\n",
      " [0. 0. 0. 0. 0. 0. 0. 1. 0. 0. 1. 0. 1. 0. 0. 1.]\n",
      " [1. 0. 0. 0. 0. 0. 0. 0. 1. 0. 0. 1. 0. 1. 0. 0.]\n",
      " [0. 1. 0. 0. 0. 0. 0. 0. 0. 1. 0. 0. 1. 0. 1. 0.]\n",
      " [0. 0. 1. 0. 0. 0. 0. 0. 0. 0. 1. 0. 0. 1. 0. 1.]\n",
      " [1. 0. 0. 1. 0. 0. 0. 0. 0. 0. 0. 1. 0. 0. 1. 0.]]\n",
      "[[ 0.  0.  0.  1.  0.  0.  0.  0.  0.  0.  0.  0.  0.  0.  0. -1.]\n",
      " [ 0.  0.  0.  0.  0.  0.  0.  0.  0.  0.  0.  0.  0.  0.  0.  0.]\n",
      " [ 0.  0.  0.  0.  0.  0.  0.  0.  0.  0.  0.  0.  0.  0.  0.  0.]\n",
      " [ 1.  0.  0.  0. -1.  0.  0.  0.  0.  0.  0.  0.  0.  0.  0.  0.]\n",
      " [ 0.  0.  0. -1.  0.  0.  0.  1.  0.  0.  0.  0.  0.  0.  0.  0.]\n",
      " [ 0.  0.  0.  0.  0.  0.  0.  0.  0.  0.  0.  0.  0.  0.  0.  0.]\n",
      " [ 0.  0.  0.  0.  0.  0.  0.  0.  0.  0.  0.  0.  0.  0.  0.  0.]\n",
      " [ 0.  0.  0.  0.  1.  0.  0.  0. -1.  0.  0.  0.  0.  0.  0.  0.]\n",
      " [ 0.  0.  0.  0.  0.  0.  0. -1.  0.  0.  0.  1.  0.  0.  0.  0.]\n",
      " [ 0.  0.  0.  0.  0.  0.  0.  0.  0.  0.  0.  0.  0.  0.  0.  0.]\n",
      " [ 0.  0.  0.  0.  0.  0.  0.  0.  0.  0.  0.  0.  0.  0.  0.  0.]\n",
      " [ 0.  0.  0.  0.  0.  0.  0.  0.  1.  0.  0.  0. -1.  0.  0.  0.]\n",
      " [ 0.  0.  0.  0.  0.  0.  0.  0.  0.  0.  0. -1.  0.  0.  0.  1.]\n",
      " [ 0.  0.  0.  0.  0.  0.  0.  0.  0.  0.  0.  0.  0.  0.  0.  0.]\n",
      " [ 0.  0.  0.  0.  0.  0.  0.  0.  0.  0.  0.  0.  0.  0.  0.  0.]\n",
      " [-1.  0.  0.  0.  0.  0.  0.  0.  0.  0.  0.  0.  1.  0.  0.  0.]]\n"
     ]
    },
    {
     "data": {
      "text/plain": "<matplotlib.colorbar.Colorbar at 0x122e27f80>"
     },
     "execution_count": 85,
     "metadata": {},
     "output_type": "execute_result"
    },
    {
     "data": {
      "text/plain": "<Figure size 480x480 with 2 Axes>",
      "image/png": "[encoded data removed]"
     },
     "metadata": {},
     "output_type": "display_data"
    },
    {
     "data": {
      "text/plain": "<Figure size 480x480 with 2 Axes>",
      "image/png": "[encoded data removed]"
     },
     "metadata": {},
     "output_type": "display_data"
    }
   ],
   "source": [
    "identical_banded_P1_P3_term = np.array([\n",
    "    [0., 1., 0., 0., 1., 0., 0., 0., 0., 0., 0., 0., 1., 0., 0., 1.],\n",
    "    [1., 0., 1., 0., 0., 1., 0., 0., 0., 0., 0., 0., 0., 1., 0., 0.],\n",
    "    [0., 1., 0., 1., 0., 0., 1., 0., 0., 0., 0., 0., 0., 0., 1., 0.],\n",
    "    [0., 0., 1., 0., 1., 0., 0., 1., 0., 0., 0., 0., 0., 0., 0., 1.],\n",
    "    [1., 0., 0., 1., 0., 1., 0., 0., 1., 0., 0., 0., 0., 0., 0., 0.],\n",
    "    [0., 1., 0., 0., 1., 0., 1., 0., 0., 1., 0., 0., 0., 0., 0., 0.],\n",
    "    [0., 0., 1., 0., 0., 1., 0., 1., 0., 0., 1., 0., 0., 0., 0., 0.],\n",
    "    [0., 0., 0., 1., 0., 0., 1., 0., 1., 0., 0., 1., 0., 0., 0., 0.],\n",
    "    [0., 0., 0., 0., 1., 0., 0., 1., 0., 1., 0., 0., 1., 0., 0., 0.],\n",
    "    [0., 0., 0., 0., 0., 1., 0., 0., 1., 0., 1., 0., 0., 1., 0., 0.],\n",
    "    [0., 0., 0., 0., 0., 0., 1., 0., 0., 1., 0., 1., 0., 0., 1., 0.],\n",
    "    [0., 0., 0., 0., 0., 0., 0., 1., 0., 0., 1., 0., 1., 0., 0., 1.],\n",
    "    [1., 0., 0., 0., 0., 0., 0., 0., 1., 0., 0., 1., 0., 1., 0., 0.],\n",
    "    [0., 1., 0., 0., 0., 0., 0., 0., 0., 1., 0., 0., 1., 0., 1., 0.],\n",
    "    [0., 0., 1., 0., 0., 0., 0., 0., 0., 0., 1., 0., 0., 1., 0., 1.],\n",
    "    [1., 0., 0., 1., 0., 0., 0., 0., 0., 0., 0., 1., 0., 0., 1., 0.]\n",
    "])\n",
    "print(identical_banded_P1_P3_term)\n",
    "plt.matshow(identical_banded_P1_P3_term)\n",
    "plt.colorbar()\n",
    "\n",
    "complement_banded_P1_P3_term = P1_P3_term - identical_banded_P1_P3_term\n",
    "print(complement_banded_P1_P3_term.real)\n",
    "plt.matshow(complement_banded_P1_P3_term.real)\n",
    "plt.colorbar()"
   ],
   "metadata": {
    "collapsed": false,
    "ExecuteTime": {
     "end_time": "2024-07-17T22:34:25.620286Z",
     "start_time": "2024-07-17T22:34:24.896798Z"
    }
   },
   "id": "a87d718c7a08c8f7",
   "execution_count": 85
  },
  {
   "cell_type": "markdown",
   "source": [
    "This shows that the matrix can be represented by a b,c,s matrix and a complement matrix which is very sparse.\n",
    "Then, with this idea, what is needed is (1) the implementation of banded, circulant, and symmetric matrix and (2) the implementation of the complement matrix (3) the addition of these two matrices.(1) is known and can be implemented by the LCU,"
   ],
   "metadata": {
    "collapsed": false
   },
   "id": "b6268b4bced495ac"
  },
  {
   "cell_type": "markdown",
   "source": [
    "## Specific implementation for the banded, circulant, and symmetric matrix part\n",
    "(Comin soon)"
   ],
   "metadata": {
    "collapsed": false
   },
   "id": "5f8c91de30ad54ba"
  },
  {
   "cell_type": "markdown",
   "source": [
    "## implementation for the complement, sparce matrix part\n",
    "For this kind of "
   ],
   "metadata": {
    "collapsed": false
   },
   "id": "399aecbda086b71e"
  },
  {
   "cell_type": "markdown",
   "source": [
    "## Another idea\n",
    "Can we use smaller fine-strucutre matrices to represent the larger matrix?\n",
    "For example:\n",
    "Could we find A, B, C, D, E, F that is fine-structured matrices such that\n",
    "$$\n",
    "P_1 \\& P_3 = \\begin{bmatrix}\n",
    "A & B \\\\\n",
    "B & C\n",
    "\\end{bmatrix} + \\begin{bmatrix}\n",
    "D & E \\\\\n",
    "E & F\n",
    "\\end{bmatrix}\n",
    "$$"
   ],
   "metadata": {
    "collapsed": false
   },
   "id": "fb48a4ff00becd7c"
  },
  {
   "cell_type": "code",
   "outputs": [],
   "source": [],
   "metadata": {
    "collapsed": false
   },
   "id": "920745cb84da7331"
  }
 ],
 "metadata": {
  "kernelspec": {
   "display_name": "Python 3",
   "language": "python",
   "name": "python3"
  },
  "language_info": {
   "codemirror_mode": {
    "name": "ipython",
    "version": 2
   },
   "file_extension": ".py",
   "mimetype": "text/x-python",
   "name": "python",
   "nbconvert_exporter": "python",
   "pygments_lexer": "ipython2",
   "version": "2.7.6"
  }
 },
 "nbformat": 4,
 "nbformat_minor": 5
}
